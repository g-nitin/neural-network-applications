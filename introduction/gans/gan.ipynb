{
 "cells": [
  {
   "cell_type": "markdown",
   "id": "74893429",
   "metadata": {},
   "source": [
    "# GANs\n",
    "\n",
    "This is a _gentle_ introduction to GANs using [GANs from Scratch 1: A deep introduction. With code in PyTorch and TensorFlow](https://medium.com/ai-society/gans-from-scratch-1-a-deep-introduction-with-code-in-pytorch-and-tensorflow-cb03cdcdba0f).\n"
   ]
  },
  {
   "cell_type": "code",
   "execution_count": null,
   "id": "b7849898",
   "metadata": {},
   "outputs": [],
   "source": [
    "# Imports and setup: bring in network classes, logging helper, and PyTorch libs\n",
    "from utils import Logger, DiscriminatorNet, GeneratorNet\n",
    "from IPython import display\n",
    "import torch\n",
    "from torch import nn, optim\n",
    "from torch.autograd.variable import Variable\n",
    "from torchvision import transforms, datasets\n",
    "\n",
    "# Local folder to store MNIST dataset and related torch files\n",
    "DATA_FOLDER = \"./torch_data/VGAN/MNIST\""
   ]
  },
  {
   "cell_type": "markdown",
   "id": "a2c23664",
   "metadata": {},
   "source": [
    "### Data Acquisition\n"
   ]
  },
  {
   "cell_type": "code",
   "execution_count": null,
   "id": "90479c2a",
   "metadata": {},
   "outputs": [],
   "source": [
    "# Prepare MNIST dataset with normalization and convert to tensors\n",
    "def mnist_data():\n",
    "    compose = transforms.Compose(\n",
    "        [transforms.ToTensor(), transforms.Normalize([0.5], [0.5])]\n",
    "    )\n",
    "    # store downloaded dataset under DATA_FOLDER/dataset\n",
    "    out_dir = \"{}/dataset\".format(DATA_FOLDER)\n",
    "    return datasets.MNIST(root=out_dir, train=True, transform=compose, download=True)\n",
    "\n",
    "\n",
    "# load the dataset into memory (or download if missing)\n",
    "data = mnist_data()\n",
    "\n",
    "# Create loader with data, so that we can iterate over it in batches\n",
    "data_loader = torch.utils.data.DataLoader(data, batch_size=100, shuffle=True)\n",
    "\n",
    "# Number of minibatches per epoch\n",
    "num_batches = len(data_loader)"
   ]
  },
  {
   "cell_type": "markdown",
   "id": "d1da1eb9",
   "metadata": {},
   "source": [
    "## Networks\n"
   ]
  },
  {
   "cell_type": "code",
   "execution_count": null,
   "id": "dcb9f2ce",
   "metadata": {},
   "outputs": [],
   "source": [
    "# Helpers to reshape MNIST images (28x28) to flat vectors and back\n",
    "def images_to_vectors(images):\n",
    "    # flatten batch of images to shape (batch_size, 784)\n",
    "    return images.view(images.size(0), 784)\n",
    "\n",
    "\n",
    "def vectors_to_images(vectors):\n",
    "    # reshape flat vectors back to (batch_size, 1, 28, 28) for display\n",
    "    return vectors.view(vectors.size(0), 1, 28, 28)"
   ]
  },
  {
   "cell_type": "code",
   "execution_count": null,
   "id": "b239c866",
   "metadata": {},
   "outputs": [],
   "source": [
    "# Random noise generator: input to the generator model\n",
    "def noise(size):\n",
    "    \"\"\"\n",
    "    Generates a 1-d vector of gaussian sampled random values\n",
    "    \"\"\"\n",
    "    n = Variable(torch.randn(size, 100))\n",
    "    # move noise to GPU if available\n",
    "    if torch.cuda.is_available():\n",
    "        return n.cuda()\n",
    "    return n"
   ]
  },
  {
   "cell_type": "code",
   "execution_count": null,
   "id": "bfced41c",
   "metadata": {},
   "outputs": [],
   "source": [
    "# Instantiate networks and move them to GPU if available\n",
    "discriminator = DiscriminatorNet()\n",
    "generator = GeneratorNet()\n",
    "if torch.cuda.is_available():\n",
    "    discriminator.cuda()\n",
    "    generator.cuda()"
   ]
  },
  {
   "cell_type": "markdown",
   "id": "4d477c44",
   "metadata": {},
   "source": [
    "## Optimization\n"
   ]
  },
  {
   "cell_type": "code",
   "execution_count": null,
   "id": "5a1b209f",
   "metadata": {},
   "outputs": [],
   "source": [
    "# Training setup: optimizers, loss, and training hyperparameters\n",
    "d_optimizer = optim.Adam(discriminator.parameters(), lr=0.0002)\n",
    "g_optimizer = optim.Adam(generator.parameters(), lr=0.0002)\n",
    "\n",
    "# Binary cross-entropy used because discriminator outputs probability of real/fake\n",
    "loss = nn.BCELoss()\n",
    "\n",
    "# How many times to update discriminator per generator update (commonly 1)\n",
    "d_steps = 1  # In Goodfellow et. al 2014 this variable is assigned to 1\n",
    "\n",
    "# Number of epochs to train over the dataset\n",
    "num_epochs = 200"
   ]
  },
  {
   "cell_type": "markdown",
   "id": "2b4bdc48",
   "metadata": {},
   "source": [
    "## Training\n"
   ]
  },
  {
   "cell_type": "code",
   "execution_count": null,
   "id": "ed0ae458",
   "metadata": {},
   "outputs": [],
   "source": [
    "# Helper functions that produce label tensors for real (1) and fake (0) targets\n",
    "def real_data_target(size):\n",
    "    \"\"\"\n",
    "    Tensor containing ones, with shape = size\n",
    "    \"\"\"\n",
    "    data = Variable(torch.ones(size, 1))\n",
    "    # move to GPU if available\n",
    "    if torch.cuda.is_available():\n",
    "        return data.cuda()\n",
    "    return data\n",
    "\n",
    "\n",
    "def fake_data_target(size):\n",
    "    \"\"\"\n",
    "    Tensor containing zeros, with shape = size\n",
    "    \"\"\"\n",
    "    data = Variable(torch.zeros(size, 1))\n",
    "    if torch.cuda.is_available():\n",
    "        return data.cuda()\n",
    "    return data"
   ]
  },
  {
   "cell_type": "code",
   "execution_count": null,
   "id": "611e82eb",
   "metadata": {},
   "outputs": [],
   "source": [
    "# Training step implementations for discriminator and generator\n",
    "def train_discriminator(optimizer, real_data, fake_data):\n",
    "    # Reset gradients\n",
    "    optimizer.zero_grad()\n",
    "\n",
    "    # 1.1 Train on Real Data: discriminator should predict 1 for real samples\n",
    "    prediction_real = discriminator(real_data)\n",
    "    # Calculate error and backpropagate\n",
    "    error_real = loss(prediction_real, real_data_target(real_data.size(0)))\n",
    "    error_real.backward()\n",
    "\n",
    "    # 1.2 Train on Fake Data: discriminator should predict 0 for fake samples\n",
    "    prediction_fake = discriminator(fake_data)\n",
    "    # Calculate error and backpropagate\n",
    "    error_fake = loss(prediction_fake, fake_data_target(real_data.size(0)))\n",
    "    error_fake.backward()\n",
    "\n",
    "    # 1.3 Update weights with gradients\n",
    "    optimizer.step()\n",
    "\n",
    "    # Return error and raw predictions for logging\n",
    "    return error_real + error_fake, prediction_real, prediction_fake\n",
    "\n",
    "\n",
    "def train_generator(optimizer, fake_data):\n",
    "    # 2. Train Generator: goal is to fool discriminator into predicting real (1)\n",
    "    # Reset gradients\n",
    "    optimizer.zero_grad()\n",
    "    # Evaluate discriminator on fake data\n",
    "    prediction = discriminator(fake_data)\n",
    "    # Calculate error against 'real' labels so generator learns to produce realistic samples\n",
    "    error = loss(prediction, real_data_target(prediction.size(0)))\n",
    "    error.backward()\n",
    "    # Update weights with gradients\n",
    "    optimizer.step()\n",
    "    # Return error\n",
    "    return error"
   ]
  },
  {
   "cell_type": "markdown",
   "id": "49a6c334",
   "metadata": {},
   "source": [
    "## Generate Samples for Testing\n"
   ]
  },
  {
   "cell_type": "code",
   "execution_count": null,
   "id": "c3e7a42f",
   "metadata": {},
   "outputs": [],
   "source": [
    "# Prepare fixed noise used for evaluating generator progress across iterations\n",
    "num_test_samples = 16\n",
    "test_noise = noise(num_test_samples)"
   ]
  },
  {
   "cell_type": "markdown",
   "id": "c73242a1",
   "metadata": {},
   "source": [
    "## Training\n"
   ]
  },
  {
   "cell_type": "code",
   "execution_count": null,
   "id": "39e25ca1",
   "metadata": {},
   "outputs": [
    {
     "data": {
      "image/png": "[encoded data removed]",
      "text/plain": [
       "<Figure size 1600x1600 with 1 Axes>"
      ]
     },
     "metadata": {},
     "output_type": "display_data"
    },
    {
     "name": "stdout",
     "output_type": "stream",
     "text": [
      "Epoch: [199/200], Batch Num: [500/600]\n",
      "Discriminator Loss: 1.2958, Generator Loss: 0.8684\n",
      "D(x): 0.5625, D(G(z)): 0.4670\n"
     ]
    }
   ],
   "source": [
    "# Main training loop: iterate epochs and minibatches, update D then G, and log progress\n",
    "logger = Logger(model_name=\"VGAN\", data_name=\"MNIST\")\n",
    "\n",
    "for epoch in range(num_epochs):\n",
    "    for n_batch, (real_batch, _) in enumerate(data_loader):\n",
    "        # 1. Train Discriminator\n",
    "        real_data = Variable(images_to_vectors(real_batch))\n",
    "        if torch.cuda.is_available():\n",
    "            real_data = real_data.cuda()\n",
    "        # Generate fake data from generator and detach so gradients don't flow into G here\n",
    "        fake_data = generator(noise(real_data.size(0))).detach()\n",
    "        # Train D\n",
    "        d_error, d_pred_real, d_pred_fake = train_discriminator(\n",
    "            d_optimizer, real_data, fake_data\n",
    "        )\n",
    "\n",
    "        # 2. Train Generator\n",
    "        # Generate fake data (this time we don't detach because we want gradients to flow to G)\n",
    "        fake_data = generator(noise(real_batch.size(0)))\n",
    "        # Train G\n",
    "        g_error = train_generator(g_optimizer, fake_data)\n",
    "        # Log error\n",
    "        logger.log(d_error, g_error, epoch, n_batch, num_batches)\n",
    "\n",
    "        # Display Progress periodically\n",
    "        if (n_batch) % 100 == 0:\n",
    "            display.clear_output(True)\n",
    "            # Display Images generated from the fixed test noise\n",
    "            test_images = vectors_to_images(generator(test_noise)).data.cpu()\n",
    "            logger.log_images(\n",
    "                test_images, num_test_samples, epoch, n_batch, num_batches\n",
    "            )\n",
    "            # Display status Logs\n",
    "            logger.display_status(\n",
    "                epoch,\n",
    "                num_epochs,\n",
    "                n_batch,\n",
    "                num_batches,\n",
    "                d_error,\n",
    "                g_error,\n",
    "                d_pred_real,\n",
    "                d_pred_fake,\n",
    "            )\n",
    "        # Model Checkpoints: save model state each iteration (logger decides cadence)\n",
    "        logger.save_models(generator, discriminator, epoch)"
   ]
  }
 ],
 "metadata": {
  "kernelspec": {
   "display_name": "neural-network-applications",
   "language": "python",
   "name": "python3"
  },
  "language_info": {
   "codemirror_mode": {
    "name": "ipython",
    "version": 3
   },
   "file_extension": ".py",
   "mimetype": "text/x-python",
   "name": "python",
   "nbconvert_exporter": "python",
   "pygments_lexer": "ipython3",
   "version": "3.12.10"
  }
 },
 "nbformat": 4,
 "nbformat_minor": 5
}
