{
 "cells": [],
 "metadata": {
  "kernelspec": {
   "display_name": "neural-network-applications",
   "language": "python",
   "name": "python3"
  },
  "language_info": {
   "name": "python",
   "version": "3.12.10"
  }
 },
 "nbformat": 4,
 "nbformat_minor": 5
}
