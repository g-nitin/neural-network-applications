{
 "cells": [
  {
   "cell_type": "markdown",
   "id": "3aa75911",
   "metadata": {},
   "source": [
    "# Handwritten Digit Classification\n",
    "\n",
    "This notebook shows how to classify number digits from MNIST following the article: [https://towardsdatascience.com/how-to-classify-handwritten-digits-in-python-7706b1ab93a3/](https://towardsdatascience.com/how-to-classify-handwritten-digits-in-python-7706b1ab93a3/).\n"
   ]
  },
  {
   "cell_type": "code",
   "execution_count": 22,
   "id": "5ae6daf2",
   "metadata": {},
   "outputs": [],
   "source": [
    "from collections import deque\n",
    "from pathlib import Path\n",
    "\n",
    "import matplotlib.pyplot as plt\n",
    "import matplotlib.ticker as mticker\n",
    "import numpy as np\n",
    "import pandas as pd\n",
    "\n",
    "from DNN import DNN\n",
    "\n",
    "np.random.seed(13)"
   ]
  },
  {
   "cell_type": "markdown",
   "id": "1447ef18",
   "metadata": {},
   "source": [
    "## Data and Exploration\n"
   ]
  },
  {
   "cell_type": "code",
   "execution_count": 2,
   "id": "9603bace",
   "metadata": {},
   "outputs": [
    {
     "data": {
      "application/vnd.microsoft.datawrangler.viewer.v0+json": {
       "columns": [
        {
         "name": "index",
         "rawType": "int64",
         "type": "integer"
        },
        {
         "name": "label",
         "rawType": "int64",
         "type": "integer"
        },
        {
         "name": "1x1",
         "rawType": "int64",
         "type": "integer"
        },
        {
         "name": "1x2",
         "rawType": "int64",
         "type": "integer"
        },
        {
         "name": "1x3",
         "rawType": "int64",
         "type": "integer"
        },
        {
         "name": "1x4",
         "rawType": "int64",
         "type": "integer"
        },
        {
         "name": "1x5",
         "rawType": "int64",
         "type": "integer"
        },
        {
         "name": "1x6",
         "rawType": "int64",
         "type": "integer"
        },
        {
         "name": "1x7",
         "rawType": "int64",
         "type": "integer"
        },
        {
         "name": "1x8",
         "rawType": "int64",
         "type": "integer"
        },
        {
         "name": "1x9",
         "rawType": "int64",
         "type": "integer"
        },
        {
         "name": "1x10",
         "rawType": "int64",
         "type": "integer"
        },
        {
         "name": "1x11",
         "rawType": "int64",
         "type": "integer"
        },
        {
         "name": "1x12",
         "rawType": "int64",
         "type": "integer"
        },
        {
         "name": "1x13",
         "rawType": "int64",
         "type": "integer"
        },
        {
         "name": "1x14",
         "rawType": "int64",
         "type": "integer"
        },
        {
         "name": "1x15",
         "rawType": "int64",
         "type": "integer"
        },
        {
         "name": "1x16",
         "rawType": "int64",
         "type": "integer"
        },
        {
         "name": "1x17",
         "rawType": "int64",
         "type": "integer"
        },
        {
         "name": "1x18",
         "rawType": "int64",
         "type": "integer"
        },
        {
         "name": "1x19",
         "rawType": "int64",
         "type": "integer"
        },
        {
         "name": "1x20",
         "rawType": "int64",
         "type": "integer"
        },
        {
         "name": "1x21",
         "rawType": "int64",
         "type": "integer"
        },
        {
         "name": "1x22",
         "rawType": "int64",
         "type": "integer"
        },
        {
         "name": "1x23",
         "rawType": "int64",
         "type": "integer"
        },
        {
         "name": "1x24",
         "rawType": "int64",
         "type": "integer"
        },
        {
         "name": "1x25",
         "rawType": "int64",
         "type": "integer"
        },
        {
         "name": "1x26",
         "rawType": "int64",
         "type": "integer"
        },
        {
         "name": "1x27",
         "rawType": "int64",
         "type": "integer"
        },
        {
         "name": "1x28",
         "rawType": "int64",
         "type": "integer"
        },
        {
         "name": "2x1",
         "rawType": "int64",
         "type": "integer"
        },
        {
         "name": "2x2",
         "rawType": "int64",
         "type": "integer"
        },
        {
         "name": "2x3",
         "rawType": "int64",
         "type": "integer"
        },
        {
         "name": "2x4",
         "rawType": "int64",
         "type": "integer"
        },
        {
         "name": "2x5",
         "rawType": "int64",
         "type": "integer"
        },
        {
         "name": "2x6",
         "rawType": "int64",
         "type": "integer"
        },
        {
         "name": "2x7",
         "rawType": "int64",
         "type": "integer"
        },
        {
         "name": "2x8",
         "rawType": "int64",
         "type": "integer"
        },
        {
         "name": "2x9",
         "rawType": "int64",
         "type": "integer"
        },
        {
         "name": "2x10",
         "rawType": "int64",
         "type": "integer"
        },
        {
         "name": "2x11",
         "rawType": "int64",
         "type": "integer"
        },
        {
         "name": "2x12",
         "rawType": "int64",
         "type": "integer"
        },
        {
         "name": "2x13",
         "rawType": "int64",
         "type": "integer"
        },
        {
         "name": "2x14",
         "rawType": "int64",
         "type": "integer"
        },
        {
         "name": "2x15",
         "rawType": "int64",
         "type": "integer"
        },
        {
         "name": "2x16",
         "rawType": "int64",
         "type": "integer"
        },
        {
         "name": "2x17",
         "rawType": "int64",
         "type": "integer"
        },
        {
         "name": "2x18",
         "rawType": "int64",
         "type": "integer"
        },
        {
         "name": "2x19",
         "rawType": "int64",
         "type": "integer"
        },
        {
         "name": "2x20",
         "rawType": "int64",
         "type": "integer"
        },
        {
         "name": "2x21",
         "rawType": "int64",
         "type": "integer"
        },
        {
         "name": "2x22",
         "rawType": "int64",
         "type": "integer"
        },
        {
         "name": "2x23",
         "rawType": "int64",
         "type": "integer"
        },
        {
         "name": "2x24",
         "rawType": "int64",
         "type": "integer"
        },
        {
         "name": "2x25",
         "rawType": "int64",
         "type": "integer"
        },
        {
         "name": "2x26",
         "rawType": "int64",
         "type": "integer"
        },
        {
         "name": "2x27",
         "rawType": "int64",
         "type": "integer"
        },
        {
         "name": "2x28",
         "rawType": "int64",
         "type": "integer"
        },
        {
         "name": "3x1",
         "rawType": "int64",
         "type": "integer"
        },
        {
         "name": "3x2",
         "rawType": "int64",
         "type": "integer"
        },
        {
         "name": "3x3",
         "rawType": "int64",
         "type": "integer"
        },
        {
         "name": "3x4",
         "rawType": "int64",
         "type": "integer"
        },
        {
         "name": "3x5",
         "rawType": "int64",
         "type": "integer"
        },
        {
         "name": "3x6",
         "rawType": "int64",
         "type": "integer"
        },
        {
         "name": "3x7",
         "rawType": "int64",
         "type": "integer"
        },
        {
         "name": "3x8",
         "rawType": "int64",
         "type": "integer"
        },
        {
         "name": "3x9",
         "rawType": "int64",
         "type": "integer"
        },
        {
         "name": "3x10",
         "rawType": "int64",
         "type": "integer"
        },
        {
         "name": "3x11",
         "rawType": "int64",
         "type": "integer"
        },
        {
         "name": "3x12",
         "rawType": "int64",
         "type": "integer"
        },
        {
         "name": "3x13",
         "rawType": "int64",
         "type": "integer"
        },
        {
         "name": "3x14",
         "rawType": "int64",
         "type": "integer"
        },
        {
         "name": "3x15",
         "rawType": "int64",
         "type": "integer"
        },
        {
         "name": "3x16",
         "rawType": "int64",
         "type": "integer"
        },
        {
         "name": "3x17",
         "rawType": "int64",
         "type": "integer"
        },
        {
         "name": "3x18",
         "rawType": "int64",
         "type": "integer"
        },
        {
         "name": "3x19",
         "rawType": "int64",
         "type": "integer"
        },
        {
         "name": "3x20",
         "rawType": "int64",
         "type": "integer"
        },
        {
         "name": "3x21",
         "rawType": "int64",
         "type": "integer"
        },
        {
         "name": "3x22",
         "rawType": "int64",
         "type": "integer"
        },
        {
         "name": "3x23",
         "rawType": "int64",
         "type": "integer"
        },
        {
         "name": "3x24",
         "rawType": "int64",
         "type": "integer"
        },
        {
         "name": "3x25",
         "rawType": "int64",
         "type": "integer"
        },
        {
         "name": "3x26",
         "rawType": "int64",
         "type": "integer"
        },
        {
         "name": "3x27",
         "rawType": "int64",
         "type": "integer"
        },
        {
         "name": "3x28",
         "rawType": "int64",
         "type": "integer"
        },
        {
         "name": "4x1",
         "rawType": "int64",
         "type": "integer"
        },
        {
         "name": "4x2",
         "rawType": "int64",
         "type": "integer"
        },
        {
         "name": "4x3",
         "rawType": "int64",
         "type": "integer"
        },
        {
         "name": "4x4",
         "rawType": "int64",
         "type": "integer"
        },
        {
         "name": "4x5",
         "rawType": "int64",
         "type": "integer"
        },
        {
         "name": "4x6",
         "rawType": "int64",
         "type": "integer"
        },
        {
         "name": "4x7",
         "rawType": "int64",
         "type": "integer"
        },
        {
         "name": "4x8",
         "rawType": "int64",
         "type": "integer"
        },
        {
         "name": "4x9",
         "rawType": "int64",
         "type": "integer"
        },
        {
         "name": "4x10",
         "rawType": "int64",
         "type": "integer"
        },
        {
         "name": "4x11",
         "rawType": "int64",
         "type": "integer"
        },
        {
         "name": "4x12",
         "rawType": "int64",
         "type": "integer"
        },
        {
         "name": "4x13",
         "rawType": "int64",
         "type": "integer"
        },
        {
         "name": "4x14",
         "rawType": "int64",
         "type": "integer"
        },
        {
         "name": "4x15",
         "rawType": "int64",
         "type": "integer"
        },
        {
         "name": "4x16",
         "rawType": "int64",
         "type": "integer"
        },
        {
         "name": "4x17",
         "rawType": "int64",
         "type": "integer"
        },
        {
         "name": "4x18",
         "rawType": "int64",
         "type": "integer"
        },
        {
         "name": "4x19",
         "rawType": "int64",
         "type": "integer"
        },
        {
         "name": "4x20",
         "rawType": "int64",
         "type": "integer"
        },
        {
         "name": "4x21",
         "rawType": "int64",
         "type": "integer"
        },
        {
         "name": "4x22",
         "rawType": "int64",
         "type": "integer"
        },
        {
         "name": "4x23",
         "rawType": "int64",
         "type": "integer"
        },
        {
         "name": "4x24",
         "rawType": "int64",
         "type": "integer"
        },
        {
         "name": "4x25",
         "rawType": "int64",
         "type": "integer"
        },
        {
         "name": "4x26",
         "rawType": "int64",
         "type": "integer"
        },
        {
         "name": "4x27",
         "rawType": "int64",
         "type": "integer"
        },
        {
         "name": "4x28",
         "rawType": "int64",
         "type": "integer"
        },
        {
         "name": "5x1",
         "rawType": "int64",
         "type": "integer"
        },
        {
         "name": "5x2",
         "rawType": "int64",
         "type": "integer"
        },
        {
         "name": "5x3",
         "rawType": "int64",
         "type": "integer"
        },
        {
         "name": "5x4",
         "rawType": "int64",
         "type": "integer"
        },
        {
         "name": "5x5",
         "rawType": "int64",
         "type": "integer"
        },
        {
         "name": "5x6",
         "rawType": "int64",
         "type": "integer"
        },
        {
         "name": "5x7",
         "rawType": "int64",
         "type": "integer"
        },
        {
         "name": "5x8",
         "rawType": "int64",
         "type": "integer"
        },
        {
         "name": "5x9",
         "rawType": "int64",
         "type": "integer"
        },
        {
         "name": "5x10",
         "rawType": "int64",
         "type": "integer"
        },
        {
         "name": "5x11",
         "rawType": "int64",
         "type": "integer"
        },
        {
         "name": "5x12",
         "rawType": "int64",
         "type": "integer"
        },
        {
         "name": "5x13",
         "rawType": "int64",
         "type": "integer"
        },
        {
         "name": "5x14",
         "rawType": "int64",
         "type": "integer"
        },
        {
         "name": "5x15",
         "rawType": "int64",
         "type": "integer"
        },
        {
         "name": "5x16",
         "rawType": "int64",
         "type": "integer"
        },
        {
         "name": "5x17",
         "rawType": "int64",
         "type": "integer"
        },
        {
         "name": "5x18",
         "rawType": "int64",
         "type": "integer"
        },
        {
         "name": "5x19",
         "rawType": "int64",
         "type": "integer"
        },
        {
         "name": "5x20",
         "rawType": "int64",
         "type": "integer"
        },
        {
         "name": "5x21",
         "rawType": "int64",
         "type": "integer"
        },
        {
         "name": "5x22",
         "rawType": "int64",
         "type": "integer"
        },
        {
         "name": "5x23",
         "rawType": "int64",
         "type": "integer"
        },
        {
         "name": "5x24",
         "rawType": "int64",
         "type": "integer"
        },
        {
         "name": "5x25",
         "rawType": "int64",
         "type": "integer"
        },
        {
         "name": "5x26",
         "rawType": "int64",
         "type": "integer"
        },
        {
         "name": "5x27",
         "rawType": "int64",
         "type": "integer"
        },
        {
         "name": "5x28",
         "rawType": "int64",
         "type": "integer"
        },
        {
         "name": "6x1",
         "rawType": "int64",
         "type": "integer"
        },
        {
         "name": "6x2",
         "rawType": "int64",
         "type": "integer"
        },
        {
         "name": "6x3",
         "rawType": "int64",
         "type": "integer"
        },
        {
         "name": "6x4",
         "rawType": "int64",
         "type": "integer"
        },
        {
         "name": "6x5",
         "rawType": "int64",
         "type": "integer"
        },
        {
         "name": "6x6",
         "rawType": "int64",
         "type": "integer"
        },
        {
         "name": "6x7",
         "rawType": "int64",
         "type": "integer"
        },
        {
         "name": "6x8",
         "rawType": "int64",
         "type": "integer"
        },
        {
         "name": "6x9",
         "rawType": "int64",
         "type": "integer"
        },
        {
         "name": "6x10",
         "rawType": "int64",
         "type": "integer"
        },
        {
         "name": "6x11",
         "rawType": "int64",
         "type": "integer"
        },
        {
         "name": "6x12",
         "rawType": "int64",
         "type": "integer"
        },
        {
         "name": "6x13",
         "rawType": "int64",
         "type": "integer"
        },
        {
         "name": "6x14",
         "rawType": "int64",
         "type": "integer"
        },
        {
         "name": "6x15",
         "rawType": "int64",
         "type": "integer"
        },
        {
         "name": "6x16",
         "rawType": "int64",
         "type": "integer"
        },
        {
         "name": "6x17",
         "rawType": "int64",
         "type": "integer"
        },
        {
         "name": "6x18",
         "rawType": "int64",
         "type": "integer"
        },
        {
         "name": "6x19",
         "rawType": "int64",
         "type": "integer"
        },
        {
         "name": "6x20",
         "rawType": "int64",
         "type": "integer"
        },
        {
         "name": "6x21",
         "rawType": "int64",
         "type": "integer"
        },
        {
         "name": "6x22",
         "rawType": "int64",
         "type": "integer"
        },
        {
         "name": "6x23",
         "rawType": "int64",
         "type": "integer"
        },
        {
         "name": "6x24",
         "rawType": "int64",
         "type": "integer"
        },
        {
         "name": "6x25",
         "rawType": "int64",
         "type": "integer"
        },
        {
         "name": "6x26",
         "rawType": "int64",
         "type": "integer"
        },
        {
         "name": "6x27",
         "rawType": "int64",
         "type": "integer"
        },
        {
         "name": "6x28",
         "rawType": "int64",
         "type": "integer"
        },
        {
         "name": "7x1",
         "rawType": "int64",
         "type": "integer"
        },
        {
         "name": "7x2",
         "rawType": "int64",
         "type": "integer"
        },
        {
         "name": "7x3",
         "rawType": "int64",
         "type": "integer"
        },
        {
         "name": "7x4",
         "rawType": "int64",
         "type": "integer"
        },
        {
         "name": "7x5",
         "rawType": "int64",
         "type": "integer"
        },
        {
         "name": "7x6",
         "rawType": "int64",
         "type": "integer"
        },
        {
         "name": "7x7",
         "rawType": "int64",
         "type": "integer"
        },
        {
         "name": "7x8",
         "rawType": "int64",
         "type": "integer"
        },
        {
         "name": "7x9",
         "rawType": "int64",
         "type": "integer"
        },
        {
         "name": "7x10",
         "rawType": "int64",
         "type": "integer"
        },
        {
         "name": "7x11",
         "rawType": "int64",
         "type": "integer"
        },
        {
         "name": "7x12",
         "rawType": "int64",
         "type": "integer"
        },
        {
         "name": "7x13",
         "rawType": "int64",
         "type": "integer"
        },
        {
         "name": "7x14",
         "rawType": "int64",
         "type": "integer"
        },
        {
         "name": "7x15",
         "rawType": "int64",
         "type": "integer"
        },
        {
         "name": "7x16",
         "rawType": "int64",
         "type": "integer"
        },
        {
         "name": "7x17",
         "rawType": "int64",
         "type": "integer"
        },
        {
         "name": "7x18",
         "rawType": "int64",
         "type": "integer"
        },
        {
         "name": "7x19",
         "rawType": "int64",
         "type": "integer"
        },
        {
         "name": "7x20",
         "rawType": "int64",
         "type": "integer"
        },
        {
         "name": "7x21",
         "rawType": "int64",
         "type": "integer"
        },
        {
         "name": "7x22",
         "rawType": "int64",
         "type": "integer"
        },
        {
         "name": "7x23",
         "rawType": "int64",
         "type": "integer"
        },
        {
         "name": "7x24",
         "rawType": "int64",
         "type": "integer"
        },
        {
         "name": "7x25",
         "rawType": "int64",
         "type": "integer"
        },
        {
         "name": "7x26",
         "rawType": "int64",
         "type": "integer"
        },
        {
         "name": "7x27",
         "rawType": "int64",
         "type": "integer"
        },
        {
         "name": "7x28",
         "rawType": "int64",
         "type": "integer"
        },
        {
         "name": "8x1",
         "rawType": "int64",
         "type": "integer"
        },
        {
         "name": "8x2",
         "rawType": "int64",
         "type": "integer"
        },
        {
         "name": "8x3",
         "rawType": "int64",
         "type": "integer"
        },
        {
         "name": "8x4",
         "rawType": "int64",
         "type": "integer"
        },
        {
         "name": "8x5",
         "rawType": "int64",
         "type": "integer"
        },
        {
         "name": "8x6",
         "rawType": "int64",
         "type": "integer"
        },
        {
         "name": "8x7",
         "rawType": "int64",
         "type": "integer"
        },
        {
         "name": "8x8",
         "rawType": "int64",
         "type": "integer"
        },
        {
         "name": "8x9",
         "rawType": "int64",
         "type": "integer"
        },
        {
         "name": "8x10",
         "rawType": "int64",
         "type": "integer"
        },
        {
         "name": "8x11",
         "rawType": "int64",
         "type": "integer"
        },
        {
         "name": "8x12",
         "rawType": "int64",
         "type": "integer"
        },
        {
         "name": "8x13",
         "rawType": "int64",
         "type": "integer"
        },
        {
         "name": "8x14",
         "rawType": "int64",
         "type": "integer"
        },
        {
         "name": "8x15",
         "rawType": "int64",
         "type": "integer"
        },
        {
         "name": "8x16",
         "rawType": "int64",
         "type": "integer"
        },
        {
         "name": "8x17",
         "rawType": "int64",
         "type": "integer"
        },
        {
         "name": "8x18",
         "rawType": "int64",
         "type": "integer"
        },
        {
         "name": "8x19",
         "rawType": "int64",
         "type": "integer"
        },
        {
         "name": "8x20",
         "rawType": "int64",
         "type": "integer"
        },
        {
         "name": "8x21",
         "rawType": "int64",
         "type": "integer"
        },
        {
         "name": "8x22",
         "rawType": "int64",
         "type": "integer"
        },
        {
         "name": "8x23",
         "rawType": "int64",
         "type": "integer"
        },
        {
         "name": "8x24",
         "rawType": "int64",
         "type": "integer"
        },
        {
         "name": "8x25",
         "rawType": "int64",
         "type": "integer"
        },
        {
         "name": "8x26",
         "rawType": "int64",
         "type": "integer"
        },
        {
         "name": "8x27",
         "rawType": "int64",
         "type": "integer"
        },
        {
         "name": "8x28",
         "rawType": "int64",
         "type": "integer"
        },
        {
         "name": "9x1",
         "rawType": "int64",
         "type": "integer"
        },
        {
         "name": "9x2",
         "rawType": "int64",
         "type": "integer"
        },
        {
         "name": "9x3",
         "rawType": "int64",
         "type": "integer"
        },
        {
         "name": "9x4",
         "rawType": "int64",
         "type": "integer"
        },
        {
         "name": "9x5",
         "rawType": "int64",
         "type": "integer"
        },
        {
         "name": "9x6",
         "rawType": "int64",
         "type": "integer"
        },
        {
         "name": "9x7",
         "rawType": "int64",
         "type": "integer"
        },
        {
         "name": "9x8",
         "rawType": "int64",
         "type": "integer"
        },
        {
         "name": "9x9",
         "rawType": "int64",
         "type": "integer"
        },
        {
         "name": "9x10",
         "rawType": "int64",
         "type": "integer"
        },
        {
         "name": "9x11",
         "rawType": "int64",
         "type": "integer"
        },
        {
         "name": "9x12",
         "rawType": "int64",
         "type": "integer"
        },
        {
         "name": "9x13",
         "rawType": "int64",
         "type": "integer"
        },
        {
         "name": "9x14",
         "rawType": "int64",
         "type": "integer"
        },
        {
         "name": "9x15",
         "rawType": "int64",
         "type": "integer"
        },
        {
         "name": "9x16",
         "rawType": "int64",
         "type": "integer"
        },
        {
         "name": "9x17",
         "rawType": "int64",
         "type": "integer"
        },
        {
         "name": "9x18",
         "rawType": "int64",
         "type": "integer"
        },
        {
         "name": "9x19",
         "rawType": "int64",
         "type": "integer"
        },
        {
         "name": "9x20",
         "rawType": "int64",
         "type": "integer"
        },
        {
         "name": "9x21",
         "rawType": "int64",
         "type": "integer"
        },
        {
         "name": "9x22",
         "rawType": "int64",
         "type": "integer"
        },
        {
         "name": "9x23",
         "rawType": "int64",
         "type": "integer"
        },
        {
         "name": "9x24",
         "rawType": "int64",
         "type": "integer"
        },
        {
         "name": "9x25",
         "rawType": "int64",
         "type": "integer"
        },
        {
         "name": "9x26",
         "rawType": "int64",
         "type": "integer"
        },
        {
         "name": "9x27",
         "rawType": "int64",
         "type": "integer"
        },
        {
         "name": "9x28",
         "rawType": "int64",
         "type": "integer"
        },
        {
         "name": "10x1",
         "rawType": "int64",
         "type": "integer"
        },
        {
         "name": "10x2",
         "rawType": "int64",
         "type": "integer"
        },
        {
         "name": "10x3",
         "rawType": "int64",
         "type": "integer"
        },
        {
         "name": "10x4",
         "rawType": "int64",
         "type": "integer"
        },
        {
         "name": "10x5",
         "rawType": "int64",
         "type": "integer"
        },
        {
         "name": "10x6",
         "rawType": "int64",
         "type": "integer"
        },
        {
         "name": "10x7",
         "rawType": "int64",
         "type": "integer"
        },
        {
         "name": "10x8",
         "rawType": "int64",
         "type": "integer"
        },
        {
         "name": "10x9",
         "rawType": "int64",
         "type": "integer"
        },
        {
         "name": "10x10",
         "rawType": "int64",
         "type": "integer"
        },
        {
         "name": "10x11",
         "rawType": "int64",
         "type": "integer"
        },
        {
         "name": "10x12",
         "rawType": "int64",
         "type": "integer"
        },
        {
         "name": "10x13",
         "rawType": "int64",
         "type": "integer"
        },
        {
         "name": "10x14",
         "rawType": "int64",
         "type": "integer"
        },
        {
         "name": "10x15",
         "rawType": "int64",
         "type": "integer"
        },
        {
         "name": "10x16",
         "rawType": "int64",
         "type": "integer"
        },
        {
         "name": "10x17",
         "rawType": "int64",
         "type": "integer"
        },
        {
         "name": "10x18",
         "rawType": "int64",
         "type": "integer"
        },
        {
         "name": "10x19",
         "rawType": "int64",
         "type": "integer"
        },
        {
         "name": "10x20",
         "rawType": "int64",
         "type": "integer"
        },
        {
         "name": "10x21",
         "rawType": "int64",
         "type": "integer"
        },
        {
         "name": "10x22",
         "rawType": "int64",
         "type": "integer"
        },
        {
         "name": "10x23",
         "rawType": "int64",
         "type": "integer"
        },
        {
         "name": "10x24",
         "rawType": "int64",
         "type": "integer"
        },
        {
         "name": "10x25",
         "rawType": "int64",
         "type": "integer"
        },
        {
         "name": "10x26",
         "rawType": "int64",
         "type": "integer"
        },
        {
         "name": "10x27",
         "rawType": "int64",
         "type": "integer"
        },
        {
         "name": "10x28",
         "rawType": "int64",
         "type": "integer"
        },
        {
         "name": "11x1",
         "rawType": "int64",
         "type": "integer"
        },
        {
         "name": "11x2",
         "rawType": "int64",
         "type": "integer"
        },
        {
         "name": "11x3",
         "rawType": "int64",
         "type": "integer"
        },
        {
         "name": "11x4",
         "rawType": "int64",
         "type": "integer"
        },
        {
         "name": "11x5",
         "rawType": "int64",
         "type": "integer"
        },
        {
         "name": "11x6",
         "rawType": "int64",
         "type": "integer"
        },
        {
         "name": "11x7",
         "rawType": "int64",
         "type": "integer"
        },
        {
         "name": "11x8",
         "rawType": "int64",
         "type": "integer"
        },
        {
         "name": "11x9",
         "rawType": "int64",
         "type": "integer"
        },
        {
         "name": "11x10",
         "rawType": "int64",
         "type": "integer"
        },
        {
         "name": "11x11",
         "rawType": "int64",
         "type": "integer"
        },
        {
         "name": "11x12",
         "rawType": "int64",
         "type": "integer"
        },
        {
         "name": "11x13",
         "rawType": "int64",
         "type": "integer"
        },
        {
         "name": "11x14",
         "rawType": "int64",
         "type": "integer"
        },
        {
         "name": "11x15",
         "rawType": "int64",
         "type": "integer"
        },
        {
         "name": "11x16",
         "rawType": "int64",
         "type": "integer"
        },
        {
         "name": "11x17",
         "rawType": "int64",
         "type": "integer"
        },
        {
         "name": "11x18",
         "rawType": "int64",
         "type": "integer"
        },
        {
         "name": "11x19",
         "rawType": "int64",
         "type": "integer"
        },
        {
         "name": "11x20",
         "rawType": "int64",
         "type": "integer"
        },
        {
         "name": "11x21",
         "rawType": "int64",
         "type": "integer"
        },
        {
         "name": "11x22",
         "rawType": "int64",
         "type": "integer"
        },
        {
         "name": "11x23",
         "rawType": "int64",
         "type": "integer"
        },
        {
         "name": "11x24",
         "rawType": "int64",
         "type": "integer"
        },
        {
         "name": "11x25",
         "rawType": "int64",
         "type": "integer"
        },
        {
         "name": "11x26",
         "rawType": "int64",
         "type": "integer"
        },
        {
         "name": "11x27",
         "rawType": "int64",
         "type": "integer"
        },
        {
         "name": "11x28",
         "rawType": "int64",
         "type": "integer"
        },
        {
         "name": "12x1",
         "rawType": "int64",
         "type": "integer"
        },
        {
         "name": "12x2",
         "rawType": "int64",
         "type": "integer"
        },
        {
         "name": "12x3",
         "rawType": "int64",
         "type": "integer"
        },
        {
         "name": "12x4",
         "rawType": "int64",
         "type": "integer"
        },
        {
         "name": "12x5",
         "rawType": "int64",
         "type": "integer"
        },
        {
         "name": "12x6",
         "rawType": "int64",
         "type": "integer"
        },
        {
         "name": "12x7",
         "rawType": "int64",
         "type": "integer"
        },
        {
         "name": "12x8",
         "rawType": "int64",
         "type": "integer"
        },
        {
         "name": "12x9",
         "rawType": "int64",
         "type": "integer"
        },
        {
         "name": "12x10",
         "rawType": "int64",
         "type": "integer"
        },
        {
         "name": "12x11",
         "rawType": "int64",
         "type": "integer"
        },
        {
         "name": "12x12",
         "rawType": "int64",
         "type": "integer"
        },
        {
         "name": "12x13",
         "rawType": "int64",
         "type": "integer"
        },
        {
         "name": "12x14",
         "rawType": "int64",
         "type": "integer"
        },
        {
         "name": "12x15",
         "rawType": "int64",
         "type": "integer"
        },
        {
         "name": "12x16",
         "rawType": "int64",
         "type": "integer"
        },
        {
         "name": "12x17",
         "rawType": "int64",
         "type": "integer"
        },
        {
         "name": "12x18",
         "rawType": "int64",
         "type": "integer"
        },
        {
         "name": "12x19",
         "rawType": "int64",
         "type": "integer"
        },
        {
         "name": "12x20",
         "rawType": "int64",
         "type": "integer"
        },
        {
         "name": "12x21",
         "rawType": "int64",
         "type": "integer"
        },
        {
         "name": "12x22",
         "rawType": "int64",
         "type": "integer"
        },
        {
         "name": "12x23",
         "rawType": "int64",
         "type": "integer"
        },
        {
         "name": "12x24",
         "rawType": "int64",
         "type": "integer"
        },
        {
         "name": "12x25",
         "rawType": "int64",
         "type": "integer"
        },
        {
         "name": "12x26",
         "rawType": "int64",
         "type": "integer"
        },
        {
         "name": "12x27",
         "rawType": "int64",
         "type": "integer"
        },
        {
         "name": "12x28",
         "rawType": "int64",
         "type": "integer"
        },
        {
         "name": "13x1",
         "rawType": "int64",
         "type": "integer"
        },
        {
         "name": "13x2",
         "rawType": "int64",
         "type": "integer"
        },
        {
         "name": "13x3",
         "rawType": "int64",
         "type": "integer"
        },
        {
         "name": "13x4",
         "rawType": "int64",
         "type": "integer"
        },
        {
         "name": "13x5",
         "rawType": "int64",
         "type": "integer"
        },
        {
         "name": "13x6",
         "rawType": "int64",
         "type": "integer"
        },
        {
         "name": "13x7",
         "rawType": "int64",
         "type": "integer"
        },
        {
         "name": "13x8",
         "rawType": "int64",
         "type": "integer"
        },
        {
         "name": "13x9",
         "rawType": "int64",
         "type": "integer"
        },
        {
         "name": "13x10",
         "rawType": "int64",
         "type": "integer"
        },
        {
         "name": "13x11",
         "rawType": "int64",
         "type": "integer"
        },
        {
         "name": "13x12",
         "rawType": "int64",
         "type": "integer"
        },
        {
         "name": "13x13",
         "rawType": "int64",
         "type": "integer"
        },
        {
         "name": "13x14",
         "rawType": "int64",
         "type": "integer"
        },
        {
         "name": "13x15",
         "rawType": "int64",
         "type": "integer"
        },
        {
         "name": "13x16",
         "rawType": "int64",
         "type": "integer"
        },
        {
         "name": "13x17",
         "rawType": "int64",
         "type": "integer"
        },
        {
         "name": "13x18",
         "rawType": "int64",
         "type": "integer"
        },
        {
         "name": "13x19",
         "rawType": "int64",
         "type": "integer"
        },
        {
         "name": "13x20",
         "rawType": "int64",
         "type": "integer"
        },
        {
         "name": "13x21",
         "rawType": "int64",
         "type": "integer"
        },
        {
         "name": "13x22",
         "rawType": "int64",
         "type": "integer"
        },
        {
         "name": "13x23",
         "rawType": "int64",
         "type": "integer"
        },
        {
         "name": "13x24",
         "rawType": "int64",
         "type": "integer"
        },
        {
         "name": "13x25",
         "rawType": "int64",
         "type": "integer"
        },
        {
         "name": "13x26",
         "rawType": "int64",
         "type": "integer"
        },
        {
         "name": "13x27",
         "rawType": "int64",
         "type": "integer"
        },
        {
         "name": "13x28",
         "rawType": "int64",
         "type": "integer"
        },
        {
         "name": "14x1",
         "rawType": "int64",
         "type": "integer"
        },
        {
         "name": "14x2",
         "rawType": "int64",
         "type": "integer"
        },
        {
         "name": "14x3",
         "rawType": "int64",
         "type": "integer"
        },
        {
         "name": "14x4",
         "rawType": "int64",
         "type": "integer"
        },
        {
         "name": "14x5",
         "rawType": "int64",
         "type": "integer"
        },
        {
         "name": "14x6",
         "rawType": "int64",
         "type": "integer"
        },
        {
         "name": "14x7",
         "rawType": "int64",
         "type": "integer"
        },
        {
         "name": "14x8",
         "rawType": "int64",
         "type": "integer"
        },
        {
         "name": "14x9",
         "rawType": "int64",
         "type": "integer"
        },
        {
         "name": "14x10",
         "rawType": "int64",
         "type": "integer"
        },
        {
         "name": "14x11",
         "rawType": "int64",
         "type": "integer"
        },
        {
         "name": "14x12",
         "rawType": "int64",
         "type": "integer"
        },
        {
         "name": "14x13",
         "rawType": "int64",
         "type": "integer"
        },
        {
         "name": "14x14",
         "rawType": "int64",
         "type": "integer"
        },
        {
         "name": "14x15",
         "rawType": "int64",
         "type": "integer"
        },
        {
         "name": "14x16",
         "rawType": "int64",
         "type": "integer"
        },
        {
         "name": "14x17",
         "rawType": "int64",
         "type": "integer"
        },
        {
         "name": "14x18",
         "rawType": "int64",
         "type": "integer"
        },
        {
         "name": "14x19",
         "rawType": "int64",
         "type": "integer"
        },
        {
         "name": "14x20",
         "rawType": "int64",
         "type": "integer"
        },
        {
         "name": "14x21",
         "rawType": "int64",
         "type": "integer"
        },
        {
         "name": "14x22",
         "rawType": "int64",
         "type": "integer"
        },
        {
         "name": "14x23",
         "rawType": "int64",
         "type": "integer"
        },
        {
         "name": "14x24",
         "rawType": "int64",
         "type": "integer"
        },
        {
         "name": "14x25",
         "rawType": "int64",
         "type": "integer"
        },
        {
         "name": "14x26",
         "rawType": "int64",
         "type": "integer"
        },
        {
         "name": "14x27",
         "rawType": "int64",
         "type": "integer"
        },
        {
         "name": "14x28",
         "rawType": "int64",
         "type": "integer"
        },
        {
         "name": "15x1",
         "rawType": "int64",
         "type": "integer"
        },
        {
         "name": "15x2",
         "rawType": "int64",
         "type": "integer"
        },
        {
         "name": "15x3",
         "rawType": "int64",
         "type": "integer"
        },
        {
         "name": "15x4",
         "rawType": "int64",
         "type": "integer"
        },
        {
         "name": "15x5",
         "rawType": "int64",
         "type": "integer"
        },
        {
         "name": "15x6",
         "rawType": "int64",
         "type": "integer"
        },
        {
         "name": "15x7",
         "rawType": "int64",
         "type": "integer"
        },
        {
         "name": "15x8",
         "rawType": "int64",
         "type": "integer"
        },
        {
         "name": "15x9",
         "rawType": "int64",
         "type": "integer"
        },
        {
         "name": "15x10",
         "rawType": "int64",
         "type": "integer"
        },
        {
         "name": "15x11",
         "rawType": "int64",
         "type": "integer"
        },
        {
         "name": "15x12",
         "rawType": "int64",
         "type": "integer"
        },
        {
         "name": "15x13",
         "rawType": "int64",
         "type": "integer"
        },
        {
         "name": "15x14",
         "rawType": "int64",
         "type": "integer"
        },
        {
         "name": "15x15",
         "rawType": "int64",
         "type": "integer"
        },
        {
         "name": "15x16",
         "rawType": "int64",
         "type": "integer"
        },
        {
         "name": "15x17",
         "rawType": "int64",
         "type": "integer"
        },
        {
         "name": "15x18",
         "rawType": "int64",
         "type": "integer"
        },
        {
         "name": "15x19",
         "rawType": "int64",
         "type": "integer"
        },
        {
         "name": "15x20",
         "rawType": "int64",
         "type": "integer"
        },
        {
         "name": "15x21",
         "rawType": "int64",
         "type": "integer"
        },
        {
         "name": "15x22",
         "rawType": "int64",
         "type": "integer"
        },
        {
         "name": "15x23",
         "rawType": "int64",
         "type": "integer"
        },
        {
         "name": "15x24",
         "rawType": "int64",
         "type": "integer"
        },
        {
         "name": "15x25",
         "rawType": "int64",
         "type": "integer"
        },
        {
         "name": "15x26",
         "rawType": "int64",
         "type": "integer"
        },
        {
         "name": "15x27",
         "rawType": "int64",
         "type": "integer"
        },
        {
         "name": "15x28",
         "rawType": "int64",
         "type": "integer"
        },
        {
         "name": "16x1",
         "rawType": "int64",
         "type": "integer"
        },
        {
         "name": "16x2",
         "rawType": "int64",
         "type": "integer"
        },
        {
         "name": "16x3",
         "rawType": "int64",
         "type": "integer"
        },
        {
         "name": "16x4",
         "rawType": "int64",
         "type": "integer"
        },
        {
         "name": "16x5",
         "rawType": "int64",
         "type": "integer"
        },
        {
         "name": "16x6",
         "rawType": "int64",
         "type": "integer"
        },
        {
         "name": "16x7",
         "rawType": "int64",
         "type": "integer"
        },
        {
         "name": "16x8",
         "rawType": "int64",
         "type": "integer"
        },
        {
         "name": "16x9",
         "rawType": "int64",
         "type": "integer"
        },
        {
         "name": "16x10",
         "rawType": "int64",
         "type": "integer"
        },
        {
         "name": "16x11",
         "rawType": "int64",
         "type": "integer"
        },
        {
         "name": "16x12",
         "rawType": "int64",
         "type": "integer"
        },
        {
         "name": "16x13",
         "rawType": "int64",
         "type": "integer"
        },
        {
         "name": "16x14",
         "rawType": "int64",
         "type": "integer"
        },
        {
         "name": "16x15",
         "rawType": "int64",
         "type": "integer"
        },
        {
         "name": "16x16",
         "rawType": "int64",
         "type": "integer"
        },
        {
         "name": "16x17",
         "rawType": "int64",
         "type": "integer"
        },
        {
         "name": "16x18",
         "rawType": "int64",
         "type": "integer"
        },
        {
         "name": "16x19",
         "rawType": "int64",
         "type": "integer"
        },
        {
         "name": "16x20",
         "rawType": "int64",
         "type": "integer"
        },
        {
         "name": "16x21",
         "rawType": "int64",
         "type": "integer"
        },
        {
         "name": "16x22",
         "rawType": "int64",
         "type": "integer"
        },
        {
         "name": "16x23",
         "rawType": "int64",
         "type": "integer"
        },
        {
         "name": "16x24",
         "rawType": "int64",
         "type": "integer"
        },
        {
         "name": "16x25",
         "rawType": "int64",
         "type": "integer"
        },
        {
         "name": "16x26",
         "rawType": "int64",
         "type": "integer"
        },
        {
         "name": "16x27",
         "rawType": "int64",
         "type": "integer"
        },
        {
         "name": "16x28",
         "rawType": "int64",
         "type": "integer"
        },
        {
         "name": "17x1",
         "rawType": "int64",
         "type": "integer"
        },
        {
         "name": "17x2",
         "rawType": "int64",
         "type": "integer"
        },
        {
         "name": "17x3",
         "rawType": "int64",
         "type": "integer"
        },
        {
         "name": "17x4",
         "rawType": "int64",
         "type": "integer"
        },
        {
         "name": "17x5",
         "rawType": "int64",
         "type": "integer"
        },
        {
         "name": "17x6",
         "rawType": "int64",
         "type": "integer"
        },
        {
         "name": "17x7",
         "rawType": "int64",
         "type": "integer"
        },
        {
         "name": "17x8",
         "rawType": "int64",
         "type": "integer"
        },
        {
         "name": "17x9",
         "rawType": "int64",
         "type": "integer"
        },
        {
         "name": "17x10",
         "rawType": "int64",
         "type": "integer"
        },
        {
         "name": "17x11",
         "rawType": "int64",
         "type": "integer"
        },
        {
         "name": "17x12",
         "rawType": "int64",
         "type": "integer"
        },
        {
         "name": "17x13",
         "rawType": "int64",
         "type": "integer"
        },
        {
         "name": "17x14",
         "rawType": "int64",
         "type": "integer"
        },
        {
         "name": "17x15",
         "rawType": "int64",
         "type": "integer"
        },
        {
         "name": "17x16",
         "rawType": "int64",
         "type": "integer"
        },
        {
         "name": "17x17",
         "rawType": "int64",
         "type": "integer"
        },
        {
         "name": "17x18",
         "rawType": "int64",
         "type": "integer"
        },
        {
         "name": "17x19",
         "rawType": "int64",
         "type": "integer"
        },
        {
         "name": "17x20",
         "rawType": "int64",
         "type": "integer"
        },
        {
         "name": "17x21",
         "rawType": "int64",
         "type": "integer"
        },
        {
         "name": "17x22",
         "rawType": "int64",
         "type": "integer"
        },
        {
         "name": "17x23",
         "rawType": "int64",
         "type": "integer"
        },
        {
         "name": "17x24",
         "rawType": "int64",
         "type": "integer"
        },
        {
         "name": "17x25",
         "rawType": "int64",
         "type": "integer"
        },
        {
         "name": "17x26",
         "rawType": "int64",
         "type": "integer"
        },
        {
         "name": "17x27",
         "rawType": "int64",
         "type": "integer"
        },
        {
         "name": "17x28",
         "rawType": "int64",
         "type": "integer"
        },
        {
         "name": "18x1",
         "rawType": "int64",
         "type": "integer"
        },
        {
         "name": "18x2",
         "rawType": "int64",
         "type": "integer"
        },
        {
         "name": "18x3",
         "rawType": "int64",
         "type": "integer"
        },
        {
         "name": "18x4",
         "rawType": "int64",
         "type": "integer"
        },
        {
         "name": "18x5",
         "rawType": "int64",
         "type": "integer"
        },
        {
         "name": "18x6",
         "rawType": "int64",
         "type": "integer"
        },
        {
         "name": "18x7",
         "rawType": "int64",
         "type": "integer"
        },
        {
         "name": "18x8",
         "rawType": "int64",
         "type": "integer"
        },
        {
         "name": "18x9",
         "rawType": "int64",
         "type": "integer"
        },
        {
         "name": "18x10",
         "rawType": "int64",
         "type": "integer"
        },
        {
         "name": "18x11",
         "rawType": "int64",
         "type": "integer"
        },
        {
         "name": "18x12",
         "rawType": "int64",
         "type": "integer"
        },
        {
         "name": "18x13",
         "rawType": "int64",
         "type": "integer"
        },
        {
         "name": "18x14",
         "rawType": "int64",
         "type": "integer"
        },
        {
         "name": "18x15",
         "rawType": "int64",
         "type": "integer"
        },
        {
         "name": "18x16",
         "rawType": "int64",
         "type": "integer"
        },
        {
         "name": "18x17",
         "rawType": "int64",
         "type": "integer"
        },
        {
         "name": "18x18",
         "rawType": "int64",
         "type": "integer"
        },
        {
         "name": "18x19",
         "rawType": "int64",
         "type": "integer"
        },
        {
         "name": "18x20",
         "rawType": "int64",
         "type": "integer"
        },
        {
         "name": "18x21",
         "rawType": "int64",
         "type": "integer"
        },
        {
         "name": "18x22",
         "rawType": "int64",
         "type": "integer"
        },
        {
         "name": "18x23",
         "rawType": "int64",
         "type": "integer"
        },
        {
         "name": "18x24",
         "rawType": "int64",
         "type": "integer"
        },
        {
         "name": "18x25",
         "rawType": "int64",
         "type": "integer"
        },
        {
         "name": "18x26",
         "rawType": "int64",
         "type": "integer"
        },
        {
         "name": "18x27",
         "rawType": "int64",
         "type": "integer"
        },
        {
         "name": "18x28",
         "rawType": "int64",
         "type": "integer"
        },
        {
         "name": "19x1",
         "rawType": "int64",
         "type": "integer"
        },
        {
         "name": "19x2",
         "rawType": "int64",
         "type": "integer"
        },
        {
         "name": "19x3",
         "rawType": "int64",
         "type": "integer"
        },
        {
         "name": "19x4",
         "rawType": "int64",
         "type": "integer"
        },
        {
         "name": "19x5",
         "rawType": "int64",
         "type": "integer"
        },
        {
         "name": "19x6",
         "rawType": "int64",
         "type": "integer"
        },
        {
         "name": "19x7",
         "rawType": "int64",
         "type": "integer"
        },
        {
         "name": "19x8",
         "rawType": "int64",
         "type": "integer"
        },
        {
         "name": "19x9",
         "rawType": "int64",
         "type": "integer"
        },
        {
         "name": "19x10",
         "rawType": "int64",
         "type": "integer"
        },
        {
         "name": "19x11",
         "rawType": "int64",
         "type": "integer"
        },
        {
         "name": "19x12",
         "rawType": "int64",
         "type": "integer"
        },
        {
         "name": "19x13",
         "rawType": "int64",
         "type": "integer"
        },
        {
         "name": "19x14",
         "rawType": "int64",
         "type": "integer"
        },
        {
         "name": "19x15",
         "rawType": "int64",
         "type": "integer"
        },
        {
         "name": "19x16",
         "rawType": "int64",
         "type": "integer"
        },
        {
         "name": "19x17",
         "rawType": "int64",
         "type": "integer"
        },
        {
         "name": "19x18",
         "rawType": "int64",
         "type": "integer"
        },
        {
         "name": "19x19",
         "rawType": "int64",
         "type": "integer"
        },
        {
         "name": "19x20",
         "rawType": "int64",
         "type": "integer"
        },
        {
         "name": "19x21",
         "rawType": "int64",
         "type": "integer"
        },
        {
         "name": "19x22",
         "rawType": "int64",
         "type": "integer"
        },
        {
         "name": "19x23",
         "rawType": "int64",
         "type": "integer"
        },
        {
         "name": "19x24",
         "rawType": "int64",
         "type": "integer"
        },
        {
         "name": "19x25",
         "rawType": "int64",
         "type": "integer"
        },
        {
         "name": "19x26",
         "rawType": "int64",
         "type": "integer"
        },
        {
         "name": "19x27",
         "rawType": "int64",
         "type": "integer"
        },
        {
         "name": "19x28",
         "rawType": "int64",
         "type": "integer"
        },
        {
         "name": "20x1",
         "rawType": "int64",
         "type": "integer"
        },
        {
         "name": "20x2",
         "rawType": "int64",
         "type": "integer"
        },
        {
         "name": "20x3",
         "rawType": "int64",
         "type": "integer"
        },
        {
         "name": "20x4",
         "rawType": "int64",
         "type": "integer"
        },
        {
         "name": "20x5",
         "rawType": "int64",
         "type": "integer"
        },
        {
         "name": "20x6",
         "rawType": "int64",
         "type": "integer"
        },
        {
         "name": "20x7",
         "rawType": "int64",
         "type": "integer"
        },
        {
         "name": "20x8",
         "rawType": "int64",
         "type": "integer"
        },
        {
         "name": "20x9",
         "rawType": "int64",
         "type": "integer"
        },
        {
         "name": "20x10",
         "rawType": "int64",
         "type": "integer"
        },
        {
         "name": "20x11",
         "rawType": "int64",
         "type": "integer"
        },
        {
         "name": "20x12",
         "rawType": "int64",
         "type": "integer"
        },
        {
         "name": "20x13",
         "rawType": "int64",
         "type": "integer"
        },
        {
         "name": "20x14",
         "rawType": "int64",
         "type": "integer"
        },
        {
         "name": "20x15",
         "rawType": "int64",
         "type": "integer"
        },
        {
         "name": "20x16",
         "rawType": "int64",
         "type": "integer"
        },
        {
         "name": "20x17",
         "rawType": "int64",
         "type": "integer"
        },
        {
         "name": "20x18",
         "rawType": "int64",
         "type": "integer"
        },
        {
         "name": "20x19",
         "rawType": "int64",
         "type": "integer"
        },
        {
         "name": "20x20",
         "rawType": "int64",
         "type": "integer"
        },
        {
         "name": "20x21",
         "rawType": "int64",
         "type": "integer"
        },
        {
         "name": "20x22",
         "rawType": "int64",
         "type": "integer"
        },
        {
         "name": "20x23",
         "rawType": "int64",
         "type": "integer"
        },
        {
         "name": "20x24",
         "rawType": "int64",
         "type": "integer"
        },
        {
         "name": "20x25",
         "rawType": "int64",
         "type": "integer"
        },
        {
         "name": "20x26",
         "rawType": "int64",
         "type": "integer"
        },
        {
         "name": "20x27",
         "rawType": "int64",
         "type": "integer"
        },
        {
         "name": "20x28",
         "rawType": "int64",
         "type": "integer"
        },
        {
         "name": "21x1",
         "rawType": "int64",
         "type": "integer"
        },
        {
         "name": "21x2",
         "rawType": "int64",
         "type": "integer"
        },
        {
         "name": "21x3",
         "rawType": "int64",
         "type": "integer"
        },
        {
         "name": "21x4",
         "rawType": "int64",
         "type": "integer"
        },
        {
         "name": "21x5",
         "rawType": "int64",
         "type": "integer"
        },
        {
         "name": "21x6",
         "rawType": "int64",
         "type": "integer"
        },
        {
         "name": "21x7",
         "rawType": "int64",
         "type": "integer"
        },
        {
         "name": "21x8",
         "rawType": "int64",
         "type": "integer"
        },
        {
         "name": "21x9",
         "rawType": "int64",
         "type": "integer"
        },
        {
         "name": "21x10",
         "rawType": "int64",
         "type": "integer"
        },
        {
         "name": "21x11",
         "rawType": "int64",
         "type": "integer"
        },
        {
         "name": "21x12",
         "rawType": "int64",
         "type": "integer"
        },
        {
         "name": "21x13",
         "rawType": "int64",
         "type": "integer"
        },
        {
         "name": "21x14",
         "rawType": "int64",
         "type": "integer"
        },
        {
         "name": "21x15",
         "rawType": "int64",
         "type": "integer"
        },
        {
         "name": "21x16",
         "rawType": "int64",
         "type": "integer"
        },
        {
         "name": "21x17",
         "rawType": "int64",
         "type": "integer"
        },
        {
         "name": "21x18",
         "rawType": "int64",
         "type": "integer"
        },
        {
         "name": "21x19",
         "rawType": "int64",
         "type": "integer"
        },
        {
         "name": "21x20",
         "rawType": "int64",
         "type": "integer"
        },
        {
         "name": "21x21",
         "rawType": "int64",
         "type": "integer"
        },
        {
         "name": "21x22",
         "rawType": "int64",
         "type": "integer"
        },
        {
         "name": "21x23",
         "rawType": "int64",
         "type": "integer"
        },
        {
         "name": "21x24",
         "rawType": "int64",
         "type": "integer"
        },
        {
         "name": "21x25",
         "rawType": "int64",
         "type": "integer"
        },
        {
         "name": "21x26",
         "rawType": "int64",
         "type": "integer"
        },
        {
         "name": "21x27",
         "rawType": "int64",
         "type": "integer"
        },
        {
         "name": "21x28",
         "rawType": "int64",
         "type": "integer"
        },
        {
         "name": "22x1",
         "rawType": "int64",
         "type": "integer"
        },
        {
         "name": "22x2",
         "rawType": "int64",
         "type": "integer"
        },
        {
         "name": "22x3",
         "rawType": "int64",
         "type": "integer"
        },
        {
         "name": "22x4",
         "rawType": "int64",
         "type": "integer"
        },
        {
         "name": "22x5",
         "rawType": "int64",
         "type": "integer"
        },
        {
         "name": "22x6",
         "rawType": "int64",
         "type": "integer"
        },
        {
         "name": "22x7",
         "rawType": "int64",
         "type": "integer"
        },
        {
         "name": "22x8",
         "rawType": "int64",
         "type": "integer"
        },
        {
         "name": "22x9",
         "rawType": "int64",
         "type": "integer"
        },
        {
         "name": "22x10",
         "rawType": "int64",
         "type": "integer"
        },
        {
         "name": "22x11",
         "rawType": "int64",
         "type": "integer"
        },
        {
         "name": "22x12",
         "rawType": "int64",
         "type": "integer"
        },
        {
         "name": "22x13",
         "rawType": "int64",
         "type": "integer"
        },
        {
         "name": "22x14",
         "rawType": "int64",
         "type": "integer"
        },
        {
         "name": "22x15",
         "rawType": "int64",
         "type": "integer"
        },
        {
         "name": "22x16",
         "rawType": "int64",
         "type": "integer"
        },
        {
         "name": "22x17",
         "rawType": "int64",
         "type": "integer"
        },
        {
         "name": "22x18",
         "rawType": "int64",
         "type": "integer"
        },
        {
         "name": "22x19",
         "rawType": "int64",
         "type": "integer"
        },
        {
         "name": "22x20",
         "rawType": "int64",
         "type": "integer"
        },
        {
         "name": "22x21",
         "rawType": "int64",
         "type": "integer"
        },
        {
         "name": "22x22",
         "rawType": "int64",
         "type": "integer"
        },
        {
         "name": "22x23",
         "rawType": "int64",
         "type": "integer"
        },
        {
         "name": "22x24",
         "rawType": "int64",
         "type": "integer"
        },
        {
         "name": "22x25",
         "rawType": "int64",
         "type": "integer"
        },
        {
         "name": "22x26",
         "rawType": "int64",
         "type": "integer"
        },
        {
         "name": "22x27",
         "rawType": "int64",
         "type": "integer"
        },
        {
         "name": "22x28",
         "rawType": "int64",
         "type": "integer"
        },
        {
         "name": "23x1",
         "rawType": "int64",
         "type": "integer"
        },
        {
         "name": "23x2",
         "rawType": "int64",
         "type": "integer"
        },
        {
         "name": "23x3",
         "rawType": "int64",
         "type": "integer"
        },
        {
         "name": "23x4",
         "rawType": "int64",
         "type": "integer"
        },
        {
         "name": "23x5",
         "rawType": "int64",
         "type": "integer"
        },
        {
         "name": "23x6",
         "rawType": "int64",
         "type": "integer"
        },
        {
         "name": "23x7",
         "rawType": "int64",
         "type": "integer"
        },
        {
         "name": "23x8",
         "rawType": "int64",
         "type": "integer"
        },
        {
         "name": "23x9",
         "rawType": "int64",
         "type": "integer"
        },
        {
         "name": "23x10",
         "rawType": "int64",
         "type": "integer"
        },
        {
         "name": "23x11",
         "rawType": "int64",
         "type": "integer"
        },
        {
         "name": "23x12",
         "rawType": "int64",
         "type": "integer"
        },
        {
         "name": "23x13",
         "rawType": "int64",
         "type": "integer"
        },
        {
         "name": "23x14",
         "rawType": "int64",
         "type": "integer"
        },
        {
         "name": "23x15",
         "rawType": "int64",
         "type": "integer"
        },
        {
         "name": "23x16",
         "rawType": "int64",
         "type": "integer"
        },
        {
         "name": "23x17",
         "rawType": "int64",
         "type": "integer"
        },
        {
         "name": "23x18",
         "rawType": "int64",
         "type": "integer"
        },
        {
         "name": "23x19",
         "rawType": "int64",
         "type": "integer"
        },
        {
         "name": "23x20",
         "rawType": "int64",
         "type": "integer"
        },
        {
         "name": "23x21",
         "rawType": "int64",
         "type": "integer"
        },
        {
         "name": "23x22",
         "rawType": "int64",
         "type": "integer"
        },
        {
         "name": "23x23",
         "rawType": "int64",
         "type": "integer"
        },
        {
         "name": "23x24",
         "rawType": "int64",
         "type": "integer"
        },
        {
         "name": "23x25",
         "rawType": "int64",
         "type": "integer"
        },
        {
         "name": "23x26",
         "rawType": "int64",
         "type": "integer"
        },
        {
         "name": "23x27",
         "rawType": "int64",
         "type": "integer"
        },
        {
         "name": "23x28",
         "rawType": "int64",
         "type": "integer"
        },
        {
         "name": "24x1",
         "rawType": "int64",
         "type": "integer"
        },
        {
         "name": "24x2",
         "rawType": "int64",
         "type": "integer"
        },
        {
         "name": "24x3",
         "rawType": "int64",
         "type": "integer"
        },
        {
         "name": "24x4",
         "rawType": "int64",
         "type": "integer"
        },
        {
         "name": "24x5",
         "rawType": "int64",
         "type": "integer"
        },
        {
         "name": "24x6",
         "rawType": "int64",
         "type": "integer"
        },
        {
         "name": "24x7",
         "rawType": "int64",
         "type": "integer"
        },
        {
         "name": "24x8",
         "rawType": "int64",
         "type": "integer"
        },
        {
         "name": "24x9",
         "rawType": "int64",
         "type": "integer"
        },
        {
         "name": "24x10",
         "rawType": "int64",
         "type": "integer"
        },
        {
         "name": "24x11",
         "rawType": "int64",
         "type": "integer"
        },
        {
         "name": "24x12",
         "rawType": "int64",
         "type": "integer"
        },
        {
         "name": "24x13",
         "rawType": "int64",
         "type": "integer"
        },
        {
         "name": "24x14",
         "rawType": "int64",
         "type": "integer"
        },
        {
         "name": "24x15",
         "rawType": "int64",
         "type": "integer"
        },
        {
         "name": "24x16",
         "rawType": "int64",
         "type": "integer"
        },
        {
         "name": "24x17",
         "rawType": "int64",
         "type": "integer"
        },
        {
         "name": "24x18",
         "rawType": "int64",
         "type": "integer"
        },
        {
         "name": "24x19",
         "rawType": "int64",
         "type": "integer"
        },
        {
         "name": "24x20",
         "rawType": "int64",
         "type": "integer"
        },
        {
         "name": "24x21",
         "rawType": "int64",
         "type": "integer"
        },
        {
         "name": "24x22",
         "rawType": "int64",
         "type": "integer"
        },
        {
         "name": "24x23",
         "rawType": "int64",
         "type": "integer"
        },
        {
         "name": "24x24",
         "rawType": "int64",
         "type": "integer"
        },
        {
         "name": "24x25",
         "rawType": "int64",
         "type": "integer"
        },
        {
         "name": "24x26",
         "rawType": "int64",
         "type": "integer"
        },
        {
         "name": "24x27",
         "rawType": "int64",
         "type": "integer"
        },
        {
         "name": "24x28",
         "rawType": "int64",
         "type": "integer"
        },
        {
         "name": "25x1",
         "rawType": "int64",
         "type": "integer"
        },
        {
         "name": "25x2",
         "rawType": "int64",
         "type": "integer"
        },
        {
         "name": "25x3",
         "rawType": "int64",
         "type": "integer"
        },
        {
         "name": "25x4",
         "rawType": "int64",
         "type": "integer"
        },
        {
         "name": "25x5",
         "rawType": "int64",
         "type": "integer"
        },
        {
         "name": "25x6",
         "rawType": "int64",
         "type": "integer"
        },
        {
         "name": "25x7",
         "rawType": "int64",
         "type": "integer"
        },
        {
         "name": "25x8",
         "rawType": "int64",
         "type": "integer"
        },
        {
         "name": "25x9",
         "rawType": "int64",
         "type": "integer"
        },
        {
         "name": "25x10",
         "rawType": "int64",
         "type": "integer"
        },
        {
         "name": "25x11",
         "rawType": "int64",
         "type": "integer"
        },
        {
         "name": "25x12",
         "rawType": "int64",
         "type": "integer"
        },
        {
         "name": "25x13",
         "rawType": "int64",
         "type": "integer"
        },
        {
         "name": "25x14",
         "rawType": "int64",
         "type": "integer"
        },
        {
         "name": "25x15",
         "rawType": "int64",
         "type": "integer"
        },
        {
         "name": "25x16",
         "rawType": "int64",
         "type": "integer"
        },
        {
         "name": "25x17",
         "rawType": "int64",
         "type": "integer"
        },
        {
         "name": "25x18",
         "rawType": "int64",
         "type": "integer"
        },
        {
         "name": "25x19",
         "rawType": "int64",
         "type": "integer"
        },
        {
         "name": "25x20",
         "rawType": "int64",
         "type": "integer"
        },
        {
         "name": "25x21",
         "rawType": "int64",
         "type": "integer"
        },
        {
         "name": "25x22",
         "rawType": "int64",
         "type": "integer"
        },
        {
         "name": "25x23",
         "rawType": "int64",
         "type": "integer"
        },
        {
         "name": "25x24",
         "rawType": "int64",
         "type": "integer"
        },
        {
         "name": "25x25",
         "rawType": "int64",
         "type": "integer"
        },
        {
         "name": "25x26",
         "rawType": "int64",
         "type": "integer"
        },
        {
         "name": "25x27",
         "rawType": "int64",
         "type": "integer"
        },
        {
         "name": "25x28",
         "rawType": "int64",
         "type": "integer"
        },
        {
         "name": "26x1",
         "rawType": "int64",
         "type": "integer"
        },
        {
         "name": "26x2",
         "rawType": "int64",
         "type": "integer"
        },
        {
         "name": "26x3",
         "rawType": "int64",
         "type": "integer"
        },
        {
         "name": "26x4",
         "rawType": "int64",
         "type": "integer"
        },
        {
         "name": "26x5",
         "rawType": "int64",
         "type": "integer"
        },
        {
         "name": "26x6",
         "rawType": "int64",
         "type": "integer"
        },
        {
         "name": "26x7",
         "rawType": "int64",
         "type": "integer"
        },
        {
         "name": "26x8",
         "rawType": "int64",
         "type": "integer"
        },
        {
         "name": "26x9",
         "rawType": "int64",
         "type": "integer"
        },
        {
         "name": "26x10",
         "rawType": "int64",
         "type": "integer"
        },
        {
         "name": "26x11",
         "rawType": "int64",
         "type": "integer"
        },
        {
         "name": "26x12",
         "rawType": "int64",
         "type": "integer"
        },
        {
         "name": "26x13",
         "rawType": "int64",
         "type": "integer"
        },
        {
         "name": "26x14",
         "rawType": "int64",
         "type": "integer"
        },
        {
         "name": "26x15",
         "rawType": "int64",
         "type": "integer"
        },
        {
         "name": "26x16",
         "rawType": "int64",
         "type": "integer"
        },
        {
         "name": "26x17",
         "rawType": "int64",
         "type": "integer"
        },
        {
         "name": "26x18",
         "rawType": "int64",
         "type": "integer"
        },
        {
         "name": "26x19",
         "rawType": "int64",
         "type": "integer"
        },
        {
         "name": "26x20",
         "rawType": "int64",
         "type": "integer"
        },
        {
         "name": "26x21",
         "rawType": "int64",
         "type": "integer"
        },
        {
         "name": "26x22",
         "rawType": "int64",
         "type": "integer"
        },
        {
         "name": "26x23",
         "rawType": "int64",
         "type": "integer"
        },
        {
         "name": "26x24",
         "rawType": "int64",
         "type": "integer"
        },
        {
         "name": "26x25",
         "rawType": "int64",
         "type": "integer"
        },
        {
         "name": "26x26",
         "rawType": "int64",
         "type": "integer"
        },
        {
         "name": "26x27",
         "rawType": "int64",
         "type": "integer"
        },
        {
         "name": "26x28",
         "rawType": "int64",
         "type": "integer"
        },
        {
         "name": "27x1",
         "rawType": "int64",
         "type": "integer"
        },
        {
         "name": "27x2",
         "rawType": "int64",
         "type": "integer"
        },
        {
         "name": "27x3",
         "rawType": "int64",
         "type": "integer"
        },
        {
         "name": "27x4",
         "rawType": "int64",
         "type": "integer"
        },
        {
         "name": "27x5",
         "rawType": "int64",
         "type": "integer"
        },
        {
         "name": "27x6",
         "rawType": "int64",
         "type": "integer"
        },
        {
         "name": "27x7",
         "rawType": "int64",
         "type": "integer"
        },
        {
         "name": "27x8",
         "rawType": "int64",
         "type": "integer"
        },
        {
         "name": "27x9",
         "rawType": "int64",
         "type": "integer"
        },
        {
         "name": "27x10",
         "rawType": "int64",
         "type": "integer"
        },
        {
         "name": "27x11",
         "rawType": "int64",
         "type": "integer"
        },
        {
         "name": "27x12",
         "rawType": "int64",
         "type": "integer"
        },
        {
         "name": "27x13",
         "rawType": "int64",
         "type": "integer"
        },
        {
         "name": "27x14",
         "rawType": "int64",
         "type": "integer"
        },
        {
         "name": "27x15",
         "rawType": "int64",
         "type": "integer"
        },
        {
         "name": "27x16",
         "rawType": "int64",
         "type": "integer"
        },
        {
         "name": "27x17",
         "rawType": "int64",
         "type": "integer"
        },
        {
         "name": "27x18",
         "rawType": "int64",
         "type": "integer"
        },
        {
         "name": "27x19",
         "rawType": "int64",
         "type": "integer"
        },
        {
         "name": "27x20",
         "rawType": "int64",
         "type": "integer"
        },
        {
         "name": "27x21",
         "rawType": "int64",
         "type": "integer"
        },
        {
         "name": "27x22",
         "rawType": "int64",
         "type": "integer"
        },
        {
         "name": "27x23",
         "rawType": "int64",
         "type": "integer"
        },
        {
         "name": "27x24",
         "rawType": "int64",
         "type": "integer"
        },
        {
         "name": "27x25",
         "rawType": "int64",
         "type": "integer"
        },
        {
         "name": "27x26",
         "rawType": "int64",
         "type": "integer"
        },
        {
         "name": "27x27",
         "rawType": "int64",
         "type": "integer"
        },
        {
         "name": "27x28",
         "rawType": "int64",
         "type": "integer"
        },
        {
         "name": "28x1",
         "rawType": "int64",
         "type": "integer"
        },
        {
         "name": "28x2",
         "rawType": "int64",
         "type": "integer"
        },
        {
         "name": "28x3",
         "rawType": "int64",
         "type": "integer"
        },
        {
         "name": "28x4",
         "rawType": "int64",
         "type": "integer"
        },
        {
         "name": "28x5",
         "rawType": "int64",
         "type": "integer"
        },
        {
         "name": "28x6",
         "rawType": "int64",
         "type": "integer"
        },
        {
         "name": "28x7",
         "rawType": "int64",
         "type": "integer"
        },
        {
         "name": "28x8",
         "rawType": "int64",
         "type": "integer"
        },
        {
         "name": "28x9",
         "rawType": "int64",
         "type": "integer"
        },
        {
         "name": "28x10",
         "rawType": "int64",
         "type": "integer"
        },
        {
         "name": "28x11",
         "rawType": "int64",
         "type": "integer"
        },
        {
         "name": "28x12",
         "rawType": "int64",
         "type": "integer"
        },
        {
         "name": "28x13",
         "rawType": "int64",
         "type": "integer"
        },
        {
         "name": "28x14",
         "rawType": "int64",
         "type": "integer"
        },
        {
         "name": "28x15",
         "rawType": "int64",
         "type": "integer"
        },
        {
         "name": "28x16",
         "rawType": "int64",
         "type": "integer"
        },
        {
         "name": "28x17",
         "rawType": "int64",
         "type": "integer"
        },
        {
         "name": "28x18",
         "rawType": "int64",
         "type": "integer"
        },
        {
         "name": "28x19",
         "rawType": "int64",
         "type": "integer"
        },
        {
         "name": "28x20",
         "rawType": "int64",
         "type": "integer"
        },
        {
         "name": "28x21",
         "rawType": "int64",
         "type": "integer"
        },
        {
         "name": "28x22",
         "rawType": "int64",
         "type": "integer"
        },
        {
         "name": "28x23",
         "rawType": "int64",
         "type": "integer"
        },
        {
         "name": "28x24",
         "rawType": "int64",
         "type": "integer"
        },
        {
         "name": "28x25",
         "rawType": "int64",
         "type": "integer"
        },
        {
         "name": "28x26",
         "rawType": "int64",
         "type": "integer"
        },
        {
         "name": "28x27",
         "rawType": "int64",
         "type": "integer"
        },
        {
         "name": "28x28",
         "rawType": "int64",
         "type": "integer"
        }
       ],
       "ref": "b32d4d69-30c5-4afd-b225-8c019cb01619",
       "rows": [
        [
         "0",
         "5",
         "0",
         "0",
         "0",
         "0",
         "0",
         "0",
         "0",
         "0",
         "0",
         "0",
         "0",
         "0",
         "0",
         "0",
         "0",
         "0",
         "0",
         "0",
         "0",
         "0",
         "0",
         "0",
         "0",
         "0",
         "0",
         "0",
         "0",
         "0",
         "0",
         "0",
         "0",
         "0",
         "0",
         "0",
         "0",
         "0",
         "0",
         "0",
         "0",
         "0",
         "0",
         "0",
         "0",
         "0",
         "0",
         "0",
         "0",
         "0",
         "0",
         "0",
         "0",
         "0",
         "0",
         "0",
         "0",
         "0",
         "0",
         "0",
         "0",
         "0",
         "0",
         "0",
         "0",
         "0",
         "0",
         "0",
         "0",
         "0",
         "0",
         "0",
         "0",
         "0",
         "0",
         "0",
         "0",
         "0",
         "0",
         "0",
         "0",
         "0",
         "0",
         "0",
         "0",
         "0",
         "0",
         "0",
         "0",
         "0",
         "0",
         "0",
         "0",
         "0",
         "0",
         "0",
         "0",
         "0",
         "0",
         "0",
         "0",
         "0",
         "0",
         "0",
         "0",
         "0",
         "0",
         "0",
         "0",
         "0",
         "0",
         "0",
         "0",
         "0",
         "0",
         "0",
         "0",
         "0",
         "0",
         "0",
         "0",
         "0",
         "0",
         "0",
         "0",
         "0",
         "0",
         "0",
         "0",
         "0",
         "0",
         "0",
         "0",
         "0",
         "0",
         "0",
         "0",
         "0",
         "0",
         "0",
         "0",
         "0",
         "0",
         "0",
         "0",
         "0",
         "0",
         "0",
         "0",
         "0",
         "0",
         "0",
         "0",
         "0",
         "3",
         "18",
         "18",
         "18",
         "126",
         "136",
         "175",
         "26",
         "166",
         "255",
         "247",
         "127",
         "0",
         "0",
         "0",
         "0",
         "0",
         "0",
         "0",
         "0",
         "0",
         "0",
         "0",
         "0",
         "30",
         "36",
         "94",
         "154",
         "170",
         "253",
         "253",
         "253",
         "253",
         "253",
         "225",
         "172",
         "253",
         "242",
         "195",
         "64",
         "0",
         "0",
         "0",
         "0",
         "0",
         "0",
         "0",
         "0",
         "0",
         "0",
         "0",
         "49",
         "238",
         "253",
         "253",
         "253",
         "253",
         "253",
         "253",
         "253",
         "253",
         "251",
         "93",
         "82",
         "82",
         "56",
         "39",
         "0",
         "0",
         "0",
         "0",
         "0",
         "0",
         "0",
         "0",
         "0",
         "0",
         "0",
         "0",
         "18",
         "219",
         "253",
         "253",
         "253",
         "253",
         "253",
         "198",
         "182",
         "247",
         "241",
         "0",
         "0",
         "0",
         "0",
         "0",
         "0",
         "0",
         "0",
         "0",
         "0",
         "0",
         "0",
         "0",
         "0",
         "0",
         "0",
         "0",
         "0",
         "80",
         "156",
         "107",
         "253",
         "253",
         "205",
         "11",
         "0",
         "43",
         "154",
         "0",
         "0",
         "0",
         "0",
         "0",
         "0",
         "0",
         "0",
         "0",
         "0",
         "0",
         "0",
         "0",
         "0",
         "0",
         "0",
         "0",
         "0",
         "0",
         "14",
         "1",
         "154",
         "253",
         "90",
         "0",
         "0",
         "0",
         "0",
         "0",
         "0",
         "0",
         "0",
         "0",
         "0",
         "0",
         "0",
         "0",
         "0",
         "0",
         "0",
         "0",
         "0",
         "0",
         "0",
         "0",
         "0",
         "0",
         "0",
         "0",
         "139",
         "253",
         "190",
         "2",
         "0",
         "0",
         "0",
         "0",
         "0",
         "0",
         "0",
         "0",
         "0",
         "0",
         "0",
         "0",
         "0",
         "0",
         "0",
         "0",
         "0",
         "0",
         "0",
         "0",
         "0",
         "0",
         "0",
         "0",
         "11",
         "190",
         "253",
         "70",
         "0",
         "0",
         "0",
         "0",
         "0",
         "0",
         "0",
         "0",
         "0",
         "0",
         "0",
         "0",
         "0",
         "0",
         "0",
         "0",
         "0",
         "0",
         "0",
         "0",
         "0",
         "0",
         "0",
         "0",
         "0",
         "35",
         "241",
         "225",
         "160",
         "108",
         "1",
         "0",
         "0",
         "0",
         "0",
         "0",
         "0",
         "0",
         "0",
         "0",
         "0",
         "0",
         "0",
         "0",
         "0",
         "0",
         "0",
         "0",
         "0",
         "0",
         "0",
         "0",
         "0",
         "0",
         "81",
         "240",
         "253",
         "253",
         "119",
         "25",
         "0",
         "0",
         "0",
         "0",
         "0",
         "0",
         "0",
         "0",
         "0",
         "0",
         "0",
         "0",
         "0",
         "0",
         "0",
         "0",
         "0",
         "0",
         "0",
         "0",
         "0",
         "0",
         "0",
         "45",
         "186",
         "253",
         "253",
         "150",
         "27",
         "0",
         "0",
         "0",
         "0",
         "0",
         "0",
         "0",
         "0",
         "0",
         "0",
         "0",
         "0",
         "0",
         "0",
         "0",
         "0",
         "0",
         "0",
         "0",
         "0",
         "0",
         "0",
         "0",
         "16",
         "93",
         "252",
         "253",
         "187",
         "0",
         "0",
         "0",
         "0",
         "0",
         "0",
         "0",
         "0",
         "0",
         "0",
         "0",
         "0",
         "0",
         "0",
         "0",
         "0",
         "0",
         "0",
         "0",
         "0",
         "0",
         "0",
         "0",
         "0",
         "0",
         "249",
         "253",
         "249",
         "64",
         "0",
         "0",
         "0",
         "0",
         "0",
         "0",
         "0",
         "0",
         "0",
         "0",
         "0",
         "0",
         "0",
         "0",
         "0",
         "0",
         "0",
         "0",
         "0",
         "0",
         "0",
         "46",
         "130",
         "183",
         "253",
         "253",
         "207",
         "2",
         "0",
         "0",
         "0",
         "0",
         "0",
         "0",
         "0",
         "0",
         "0",
         "0",
         "0",
         "0",
         "0",
         "0",
         "0",
         "0",
         "0",
         "0",
         "0",
         "39",
         "148",
         "229",
         "253",
         "253",
         "253",
         "250",
         "182",
         "0",
         "0",
         "0",
         "0",
         "0",
         "0",
         "0",
         "0",
         "0",
         "0",
         "0",
         "0",
         "0",
         "0",
         "0",
         "0",
         "0",
         "0",
         "24",
         "114",
         "221",
         "253",
         "253",
         "253",
         "253",
         "201",
         "78",
         "0",
         "0",
         "0",
         "0",
         "0",
         "0",
         "0",
         "0",
         "0",
         "0",
         "0",
         "0",
         "0",
         "0",
         "0",
         "0",
         "0",
         "23",
         "66",
         "213",
         "253",
         "253",
         "253",
         "253",
         "198",
         "81",
         "2",
         "0",
         "0",
         "0",
         "0",
         "0",
         "0",
         "0",
         "0",
         "0",
         "0",
         "0",
         "0",
         "0",
         "0",
         "0",
         "0",
         "18",
         "171",
         "219",
         "253",
         "253",
         "253",
         "253",
         "195",
         "80",
         "9",
         "0",
         "0",
         "0",
         "0",
         "0",
         "0",
         "0",
         "0",
         "0",
         "0",
         "0",
         "0",
         "0",
         "0",
         "0",
         "0",
         "55",
         "172",
         "226",
         "253",
         "253",
         "253",
         "253",
         "244",
         "133",
         "11",
         "0",
         "0",
         "0",
         "0",
         "0",
         "0",
         "0",
         "0",
         "0",
         "0",
         "0",
         "0",
         "0",
         "0",
         "0",
         "0",
         "0",
         "0",
         "136",
         "253",
         "253",
         "253",
         "212",
         "135",
         "132",
         "16",
         "0",
         "0",
         "0",
         "0",
         "0",
         "0",
         "0",
         "0",
         "0",
         "0",
         "0",
         "0",
         "0",
         "0",
         "0",
         "0",
         "0",
         "0",
         "0",
         "0",
         "0",
         "0",
         "0",
         "0",
         "0",
         "0",
         "0",
         "0",
         "0",
         "0",
         "0",
         "0",
         "0",
         "0",
         "0",
         "0",
         "0",
         "0",
         "0",
         "0",
         "0",
         "0",
         "0",
         "0",
         "0",
         "0",
         "0",
         "0",
         "0",
         "0",
         "0",
         "0",
         "0",
         "0",
         "0",
         "0",
         "0",
         "0",
         "0",
         "0",
         "0",
         "0",
         "0",
         "0",
         "0",
         "0",
         "0",
         "0",
         "0",
         "0",
         "0",
         "0",
         "0",
         "0",
         "0",
         "0",
         "0",
         "0",
         "0",
         "0",
         "0",
         "0",
         "0",
         "0",
         "0",
         "0",
         "0",
         "0",
         "0",
         "0",
         "0",
         "0",
         "0",
         "0",
         "0",
         "0",
         "0",
         "0",
         "0",
         "0"
        ],
        [
         "1",
         "0",
         "0",
         "0",
         "0",
         "0",
         "0",
         "0",
         "0",
         "0",
         "0",
         "0",
         "0",
         "0",
         "0",
         "0",
         "0",
         "0",
         "0",
         "0",
         "0",
         "0",
         "0",
         "0",
         "0",
         "0",
         "0",
         "0",
         "0",
         "0",
         "0",
         "0",
         "0",
         "0",
         "0",
         "0",
         "0",
         "0",
         "0",
         "0",
         "0",
         "0",
         "0",
         "0",
         "0",
         "0",
         "0",
         "0",
         "0",
         "0",
         "0",
         "0",
         "0",
         "0",
         "0",
         "0",
         "0",
         "0",
         "0",
         "0",
         "0",
         "0",
         "0",
         "0",
         "0",
         "0",
         "0",
         "0",
         "0",
         "0",
         "0",
         "0",
         "0",
         "0",
         "0",
         "0",
         "0",
         "0",
         "0",
         "0",
         "0",
         "0",
         "0",
         "0",
         "0",
         "0",
         "0",
         "0",
         "0",
         "0",
         "0",
         "0",
         "0",
         "0",
         "0",
         "0",
         "0",
         "0",
         "0",
         "0",
         "0",
         "0",
         "0",
         "0",
         "0",
         "0",
         "0",
         "0",
         "0",
         "0",
         "0",
         "0",
         "0",
         "0",
         "0",
         "0",
         "0",
         "0",
         "0",
         "0",
         "0",
         "0",
         "0",
         "0",
         "0",
         "0",
         "0",
         "0",
         "0",
         "51",
         "159",
         "253",
         "159",
         "50",
         "0",
         "0",
         "0",
         "0",
         "0",
         "0",
         "0",
         "0",
         "0",
         "0",
         "0",
         "0",
         "0",
         "0",
         "0",
         "0",
         "0",
         "0",
         "0",
         "0",
         "0",
         "0",
         "48",
         "238",
         "252",
         "252",
         "252",
         "237",
         "0",
         "0",
         "0",
         "0",
         "0",
         "0",
         "0",
         "0",
         "0",
         "0",
         "0",
         "0",
         "0",
         "0",
         "0",
         "0",
         "0",
         "0",
         "0",
         "0",
         "0",
         "54",
         "227",
         "253",
         "252",
         "239",
         "233",
         "252",
         "57",
         "6",
         "0",
         "0",
         "0",
         "0",
         "0",
         "0",
         "0",
         "0",
         "0",
         "0",
         "0",
         "0",
         "0",
         "0",
         "0",
         "0",
         "0",
         "10",
         "60",
         "224",
         "252",
         "253",
         "252",
         "202",
         "84",
         "252",
         "253",
         "122",
         "0",
         "0",
         "0",
         "0",
         "0",
         "0",
         "0",
         "0",
         "0",
         "0",
         "0",
         "0",
         "0",
         "0",
         "0",
         "0",
         "0",
         "163",
         "252",
         "252",
         "252",
         "253",
         "252",
         "252",
         "96",
         "189",
         "253",
         "167",
         "0",
         "0",
         "0",
         "0",
         "0",
         "0",
         "0",
         "0",
         "0",
         "0",
         "0",
         "0",
         "0",
         "0",
         "0",
         "0",
         "51",
         "238",
         "253",
         "253",
         "190",
         "114",
         "253",
         "228",
         "47",
         "79",
         "255",
         "168",
         "0",
         "0",
         "0",
         "0",
         "0",
         "0",
         "0",
         "0",
         "0",
         "0",
         "0",
         "0",
         "0",
         "0",
         "0",
         "48",
         "238",
         "252",
         "252",
         "179",
         "12",
         "75",
         "121",
         "21",
         "0",
         "0",
         "253",
         "243",
         "50",
         "0",
         "0",
         "0",
         "0",
         "0",
         "0",
         "0",
         "0",
         "0",
         "0",
         "0",
         "0",
         "0",
         "38",
         "165",
         "253",
         "233",
         "208",
         "84",
         "0",
         "0",
         "0",
         "0",
         "0",
         "0",
         "253",
         "252",
         "165",
         "0",
         "0",
         "0",
         "0",
         "0",
         "0",
         "0",
         "0",
         "0",
         "0",
         "0",
         "0",
         "7",
         "178",
         "252",
         "240",
         "71",
         "19",
         "28",
         "0",
         "0",
         "0",
         "0",
         "0",
         "0",
         "253",
         "252",
         "195",
         "0",
         "0",
         "0",
         "0",
         "0",
         "0",
         "0",
         "0",
         "0",
         "0",
         "0",
         "0",
         "57",
         "252",
         "252",
         "63",
         "0",
         "0",
         "0",
         "0",
         "0",
         "0",
         "0",
         "0",
         "0",
         "253",
         "252",
         "195",
         "0",
         "0",
         "0",
         "0",
         "0",
         "0",
         "0",
         "0",
         "0",
         "0",
         "0",
         "0",
         "198",
         "253",
         "190",
         "0",
         "0",
         "0",
         "0",
         "0",
         "0",
         "0",
         "0",
         "0",
         "0",
         "255",
         "253",
         "196",
         "0",
         "0",
         "0",
         "0",
         "0",
         "0",
         "0",
         "0",
         "0",
         "0",
         "0",
         "76",
         "246",
         "252",
         "112",
         "0",
         "0",
         "0",
         "0",
         "0",
         "0",
         "0",
         "0",
         "0",
         "0",
         "253",
         "252",
         "148",
         "0",
         "0",
         "0",
         "0",
         "0",
         "0",
         "0",
         "0",
         "0",
         "0",
         "0",
         "85",
         "252",
         "230",
         "25",
         "0",
         "0",
         "0",
         "0",
         "0",
         "0",
         "0",
         "0",
         "7",
         "135",
         "253",
         "186",
         "12",
         "0",
         "0",
         "0",
         "0",
         "0",
         "0",
         "0",
         "0",
         "0",
         "0",
         "0",
         "85",
         "252",
         "223",
         "0",
         "0",
         "0",
         "0",
         "0",
         "0",
         "0",
         "0",
         "7",
         "131",
         "252",
         "225",
         "71",
         "0",
         "0",
         "0",
         "0",
         "0",
         "0",
         "0",
         "0",
         "0",
         "0",
         "0",
         "0",
         "85",
         "252",
         "145",
         "0",
         "0",
         "0",
         "0",
         "0",
         "0",
         "0",
         "48",
         "165",
         "252",
         "173",
         "0",
         "0",
         "0",
         "0",
         "0",
         "0",
         "0",
         "0",
         "0",
         "0",
         "0",
         "0",
         "0",
         "0",
         "86",
         "253",
         "225",
         "0",
         "0",
         "0",
         "0",
         "0",
         "0",
         "114",
         "238",
         "253",
         "162",
         "0",
         "0",
         "0",
         "0",
         "0",
         "0",
         "0",
         "0",
         "0",
         "0",
         "0",
         "0",
         "0",
         "0",
         "0",
         "85",
         "252",
         "249",
         "146",
         "48",
         "29",
         "85",
         "178",
         "225",
         "253",
         "223",
         "167",
         "56",
         "0",
         "0",
         "0",
         "0",
         "0",
         "0",
         "0",
         "0",
         "0",
         "0",
         "0",
         "0",
         "0",
         "0",
         "0",
         "85",
         "252",
         "252",
         "252",
         "229",
         "215",
         "252",
         "252",
         "252",
         "196",
         "130",
         "0",
         "0",
         "0",
         "0",
         "0",
         "0",
         "0",
         "0",
         "0",
         "0",
         "0",
         "0",
         "0",
         "0",
         "0",
         "0",
         "0",
         "28",
         "199",
         "252",
         "252",
         "253",
         "252",
         "252",
         "233",
         "145",
         "0",
         "0",
         "0",
         "0",
         "0",
         "0",
         "0",
         "0",
         "0",
         "0",
         "0",
         "0",
         "0",
         "0",
         "0",
         "0",
         "0",
         "0",
         "0",
         "0",
         "25",
         "128",
         "252",
         "253",
         "252",
         "141",
         "37",
         "0",
         "0",
         "0",
         "0",
         "0",
         "0",
         "0",
         "0",
         "0",
         "0",
         "0",
         "0",
         "0",
         "0",
         "0",
         "0",
         "0",
         "0",
         "0",
         "0",
         "0",
         "0",
         "0",
         "0",
         "0",
         "0",
         "0",
         "0",
         "0",
         "0",
         "0",
         "0",
         "0",
         "0",
         "0",
         "0",
         "0",
         "0",
         "0",
         "0",
         "0",
         "0",
         "0",
         "0",
         "0",
         "0",
         "0",
         "0",
         "0",
         "0",
         "0",
         "0",
         "0",
         "0",
         "0",
         "0",
         "0",
         "0",
         "0",
         "0",
         "0",
         "0",
         "0",
         "0",
         "0",
         "0",
         "0",
         "0",
         "0",
         "0",
         "0",
         "0",
         "0",
         "0",
         "0",
         "0",
         "0",
         "0",
         "0",
         "0",
         "0",
         "0",
         "0",
         "0",
         "0",
         "0",
         "0",
         "0",
         "0",
         "0",
         "0",
         "0",
         "0",
         "0",
         "0",
         "0",
         "0",
         "0",
         "0",
         "0",
         "0",
         "0",
         "0",
         "0",
         "0",
         "0",
         "0",
         "0",
         "0",
         "0",
         "0",
         "0",
         "0",
         "0",
         "0",
         "0",
         "0",
         "0",
         "0",
         "0",
         "0",
         "0",
         "0",
         "0",
         "0",
         "0"
        ],
        [
         "2",
         "4",
         "0",
         "0",
         "0",
         "0",
         "0",
         "0",
         "0",
         "0",
         "0",
         "0",
         "0",
         "0",
         "0",
         "0",
         "0",
         "0",
         "0",
         "0",
         "0",
         "0",
         "0",
         "0",
         "0",
         "0",
         "0",
         "0",
         "0",
         "0",
         "0",
         "0",
         "0",
         "0",
         "0",
         "0",
         "0",
         "0",
         "0",
         "0",
         "0",
         "0",
         "0",
         "0",
         "0",
         "0",
         "0",
         "0",
         "0",
         "0",
         "0",
         "0",
         "0",
         "0",
         "0",
         "0",
         "0",
         "0",
         "0",
         "0",
         "0",
         "0",
         "0",
         "0",
         "0",
         "0",
         "0",
         "0",
         "0",
         "0",
         "0",
         "0",
         "0",
         "0",
         "0",
         "0",
         "0",
         "0",
         "0",
         "0",
         "0",
         "0",
         "0",
         "0",
         "0",
         "0",
         "0",
         "0",
         "0",
         "0",
         "0",
         "0",
         "0",
         "0",
         "0",
         "0",
         "0",
         "0",
         "0",
         "0",
         "0",
         "0",
         "0",
         "0",
         "0",
         "0",
         "0",
         "0",
         "0",
         "0",
         "0",
         "0",
         "0",
         "0",
         "0",
         "0",
         "0",
         "0",
         "0",
         "0",
         "0",
         "0",
         "0",
         "0",
         "0",
         "0",
         "0",
         "0",
         "0",
         "0",
         "0",
         "0",
         "0",
         "0",
         "0",
         "0",
         "0",
         "0",
         "0",
         "0",
         "0",
         "0",
         "0",
         "0",
         "0",
         "0",
         "0",
         "0",
         "0",
         "0",
         "0",
         "0",
         "0",
         "0",
         "0",
         "0",
         "0",
         "0",
         "0",
         "0",
         "0",
         "0",
         "67",
         "232",
         "39",
         "0",
         "0",
         "0",
         "0",
         "0",
         "0",
         "0",
         "0",
         "0",
         "62",
         "81",
         "0",
         "0",
         "0",
         "0",
         "0",
         "0",
         "0",
         "0",
         "0",
         "0",
         "0",
         "0",
         "0",
         "0",
         "120",
         "180",
         "39",
         "0",
         "0",
         "0",
         "0",
         "0",
         "0",
         "0",
         "0",
         "0",
         "126",
         "163",
         "0",
         "0",
         "0",
         "0",
         "0",
         "0",
         "0",
         "0",
         "0",
         "0",
         "0",
         "0",
         "0",
         "2",
         "153",
         "210",
         "40",
         "0",
         "0",
         "0",
         "0",
         "0",
         "0",
         "0",
         "0",
         "0",
         "220",
         "163",
         "0",
         "0",
         "0",
         "0",
         "0",
         "0",
         "0",
         "0",
         "0",
         "0",
         "0",
         "0",
         "0",
         "27",
         "254",
         "162",
         "0",
         "0",
         "0",
         "0",
         "0",
         "0",
         "0",
         "0",
         "0",
         "0",
         "222",
         "163",
         "0",
         "0",
         "0",
         "0",
         "0",
         "0",
         "0",
         "0",
         "0",
         "0",
         "0",
         "0",
         "0",
         "183",
         "254",
         "125",
         "0",
         "0",
         "0",
         "0",
         "0",
         "0",
         "0",
         "0",
         "0",
         "46",
         "245",
         "163",
         "0",
         "0",
         "0",
         "0",
         "0",
         "0",
         "0",
         "0",
         "0",
         "0",
         "0",
         "0",
         "0",
         "198",
         "254",
         "56",
         "0",
         "0",
         "0",
         "0",
         "0",
         "0",
         "0",
         "0",
         "0",
         "120",
         "254",
         "163",
         "0",
         "0",
         "0",
         "0",
         "0",
         "0",
         "0",
         "0",
         "0",
         "0",
         "0",
         "0",
         "23",
         "231",
         "254",
         "29",
         "0",
         "0",
         "0",
         "0",
         "0",
         "0",
         "0",
         "0",
         "0",
         "159",
         "254",
         "120",
         "0",
         "0",
         "0",
         "0",
         "0",
         "0",
         "0",
         "0",
         "0",
         "0",
         "0",
         "0",
         "163",
         "254",
         "216",
         "16",
         "0",
         "0",
         "0",
         "0",
         "0",
         "0",
         "0",
         "0",
         "0",
         "159",
         "254",
         "67",
         "0",
         "0",
         "0",
         "0",
         "0",
         "0",
         "0",
         "0",
         "0",
         "14",
         "86",
         "178",
         "248",
         "254",
         "91",
         "0",
         "0",
         "0",
         "0",
         "0",
         "0",
         "0",
         "0",
         "0",
         "0",
         "159",
         "254",
         "85",
         "0",
         "0",
         "0",
         "47",
         "49",
         "116",
         "144",
         "150",
         "241",
         "243",
         "234",
         "179",
         "241",
         "252",
         "40",
         "0",
         "0",
         "0",
         "0",
         "0",
         "0",
         "0",
         "0",
         "0",
         "0",
         "150",
         "253",
         "237",
         "207",
         "207",
         "207",
         "253",
         "254",
         "250",
         "240",
         "198",
         "143",
         "91",
         "28",
         "5",
         "233",
         "250",
         "0",
         "0",
         "0",
         "0",
         "0",
         "0",
         "0",
         "0",
         "0",
         "0",
         "0",
         "0",
         "119",
         "177",
         "177",
         "177",
         "177",
         "177",
         "98",
         "56",
         "0",
         "0",
         "0",
         "0",
         "0",
         "102",
         "254",
         "220",
         "0",
         "0",
         "0",
         "0",
         "0",
         "0",
         "0",
         "0",
         "0",
         "0",
         "0",
         "0",
         "0",
         "0",
         "0",
         "0",
         "0",
         "0",
         "0",
         "0",
         "0",
         "0",
         "0",
         "0",
         "0",
         "169",
         "254",
         "137",
         "0",
         "0",
         "0",
         "0",
         "0",
         "0",
         "0",
         "0",
         "0",
         "0",
         "0",
         "0",
         "0",
         "0",
         "0",
         "0",
         "0",
         "0",
         "0",
         "0",
         "0",
         "0",
         "0",
         "0",
         "0",
         "169",
         "254",
         "57",
         "0",
         "0",
         "0",
         "0",
         "0",
         "0",
         "0",
         "0",
         "0",
         "0",
         "0",
         "0",
         "0",
         "0",
         "0",
         "0",
         "0",
         "0",
         "0",
         "0",
         "0",
         "0",
         "0",
         "0",
         "0",
         "169",
         "254",
         "57",
         "0",
         "0",
         "0",
         "0",
         "0",
         "0",
         "0",
         "0",
         "0",
         "0",
         "0",
         "0",
         "0",
         "0",
         "0",
         "0",
         "0",
         "0",
         "0",
         "0",
         "0",
         "0",
         "0",
         "0",
         "0",
         "169",
         "255",
         "94",
         "0",
         "0",
         "0",
         "0",
         "0",
         "0",
         "0",
         "0",
         "0",
         "0",
         "0",
         "0",
         "0",
         "0",
         "0",
         "0",
         "0",
         "0",
         "0",
         "0",
         "0",
         "0",
         "0",
         "0",
         "0",
         "169",
         "254",
         "96",
         "0",
         "0",
         "0",
         "0",
         "0",
         "0",
         "0",
         "0",
         "0",
         "0",
         "0",
         "0",
         "0",
         "0",
         "0",
         "0",
         "0",
         "0",
         "0",
         "0",
         "0",
         "0",
         "0",
         "0",
         "0",
         "169",
         "254",
         "153",
         "0",
         "0",
         "0",
         "0",
         "0",
         "0",
         "0",
         "0",
         "0",
         "0",
         "0",
         "0",
         "0",
         "0",
         "0",
         "0",
         "0",
         "0",
         "0",
         "0",
         "0",
         "0",
         "0",
         "0",
         "0",
         "169",
         "255",
         "153",
         "0",
         "0",
         "0",
         "0",
         "0",
         "0",
         "0",
         "0",
         "0",
         "0",
         "0",
         "0",
         "0",
         "0",
         "0",
         "0",
         "0",
         "0",
         "0",
         "0",
         "0",
         "0",
         "0",
         "0",
         "0",
         "96",
         "254",
         "153",
         "0",
         "0",
         "0",
         "0",
         "0",
         "0",
         "0",
         "0",
         "0",
         "0",
         "0",
         "0",
         "0",
         "0",
         "0",
         "0",
         "0",
         "0",
         "0",
         "0",
         "0",
         "0",
         "0",
         "0",
         "0",
         "0",
         "0",
         "0",
         "0",
         "0",
         "0",
         "0",
         "0",
         "0",
         "0",
         "0",
         "0",
         "0",
         "0",
         "0",
         "0",
         "0",
         "0",
         "0",
         "0",
         "0",
         "0",
         "0",
         "0",
         "0",
         "0",
         "0",
         "0",
         "0",
         "0",
         "0",
         "0",
         "0",
         "0",
         "0",
         "0",
         "0",
         "0",
         "0",
         "0",
         "0",
         "0",
         "0",
         "0",
         "0",
         "0",
         "0",
         "0",
         "0",
         "0",
         "0",
         "0",
         "0",
         "0",
         "0",
         "0",
         "0",
         "0",
         "0",
         "0",
         "0",
         "0",
         "0",
         "0",
         "0",
         "0",
         "0"
        ],
        [
         "3",
         "1",
         "0",
         "0",
         "0",
         "0",
         "0",
         "0",
         "0",
         "0",
         "0",
         "0",
         "0",
         "0",
         "0",
         "0",
         "0",
         "0",
         "0",
         "0",
         "0",
         "0",
         "0",
         "0",
         "0",
         "0",
         "0",
         "0",
         "0",
         "0",
         "0",
         "0",
         "0",
         "0",
         "0",
         "0",
         "0",
         "0",
         "0",
         "0",
         "0",
         "0",
         "0",
         "0",
         "0",
         "0",
         "0",
         "0",
         "0",
         "0",
         "0",
         "0",
         "0",
         "0",
         "0",
         "0",
         "0",
         "0",
         "0",
         "0",
         "0",
         "0",
         "0",
         "0",
         "0",
         "0",
         "0",
         "0",
         "0",
         "0",
         "0",
         "0",
         "0",
         "0",
         "0",
         "0",
         "0",
         "0",
         "0",
         "0",
         "0",
         "0",
         "0",
         "0",
         "0",
         "0",
         "0",
         "0",
         "0",
         "0",
         "0",
         "0",
         "0",
         "0",
         "0",
         "0",
         "0",
         "0",
         "0",
         "0",
         "0",
         "0",
         "0",
         "0",
         "0",
         "0",
         "0",
         "0",
         "0",
         "0",
         "0",
         "0",
         "0",
         "0",
         "0",
         "0",
         "0",
         "0",
         "0",
         "0",
         "0",
         "0",
         "0",
         "0",
         "0",
         "0",
         "0",
         "0",
         "0",
         "0",
         "0",
         "0",
         "0",
         "0",
         "0",
         "0",
         "0",
         "0",
         "0",
         "0",
         "0",
         "0",
         "0",
         "0",
         "0",
         "0",
         "0",
         "0",
         "0",
         "0",
         "0",
         "0",
         "0",
         "0",
         "0",
         "0",
         "0",
         "0",
         "0",
         "0",
         "124",
         "253",
         "255",
         "63",
         "0",
         "0",
         "0",
         "0",
         "0",
         "0",
         "0",
         "0",
         "0",
         "0",
         "0",
         "0",
         "0",
         "0",
         "0",
         "0",
         "0",
         "0",
         "0",
         "0",
         "0",
         "0",
         "0",
         "96",
         "244",
         "251",
         "253",
         "62",
         "0",
         "0",
         "0",
         "0",
         "0",
         "0",
         "0",
         "0",
         "0",
         "0",
         "0",
         "0",
         "0",
         "0",
         "0",
         "0",
         "0",
         "0",
         "0",
         "0",
         "0",
         "0",
         "0",
         "127",
         "251",
         "251",
         "253",
         "62",
         "0",
         "0",
         "0",
         "0",
         "0",
         "0",
         "0",
         "0",
         "0",
         "0",
         "0",
         "0",
         "0",
         "0",
         "0",
         "0",
         "0",
         "0",
         "0",
         "0",
         "0",
         "0",
         "68",
         "236",
         "251",
         "211",
         "31",
         "8",
         "0",
         "0",
         "0",
         "0",
         "0",
         "0",
         "0",
         "0",
         "0",
         "0",
         "0",
         "0",
         "0",
         "0",
         "0",
         "0",
         "0",
         "0",
         "0",
         "0",
         "0",
         "60",
         "228",
         "251",
         "251",
         "94",
         "0",
         "0",
         "0",
         "0",
         "0",
         "0",
         "0",
         "0",
         "0",
         "0",
         "0",
         "0",
         "0",
         "0",
         "0",
         "0",
         "0",
         "0",
         "0",
         "0",
         "0",
         "0",
         "0",
         "155",
         "253",
         "253",
         "189",
         "0",
         "0",
         "0",
         "0",
         "0",
         "0",
         "0",
         "0",
         "0",
         "0",
         "0",
         "0",
         "0",
         "0",
         "0",
         "0",
         "0",
         "0",
         "0",
         "0",
         "0",
         "0",
         "0",
         "20",
         "253",
         "251",
         "235",
         "66",
         "0",
         "0",
         "0",
         "0",
         "0",
         "0",
         "0",
         "0",
         "0",
         "0",
         "0",
         "0",
         "0",
         "0",
         "0",
         "0",
         "0",
         "0",
         "0",
         "0",
         "0",
         "0",
         "32",
         "205",
         "253",
         "251",
         "126",
         "0",
         "0",
         "0",
         "0",
         "0",
         "0",
         "0",
         "0",
         "0",
         "0",
         "0",
         "0",
         "0",
         "0",
         "0",
         "0",
         "0",
         "0",
         "0",
         "0",
         "0",
         "0",
         "0",
         "104",
         "251",
         "253",
         "184",
         "15",
         "0",
         "0",
         "0",
         "0",
         "0",
         "0",
         "0",
         "0",
         "0",
         "0",
         "0",
         "0",
         "0",
         "0",
         "0",
         "0",
         "0",
         "0",
         "0",
         "0",
         "0",
         "0",
         "80",
         "240",
         "251",
         "193",
         "23",
         "0",
         "0",
         "0",
         "0",
         "0",
         "0",
         "0",
         "0",
         "0",
         "0",
         "0",
         "0",
         "0",
         "0",
         "0",
         "0",
         "0",
         "0",
         "0",
         "0",
         "0",
         "0",
         "32",
         "253",
         "253",
         "253",
         "159",
         "0",
         "0",
         "0",
         "0",
         "0",
         "0",
         "0",
         "0",
         "0",
         "0",
         "0",
         "0",
         "0",
         "0",
         "0",
         "0",
         "0",
         "0",
         "0",
         "0",
         "0",
         "0",
         "0",
         "151",
         "251",
         "251",
         "251",
         "39",
         "0",
         "0",
         "0",
         "0",
         "0",
         "0",
         "0",
         "0",
         "0",
         "0",
         "0",
         "0",
         "0",
         "0",
         "0",
         "0",
         "0",
         "0",
         "0",
         "0",
         "0",
         "0",
         "48",
         "221",
         "251",
         "251",
         "172",
         "0",
         "0",
         "0",
         "0",
         "0",
         "0",
         "0",
         "0",
         "0",
         "0",
         "0",
         "0",
         "0",
         "0",
         "0",
         "0",
         "0",
         "0",
         "0",
         "0",
         "0",
         "0",
         "0",
         "234",
         "251",
         "251",
         "196",
         "12",
         "0",
         "0",
         "0",
         "0",
         "0",
         "0",
         "0",
         "0",
         "0",
         "0",
         "0",
         "0",
         "0",
         "0",
         "0",
         "0",
         "0",
         "0",
         "0",
         "0",
         "0",
         "0",
         "0",
         "253",
         "251",
         "251",
         "89",
         "0",
         "0",
         "0",
         "0",
         "0",
         "0",
         "0",
         "0",
         "0",
         "0",
         "0",
         "0",
         "0",
         "0",
         "0",
         "0",
         "0",
         "0",
         "0",
         "0",
         "0",
         "0",
         "0",
         "159",
         "255",
         "253",
         "253",
         "31",
         "0",
         "0",
         "0",
         "0",
         "0",
         "0",
         "0",
         "0",
         "0",
         "0",
         "0",
         "0",
         "0",
         "0",
         "0",
         "0",
         "0",
         "0",
         "0",
         "0",
         "0",
         "0",
         "48",
         "228",
         "253",
         "247",
         "140",
         "8",
         "0",
         "0",
         "0",
         "0",
         "0",
         "0",
         "0",
         "0",
         "0",
         "0",
         "0",
         "0",
         "0",
         "0",
         "0",
         "0",
         "0",
         "0",
         "0",
         "0",
         "0",
         "0",
         "64",
         "251",
         "253",
         "220",
         "0",
         "0",
         "0",
         "0",
         "0",
         "0",
         "0",
         "0",
         "0",
         "0",
         "0",
         "0",
         "0",
         "0",
         "0",
         "0",
         "0",
         "0",
         "0",
         "0",
         "0",
         "0",
         "0",
         "0",
         "64",
         "251",
         "253",
         "220",
         "0",
         "0",
         "0",
         "0",
         "0",
         "0",
         "0",
         "0",
         "0",
         "0",
         "0",
         "0",
         "0",
         "0",
         "0",
         "0",
         "0",
         "0",
         "0",
         "0",
         "0",
         "0",
         "0",
         "0",
         "24",
         "193",
         "253",
         "220",
         "0",
         "0",
         "0",
         "0",
         "0",
         "0",
         "0",
         "0",
         "0",
         "0",
         "0",
         "0",
         "0",
         "0",
         "0",
         "0",
         "0",
         "0",
         "0",
         "0",
         "0",
         "0",
         "0",
         "0",
         "0",
         "0",
         "0",
         "0",
         "0",
         "0",
         "0",
         "0",
         "0",
         "0",
         "0",
         "0",
         "0",
         "0",
         "0",
         "0",
         "0",
         "0",
         "0",
         "0",
         "0",
         "0",
         "0",
         "0",
         "0",
         "0",
         "0",
         "0",
         "0",
         "0",
         "0",
         "0",
         "0",
         "0",
         "0",
         "0",
         "0",
         "0",
         "0",
         "0",
         "0",
         "0",
         "0",
         "0",
         "0",
         "0",
         "0",
         "0",
         "0",
         "0",
         "0",
         "0",
         "0",
         "0",
         "0",
         "0",
         "0",
         "0",
         "0",
         "0",
         "0",
         "0",
         "0",
         "0",
         "0",
         "0",
         "0",
         "0",
         "0",
         "0",
         "0",
         "0",
         "0",
         "0",
         "0",
         "0"
        ],
        [
         "4",
         "9",
         "0",
         "0",
         "0",
         "0",
         "0",
         "0",
         "0",
         "0",
         "0",
         "0",
         "0",
         "0",
         "0",
         "0",
         "0",
         "0",
         "0",
         "0",
         "0",
         "0",
         "0",
         "0",
         "0",
         "0",
         "0",
         "0",
         "0",
         "0",
         "0",
         "0",
         "0",
         "0",
         "0",
         "0",
         "0",
         "0",
         "0",
         "0",
         "0",
         "0",
         "0",
         "0",
         "0",
         "0",
         "0",
         "0",
         "0",
         "0",
         "0",
         "0",
         "0",
         "0",
         "0",
         "0",
         "0",
         "0",
         "0",
         "0",
         "0",
         "0",
         "0",
         "0",
         "0",
         "0",
         "0",
         "0",
         "0",
         "0",
         "0",
         "0",
         "0",
         "0",
         "0",
         "0",
         "0",
         "0",
         "0",
         "0",
         "0",
         "0",
         "0",
         "0",
         "0",
         "0",
         "0",
         "0",
         "0",
         "0",
         "0",
         "0",
         "0",
         "0",
         "0",
         "0",
         "0",
         "0",
         "0",
         "0",
         "0",
         "0",
         "0",
         "0",
         "0",
         "0",
         "0",
         "0",
         "0",
         "0",
         "0",
         "0",
         "0",
         "0",
         "0",
         "0",
         "0",
         "0",
         "0",
         "0",
         "0",
         "0",
         "0",
         "0",
         "0",
         "0",
         "0",
         "0",
         "0",
         "0",
         "0",
         "0",
         "0",
         "0",
         "0",
         "0",
         "0",
         "0",
         "0",
         "0",
         "0",
         "0",
         "0",
         "0",
         "0",
         "0",
         "0",
         "0",
         "0",
         "0",
         "0",
         "0",
         "0",
         "0",
         "0",
         "0",
         "0",
         "0",
         "0",
         "0",
         "0",
         "0",
         "0",
         "0",
         "0",
         "0",
         "0",
         "0",
         "0",
         "0",
         "0",
         "0",
         "0",
         "0",
         "0",
         "0",
         "0",
         "0",
         "0",
         "0",
         "0",
         "0",
         "0",
         "0",
         "0",
         "0",
         "0",
         "0",
         "0",
         "0",
         "0",
         "0",
         "0",
         "0",
         "0",
         "0",
         "0",
         "0",
         "0",
         "0",
         "0",
         "0",
         "0",
         "0",
         "0",
         "0",
         "0",
         "0",
         "0",
         "0",
         "55",
         "148",
         "210",
         "253",
         "253",
         "113",
         "87",
         "148",
         "55",
         "0",
         "0",
         "0",
         "0",
         "0",
         "0",
         "0",
         "0",
         "0",
         "0",
         "0",
         "0",
         "0",
         "0",
         "0",
         "0",
         "0",
         "0",
         "87",
         "232",
         "252",
         "253",
         "189",
         "210",
         "252",
         "252",
         "253",
         "168",
         "0",
         "0",
         "0",
         "0",
         "0",
         "0",
         "0",
         "0",
         "0",
         "0",
         "0",
         "0",
         "0",
         "0",
         "0",
         "0",
         "4",
         "57",
         "242",
         "252",
         "190",
         "65",
         "5",
         "12",
         "182",
         "252",
         "253",
         "116",
         "0",
         "0",
         "0",
         "0",
         "0",
         "0",
         "0",
         "0",
         "0",
         "0",
         "0",
         "0",
         "0",
         "0",
         "0",
         "0",
         "96",
         "252",
         "252",
         "183",
         "14",
         "0",
         "0",
         "92",
         "252",
         "252",
         "225",
         "21",
         "0",
         "0",
         "0",
         "0",
         "0",
         "0",
         "0",
         "0",
         "0",
         "0",
         "0",
         "0",
         "0",
         "0",
         "0",
         "132",
         "253",
         "252",
         "146",
         "14",
         "0",
         "0",
         "0",
         "215",
         "252",
         "252",
         "79",
         "0",
         "0",
         "0",
         "0",
         "0",
         "0",
         "0",
         "0",
         "0",
         "0",
         "0",
         "0",
         "0",
         "0",
         "0",
         "126",
         "253",
         "247",
         "176",
         "9",
         "0",
         "0",
         "8",
         "78",
         "245",
         "253",
         "129",
         "0",
         "0",
         "0",
         "0",
         "0",
         "0",
         "0",
         "0",
         "0",
         "0",
         "0",
         "0",
         "0",
         "0",
         "0",
         "16",
         "232",
         "252",
         "176",
         "0",
         "0",
         "0",
         "36",
         "201",
         "252",
         "252",
         "169",
         "11",
         "0",
         "0",
         "0",
         "0",
         "0",
         "0",
         "0",
         "0",
         "0",
         "0",
         "0",
         "0",
         "0",
         "0",
         "0",
         "22",
         "252",
         "252",
         "30",
         "22",
         "119",
         "197",
         "241",
         "253",
         "252",
         "251",
         "77",
         "0",
         "0",
         "0",
         "0",
         "0",
         "0",
         "0",
         "0",
         "0",
         "0",
         "0",
         "0",
         "0",
         "0",
         "0",
         "0",
         "16",
         "231",
         "252",
         "253",
         "252",
         "252",
         "252",
         "226",
         "227",
         "252",
         "231",
         "0",
         "0",
         "0",
         "0",
         "0",
         "0",
         "0",
         "0",
         "0",
         "0",
         "0",
         "0",
         "0",
         "0",
         "0",
         "0",
         "0",
         "0",
         "55",
         "235",
         "253",
         "217",
         "138",
         "42",
         "24",
         "192",
         "252",
         "143",
         "0",
         "0",
         "0",
         "0",
         "0",
         "0",
         "0",
         "0",
         "0",
         "0",
         "0",
         "0",
         "0",
         "0",
         "0",
         "0",
         "0",
         "0",
         "0",
         "0",
         "0",
         "0",
         "0",
         "0",
         "62",
         "255",
         "253",
         "109",
         "0",
         "0",
         "0",
         "0",
         "0",
         "0",
         "0",
         "0",
         "0",
         "0",
         "0",
         "0",
         "0",
         "0",
         "0",
         "0",
         "0",
         "0",
         "0",
         "0",
         "0",
         "0",
         "0",
         "0",
         "71",
         "253",
         "252",
         "21",
         "0",
         "0",
         "0",
         "0",
         "0",
         "0",
         "0",
         "0",
         "0",
         "0",
         "0",
         "0",
         "0",
         "0",
         "0",
         "0",
         "0",
         "0",
         "0",
         "0",
         "0",
         "0",
         "0",
         "0",
         "0",
         "253",
         "252",
         "21",
         "0",
         "0",
         "0",
         "0",
         "0",
         "0",
         "0",
         "0",
         "0",
         "0",
         "0",
         "0",
         "0",
         "0",
         "0",
         "0",
         "0",
         "0",
         "0",
         "0",
         "0",
         "0",
         "0",
         "0",
         "71",
         "253",
         "252",
         "21",
         "0",
         "0",
         "0",
         "0",
         "0",
         "0",
         "0",
         "0",
         "0",
         "0",
         "0",
         "0",
         "0",
         "0",
         "0",
         "0",
         "0",
         "0",
         "0",
         "0",
         "0",
         "0",
         "0",
         "0",
         "106",
         "253",
         "252",
         "21",
         "0",
         "0",
         "0",
         "0",
         "0",
         "0",
         "0",
         "0",
         "0",
         "0",
         "0",
         "0",
         "0",
         "0",
         "0",
         "0",
         "0",
         "0",
         "0",
         "0",
         "0",
         "0",
         "0",
         "0",
         "45",
         "255",
         "253",
         "21",
         "0",
         "0",
         "0",
         "0",
         "0",
         "0",
         "0",
         "0",
         "0",
         "0",
         "0",
         "0",
         "0",
         "0",
         "0",
         "0",
         "0",
         "0",
         "0",
         "0",
         "0",
         "0",
         "0",
         "0",
         "0",
         "218",
         "252",
         "56",
         "0",
         "0",
         "0",
         "0",
         "0",
         "0",
         "0",
         "0",
         "0",
         "0",
         "0",
         "0",
         "0",
         "0",
         "0",
         "0",
         "0",
         "0",
         "0",
         "0",
         "0",
         "0",
         "0",
         "0",
         "0",
         "96",
         "252",
         "189",
         "42",
         "0",
         "0",
         "0",
         "0",
         "0",
         "0",
         "0",
         "0",
         "0",
         "0",
         "0",
         "0",
         "0",
         "0",
         "0",
         "0",
         "0",
         "0",
         "0",
         "0",
         "0",
         "0",
         "0",
         "0",
         "14",
         "184",
         "252",
         "170",
         "11",
         "0",
         "0",
         "0",
         "0",
         "0",
         "0",
         "0",
         "0",
         "0",
         "0",
         "0",
         "0",
         "0",
         "0",
         "0",
         "0",
         "0",
         "0",
         "0",
         "0",
         "0",
         "0",
         "0",
         "0",
         "14",
         "147",
         "252",
         "42",
         "0",
         "0",
         "0",
         "0",
         "0",
         "0",
         "0",
         "0",
         "0",
         "0",
         "0",
         "0",
         "0",
         "0",
         "0",
         "0",
         "0",
         "0",
         "0",
         "0",
         "0",
         "0",
         "0",
         "0",
         "0",
         "0",
         "0",
         "0",
         "0",
         "0",
         "0",
         "0",
         "0",
         "0",
         "0",
         "0",
         "0"
        ]
       ],
       "shape": {
        "columns": 785,
        "rows": 5
       }
      },
      "text/html": [
       "<div>\n",
       "<style scoped>\n",
       "    .dataframe tbody tr th:only-of-type {\n",
       "        vertical-align: middle;\n",
       "    }\n",
       "\n",
       "    .dataframe tbody tr th {\n",
       "        vertical-align: top;\n",
       "    }\n",
       "\n",
       "    .dataframe thead th {\n",
       "        text-align: right;\n",
       "    }\n",
       "</style>\n",
       "<table border=\"1\" class=\"dataframe\">\n",
       "  <thead>\n",
       "    <tr style=\"text-align: right;\">\n",
       "      <th></th>\n",
       "      <th>label</th>\n",
       "      <th>1x1</th>\n",
       "      <th>1x2</th>\n",
       "      <th>1x3</th>\n",
       "      <th>1x4</th>\n",
       "      <th>1x5</th>\n",
       "      <th>1x6</th>\n",
       "      <th>1x7</th>\n",
       "      <th>1x8</th>\n",
       "      <th>1x9</th>\n",
       "      <th>...</th>\n",
       "      <th>28x19</th>\n",
       "      <th>28x20</th>\n",
       "      <th>28x21</th>\n",
       "      <th>28x22</th>\n",
       "      <th>28x23</th>\n",
       "      <th>28x24</th>\n",
       "      <th>28x25</th>\n",
       "      <th>28x26</th>\n",
       "      <th>28x27</th>\n",
       "      <th>28x28</th>\n",
       "    </tr>\n",
       "  </thead>\n",
       "  <tbody>\n",
       "    <tr>\n",
       "      <th>0</th>\n",
       "      <td>5</td>\n",
       "      <td>0</td>\n",
       "      <td>0</td>\n",
       "      <td>0</td>\n",
       "      <td>0</td>\n",
       "      <td>0</td>\n",
       "      <td>0</td>\n",
       "      <td>0</td>\n",
       "      <td>0</td>\n",
       "      <td>0</td>\n",
       "      <td>...</td>\n",
       "      <td>0</td>\n",
       "      <td>0</td>\n",
       "      <td>0</td>\n",
       "      <td>0</td>\n",
       "      <td>0</td>\n",
       "      <td>0</td>\n",
       "      <td>0</td>\n",
       "      <td>0</td>\n",
       "      <td>0</td>\n",
       "      <td>0</td>\n",
       "    </tr>\n",
       "    <tr>\n",
       "      <th>1</th>\n",
       "      <td>0</td>\n",
       "      <td>0</td>\n",
       "      <td>0</td>\n",
       "      <td>0</td>\n",
       "      <td>0</td>\n",
       "      <td>0</td>\n",
       "      <td>0</td>\n",
       "      <td>0</td>\n",
       "      <td>0</td>\n",
       "      <td>0</td>\n",
       "      <td>...</td>\n",
       "      <td>0</td>\n",
       "      <td>0</td>\n",
       "      <td>0</td>\n",
       "      <td>0</td>\n",
       "      <td>0</td>\n",
       "      <td>0</td>\n",
       "      <td>0</td>\n",
       "      <td>0</td>\n",
       "      <td>0</td>\n",
       "      <td>0</td>\n",
       "    </tr>\n",
       "    <tr>\n",
       "      <th>2</th>\n",
       "      <td>4</td>\n",
       "      <td>0</td>\n",
       "      <td>0</td>\n",
       "      <td>0</td>\n",
       "      <td>0</td>\n",
       "      <td>0</td>\n",
       "      <td>0</td>\n",
       "      <td>0</td>\n",
       "      <td>0</td>\n",
       "      <td>0</td>\n",
       "      <td>...</td>\n",
       "      <td>0</td>\n",
       "      <td>0</td>\n",
       "      <td>0</td>\n",
       "      <td>0</td>\n",
       "      <td>0</td>\n",
       "      <td>0</td>\n",
       "      <td>0</td>\n",
       "      <td>0</td>\n",
       "      <td>0</td>\n",
       "      <td>0</td>\n",
       "    </tr>\n",
       "    <tr>\n",
       "      <th>3</th>\n",
       "      <td>1</td>\n",
       "      <td>0</td>\n",
       "      <td>0</td>\n",
       "      <td>0</td>\n",
       "      <td>0</td>\n",
       "      <td>0</td>\n",
       "      <td>0</td>\n",
       "      <td>0</td>\n",
       "      <td>0</td>\n",
       "      <td>0</td>\n",
       "      <td>...</td>\n",
       "      <td>0</td>\n",
       "      <td>0</td>\n",
       "      <td>0</td>\n",
       "      <td>0</td>\n",
       "      <td>0</td>\n",
       "      <td>0</td>\n",
       "      <td>0</td>\n",
       "      <td>0</td>\n",
       "      <td>0</td>\n",
       "      <td>0</td>\n",
       "    </tr>\n",
       "    <tr>\n",
       "      <th>4</th>\n",
       "      <td>9</td>\n",
       "      <td>0</td>\n",
       "      <td>0</td>\n",
       "      <td>0</td>\n",
       "      <td>0</td>\n",
       "      <td>0</td>\n",
       "      <td>0</td>\n",
       "      <td>0</td>\n",
       "      <td>0</td>\n",
       "      <td>0</td>\n",
       "      <td>...</td>\n",
       "      <td>0</td>\n",
       "      <td>0</td>\n",
       "      <td>0</td>\n",
       "      <td>0</td>\n",
       "      <td>0</td>\n",
       "      <td>0</td>\n",
       "      <td>0</td>\n",
       "      <td>0</td>\n",
       "      <td>0</td>\n",
       "      <td>0</td>\n",
       "    </tr>\n",
       "  </tbody>\n",
       "</table>\n",
       "<p>5 rows × 785 columns</p>\n",
       "</div>"
      ],
      "text/plain": [
       "   label  1x1  1x2  1x3  1x4  1x5  1x6  1x7  1x8  1x9  ...  28x19  28x20  \\\n",
       "0      5    0    0    0    0    0    0    0    0    0  ...      0      0   \n",
       "1      0    0    0    0    0    0    0    0    0    0  ...      0      0   \n",
       "2      4    0    0    0    0    0    0    0    0    0  ...      0      0   \n",
       "3      1    0    0    0    0    0    0    0    0    0  ...      0      0   \n",
       "4      9    0    0    0    0    0    0    0    0    0  ...      0      0   \n",
       "\n",
       "   28x21  28x22  28x23  28x24  28x25  28x26  28x27  28x28  \n",
       "0      0      0      0      0      0      0      0      0  \n",
       "1      0      0      0      0      0      0      0      0  \n",
       "2      0      0      0      0      0      0      0      0  \n",
       "3      0      0      0      0      0      0      0      0  \n",
       "4      0      0      0      0      0      0      0      0  \n",
       "\n",
       "[5 rows x 785 columns]"
      ]
     },
     "execution_count": 2,
     "metadata": {},
     "output_type": "execute_result"
    }
   ],
   "source": [
    "data = pd.read_csv(Path(\"data\") / \"mnist\" / \"mnist_train.csv\")\n",
    "data.head()"
   ]
  },
  {
   "cell_type": "code",
   "execution_count": 3,
   "id": "399bf4dc",
   "metadata": {},
   "outputs": [
    {
     "data": {
      "application/vnd.microsoft.datawrangler.viewer.v0+json": {
       "columns": [
        {
         "name": "index",
         "rawType": "int64",
         "type": "integer"
        },
        {
         "name": "label",
         "rawType": "int64",
         "type": "integer"
        },
        {
         "name": "1x1",
         "rawType": "int64",
         "type": "integer"
        },
        {
         "name": "1x2",
         "rawType": "int64",
         "type": "integer"
        },
        {
         "name": "1x3",
         "rawType": "int64",
         "type": "integer"
        },
        {
         "name": "1x4",
         "rawType": "int64",
         "type": "integer"
        },
        {
         "name": "1x5",
         "rawType": "int64",
         "type": "integer"
        },
        {
         "name": "1x6",
         "rawType": "int64",
         "type": "integer"
        },
        {
         "name": "1x7",
         "rawType": "int64",
         "type": "integer"
        },
        {
         "name": "1x8",
         "rawType": "int64",
         "type": "integer"
        },
        {
         "name": "1x9",
         "rawType": "int64",
         "type": "integer"
        },
        {
         "name": "1x10",
         "rawType": "int64",
         "type": "integer"
        },
        {
         "name": "1x11",
         "rawType": "int64",
         "type": "integer"
        },
        {
         "name": "1x12",
         "rawType": "int64",
         "type": "integer"
        },
        {
         "name": "1x13",
         "rawType": "int64",
         "type": "integer"
        },
        {
         "name": "1x14",
         "rawType": "int64",
         "type": "integer"
        },
        {
         "name": "1x15",
         "rawType": "int64",
         "type": "integer"
        },
        {
         "name": "1x16",
         "rawType": "int64",
         "type": "integer"
        },
        {
         "name": "1x17",
         "rawType": "int64",
         "type": "integer"
        },
        {
         "name": "1x18",
         "rawType": "int64",
         "type": "integer"
        },
        {
         "name": "1x19",
         "rawType": "int64",
         "type": "integer"
        },
        {
         "name": "1x20",
         "rawType": "int64",
         "type": "integer"
        },
        {
         "name": "1x21",
         "rawType": "int64",
         "type": "integer"
        },
        {
         "name": "1x22",
         "rawType": "int64",
         "type": "integer"
        },
        {
         "name": "1x23",
         "rawType": "int64",
         "type": "integer"
        },
        {
         "name": "1x24",
         "rawType": "int64",
         "type": "integer"
        },
        {
         "name": "1x25",
         "rawType": "int64",
         "type": "integer"
        },
        {
         "name": "1x26",
         "rawType": "int64",
         "type": "integer"
        },
        {
         "name": "1x27",
         "rawType": "int64",
         "type": "integer"
        },
        {
         "name": "1x28",
         "rawType": "int64",
         "type": "integer"
        },
        {
         "name": "2x1",
         "rawType": "int64",
         "type": "integer"
        },
        {
         "name": "2x2",
         "rawType": "int64",
         "type": "integer"
        },
        {
         "name": "2x3",
         "rawType": "int64",
         "type": "integer"
        },
        {
         "name": "2x4",
         "rawType": "int64",
         "type": "integer"
        },
        {
         "name": "2x5",
         "rawType": "int64",
         "type": "integer"
        },
        {
         "name": "2x6",
         "rawType": "int64",
         "type": "integer"
        },
        {
         "name": "2x7",
         "rawType": "int64",
         "type": "integer"
        },
        {
         "name": "2x8",
         "rawType": "int64",
         "type": "integer"
        },
        {
         "name": "2x9",
         "rawType": "int64",
         "type": "integer"
        },
        {
         "name": "2x10",
         "rawType": "int64",
         "type": "integer"
        },
        {
         "name": "2x11",
         "rawType": "int64",
         "type": "integer"
        },
        {
         "name": "2x12",
         "rawType": "int64",
         "type": "integer"
        },
        {
         "name": "2x13",
         "rawType": "int64",
         "type": "integer"
        },
        {
         "name": "2x14",
         "rawType": "int64",
         "type": "integer"
        },
        {
         "name": "2x15",
         "rawType": "int64",
         "type": "integer"
        },
        {
         "name": "2x16",
         "rawType": "int64",
         "type": "integer"
        },
        {
         "name": "2x17",
         "rawType": "int64",
         "type": "integer"
        },
        {
         "name": "2x18",
         "rawType": "int64",
         "type": "integer"
        },
        {
         "name": "2x19",
         "rawType": "int64",
         "type": "integer"
        },
        {
         "name": "2x20",
         "rawType": "int64",
         "type": "integer"
        },
        {
         "name": "2x21",
         "rawType": "int64",
         "type": "integer"
        },
        {
         "name": "2x22",
         "rawType": "int64",
         "type": "integer"
        },
        {
         "name": "2x23",
         "rawType": "int64",
         "type": "integer"
        },
        {
         "name": "2x24",
         "rawType": "int64",
         "type": "integer"
        },
        {
         "name": "2x25",
         "rawType": "int64",
         "type": "integer"
        },
        {
         "name": "2x26",
         "rawType": "int64",
         "type": "integer"
        },
        {
         "name": "2x27",
         "rawType": "int64",
         "type": "integer"
        },
        {
         "name": "2x28",
         "rawType": "int64",
         "type": "integer"
        },
        {
         "name": "3x1",
         "rawType": "int64",
         "type": "integer"
        },
        {
         "name": "3x2",
         "rawType": "int64",
         "type": "integer"
        },
        {
         "name": "3x3",
         "rawType": "int64",
         "type": "integer"
        },
        {
         "name": "3x4",
         "rawType": "int64",
         "type": "integer"
        },
        {
         "name": "3x5",
         "rawType": "int64",
         "type": "integer"
        },
        {
         "name": "3x6",
         "rawType": "int64",
         "type": "integer"
        },
        {
         "name": "3x7",
         "rawType": "int64",
         "type": "integer"
        },
        {
         "name": "3x8",
         "rawType": "int64",
         "type": "integer"
        },
        {
         "name": "3x9",
         "rawType": "int64",
         "type": "integer"
        },
        {
         "name": "3x10",
         "rawType": "int64",
         "type": "integer"
        },
        {
         "name": "3x11",
         "rawType": "int64",
         "type": "integer"
        },
        {
         "name": "3x12",
         "rawType": "int64",
         "type": "integer"
        },
        {
         "name": "3x13",
         "rawType": "int64",
         "type": "integer"
        },
        {
         "name": "3x14",
         "rawType": "int64",
         "type": "integer"
        },
        {
         "name": "3x15",
         "rawType": "int64",
         "type": "integer"
        },
        {
         "name": "3x16",
         "rawType": "int64",
         "type": "integer"
        },
        {
         "name": "3x17",
         "rawType": "int64",
         "type": "integer"
        },
        {
         "name": "3x18",
         "rawType": "int64",
         "type": "integer"
        },
        {
         "name": "3x19",
         "rawType": "int64",
         "type": "integer"
        },
        {
         "name": "3x20",
         "rawType": "int64",
         "type": "integer"
        },
        {
         "name": "3x21",
         "rawType": "int64",
         "type": "integer"
        },
        {
         "name": "3x22",
         "rawType": "int64",
         "type": "integer"
        },
        {
         "name": "3x23",
         "rawType": "int64",
         "type": "integer"
        },
        {
         "name": "3x24",
         "rawType": "int64",
         "type": "integer"
        },
        {
         "name": "3x25",
         "rawType": "int64",
         "type": "integer"
        },
        {
         "name": "3x26",
         "rawType": "int64",
         "type": "integer"
        },
        {
         "name": "3x27",
         "rawType": "int64",
         "type": "integer"
        },
        {
         "name": "3x28",
         "rawType": "int64",
         "type": "integer"
        },
        {
         "name": "4x1",
         "rawType": "int64",
         "type": "integer"
        },
        {
         "name": "4x2",
         "rawType": "int64",
         "type": "integer"
        },
        {
         "name": "4x3",
         "rawType": "int64",
         "type": "integer"
        },
        {
         "name": "4x4",
         "rawType": "int64",
         "type": "integer"
        },
        {
         "name": "4x5",
         "rawType": "int64",
         "type": "integer"
        },
        {
         "name": "4x6",
         "rawType": "int64",
         "type": "integer"
        },
        {
         "name": "4x7",
         "rawType": "int64",
         "type": "integer"
        },
        {
         "name": "4x8",
         "rawType": "int64",
         "type": "integer"
        },
        {
         "name": "4x9",
         "rawType": "int64",
         "type": "integer"
        },
        {
         "name": "4x10",
         "rawType": "int64",
         "type": "integer"
        },
        {
         "name": "4x11",
         "rawType": "int64",
         "type": "integer"
        },
        {
         "name": "4x12",
         "rawType": "int64",
         "type": "integer"
        },
        {
         "name": "4x13",
         "rawType": "int64",
         "type": "integer"
        },
        {
         "name": "4x14",
         "rawType": "int64",
         "type": "integer"
        },
        {
         "name": "4x15",
         "rawType": "int64",
         "type": "integer"
        },
        {
         "name": "4x16",
         "rawType": "int64",
         "type": "integer"
        },
        {
         "name": "4x17",
         "rawType": "int64",
         "type": "integer"
        },
        {
         "name": "4x18",
         "rawType": "int64",
         "type": "integer"
        },
        {
         "name": "4x19",
         "rawType": "int64",
         "type": "integer"
        },
        {
         "name": "4x20",
         "rawType": "int64",
         "type": "integer"
        },
        {
         "name": "4x21",
         "rawType": "int64",
         "type": "integer"
        },
        {
         "name": "4x22",
         "rawType": "int64",
         "type": "integer"
        },
        {
         "name": "4x23",
         "rawType": "int64",
         "type": "integer"
        },
        {
         "name": "4x24",
         "rawType": "int64",
         "type": "integer"
        },
        {
         "name": "4x25",
         "rawType": "int64",
         "type": "integer"
        },
        {
         "name": "4x26",
         "rawType": "int64",
         "type": "integer"
        },
        {
         "name": "4x27",
         "rawType": "int64",
         "type": "integer"
        },
        {
         "name": "4x28",
         "rawType": "int64",
         "type": "integer"
        },
        {
         "name": "5x1",
         "rawType": "int64",
         "type": "integer"
        },
        {
         "name": "5x2",
         "rawType": "int64",
         "type": "integer"
        },
        {
         "name": "5x3",
         "rawType": "int64",
         "type": "integer"
        },
        {
         "name": "5x4",
         "rawType": "int64",
         "type": "integer"
        },
        {
         "name": "5x5",
         "rawType": "int64",
         "type": "integer"
        },
        {
         "name": "5x6",
         "rawType": "int64",
         "type": "integer"
        },
        {
         "name": "5x7",
         "rawType": "int64",
         "type": "integer"
        },
        {
         "name": "5x8",
         "rawType": "int64",
         "type": "integer"
        },
        {
         "name": "5x9",
         "rawType": "int64",
         "type": "integer"
        },
        {
         "name": "5x10",
         "rawType": "int64",
         "type": "integer"
        },
        {
         "name": "5x11",
         "rawType": "int64",
         "type": "integer"
        },
        {
         "name": "5x12",
         "rawType": "int64",
         "type": "integer"
        },
        {
         "name": "5x13",
         "rawType": "int64",
         "type": "integer"
        },
        {
         "name": "5x14",
         "rawType": "int64",
         "type": "integer"
        },
        {
         "name": "5x15",
         "rawType": "int64",
         "type": "integer"
        },
        {
         "name": "5x16",
         "rawType": "int64",
         "type": "integer"
        },
        {
         "name": "5x17",
         "rawType": "int64",
         "type": "integer"
        },
        {
         "name": "5x18",
         "rawType": "int64",
         "type": "integer"
        },
        {
         "name": "5x19",
         "rawType": "int64",
         "type": "integer"
        },
        {
         "name": "5x20",
         "rawType": "int64",
         "type": "integer"
        },
        {
         "name": "5x21",
         "rawType": "int64",
         "type": "integer"
        },
        {
         "name": "5x22",
         "rawType": "int64",
         "type": "integer"
        },
        {
         "name": "5x23",
         "rawType": "int64",
         "type": "integer"
        },
        {
         "name": "5x24",
         "rawType": "int64",
         "type": "integer"
        },
        {
         "name": "5x25",
         "rawType": "int64",
         "type": "integer"
        },
        {
         "name": "5x26",
         "rawType": "int64",
         "type": "integer"
        },
        {
         "name": "5x27",
         "rawType": "int64",
         "type": "integer"
        },
        {
         "name": "5x28",
         "rawType": "int64",
         "type": "integer"
        },
        {
         "name": "6x1",
         "rawType": "int64",
         "type": "integer"
        },
        {
         "name": "6x2",
         "rawType": "int64",
         "type": "integer"
        },
        {
         "name": "6x3",
         "rawType": "int64",
         "type": "integer"
        },
        {
         "name": "6x4",
         "rawType": "int64",
         "type": "integer"
        },
        {
         "name": "6x5",
         "rawType": "int64",
         "type": "integer"
        },
        {
         "name": "6x6",
         "rawType": "int64",
         "type": "integer"
        },
        {
         "name": "6x7",
         "rawType": "int64",
         "type": "integer"
        },
        {
         "name": "6x8",
         "rawType": "int64",
         "type": "integer"
        },
        {
         "name": "6x9",
         "rawType": "int64",
         "type": "integer"
        },
        {
         "name": "6x10",
         "rawType": "int64",
         "type": "integer"
        },
        {
         "name": "6x11",
         "rawType": "int64",
         "type": "integer"
        },
        {
         "name": "6x12",
         "rawType": "int64",
         "type": "integer"
        },
        {
         "name": "6x13",
         "rawType": "int64",
         "type": "integer"
        },
        {
         "name": "6x14",
         "rawType": "int64",
         "type": "integer"
        },
        {
         "name": "6x15",
         "rawType": "int64",
         "type": "integer"
        },
        {
         "name": "6x16",
         "rawType": "int64",
         "type": "integer"
        },
        {
         "name": "6x17",
         "rawType": "int64",
         "type": "integer"
        },
        {
         "name": "6x18",
         "rawType": "int64",
         "type": "integer"
        },
        {
         "name": "6x19",
         "rawType": "int64",
         "type": "integer"
        },
        {
         "name": "6x20",
         "rawType": "int64",
         "type": "integer"
        },
        {
         "name": "6x21",
         "rawType": "int64",
         "type": "integer"
        },
        {
         "name": "6x22",
         "rawType": "int64",
         "type": "integer"
        },
        {
         "name": "6x23",
         "rawType": "int64",
         "type": "integer"
        },
        {
         "name": "6x24",
         "rawType": "int64",
         "type": "integer"
        },
        {
         "name": "6x25",
         "rawType": "int64",
         "type": "integer"
        },
        {
         "name": "6x26",
         "rawType": "int64",
         "type": "integer"
        },
        {
         "name": "6x27",
         "rawType": "int64",
         "type": "integer"
        },
        {
         "name": "6x28",
         "rawType": "int64",
         "type": "integer"
        },
        {
         "name": "7x1",
         "rawType": "int64",
         "type": "integer"
        },
        {
         "name": "7x2",
         "rawType": "int64",
         "type": "integer"
        },
        {
         "name": "7x3",
         "rawType": "int64",
         "type": "integer"
        },
        {
         "name": "7x4",
         "rawType": "int64",
         "type": "integer"
        },
        {
         "name": "7x5",
         "rawType": "int64",
         "type": "integer"
        },
        {
         "name": "7x6",
         "rawType": "int64",
         "type": "integer"
        },
        {
         "name": "7x7",
         "rawType": "int64",
         "type": "integer"
        },
        {
         "name": "7x8",
         "rawType": "int64",
         "type": "integer"
        },
        {
         "name": "7x9",
         "rawType": "int64",
         "type": "integer"
        },
        {
         "name": "7x10",
         "rawType": "int64",
         "type": "integer"
        },
        {
         "name": "7x11",
         "rawType": "int64",
         "type": "integer"
        },
        {
         "name": "7x12",
         "rawType": "int64",
         "type": "integer"
        },
        {
         "name": "7x13",
         "rawType": "int64",
         "type": "integer"
        },
        {
         "name": "7x14",
         "rawType": "int64",
         "type": "integer"
        },
        {
         "name": "7x15",
         "rawType": "int64",
         "type": "integer"
        },
        {
         "name": "7x16",
         "rawType": "int64",
         "type": "integer"
        },
        {
         "name": "7x17",
         "rawType": "int64",
         "type": "integer"
        },
        {
         "name": "7x18",
         "rawType": "int64",
         "type": "integer"
        },
        {
         "name": "7x19",
         "rawType": "int64",
         "type": "integer"
        },
        {
         "name": "7x20",
         "rawType": "int64",
         "type": "integer"
        },
        {
         "name": "7x21",
         "rawType": "int64",
         "type": "integer"
        },
        {
         "name": "7x22",
         "rawType": "int64",
         "type": "integer"
        },
        {
         "name": "7x23",
         "rawType": "int64",
         "type": "integer"
        },
        {
         "name": "7x24",
         "rawType": "int64",
         "type": "integer"
        },
        {
         "name": "7x25",
         "rawType": "int64",
         "type": "integer"
        },
        {
         "name": "7x26",
         "rawType": "int64",
         "type": "integer"
        },
        {
         "name": "7x27",
         "rawType": "int64",
         "type": "integer"
        },
        {
         "name": "7x28",
         "rawType": "int64",
         "type": "integer"
        },
        {
         "name": "8x1",
         "rawType": "int64",
         "type": "integer"
        },
        {
         "name": "8x2",
         "rawType": "int64",
         "type": "integer"
        },
        {
         "name": "8x3",
         "rawType": "int64",
         "type": "integer"
        },
        {
         "name": "8x4",
         "rawType": "int64",
         "type": "integer"
        },
        {
         "name": "8x5",
         "rawType": "int64",
         "type": "integer"
        },
        {
         "name": "8x6",
         "rawType": "int64",
         "type": "integer"
        },
        {
         "name": "8x7",
         "rawType": "int64",
         "type": "integer"
        },
        {
         "name": "8x8",
         "rawType": "int64",
         "type": "integer"
        },
        {
         "name": "8x9",
         "rawType": "int64",
         "type": "integer"
        },
        {
         "name": "8x10",
         "rawType": "int64",
         "type": "integer"
        },
        {
         "name": "8x11",
         "rawType": "int64",
         "type": "integer"
        },
        {
         "name": "8x12",
         "rawType": "int64",
         "type": "integer"
        },
        {
         "name": "8x13",
         "rawType": "int64",
         "type": "integer"
        },
        {
         "name": "8x14",
         "rawType": "int64",
         "type": "integer"
        },
        {
         "name": "8x15",
         "rawType": "int64",
         "type": "integer"
        },
        {
         "name": "8x16",
         "rawType": "int64",
         "type": "integer"
        },
        {
         "name": "8x17",
         "rawType": "int64",
         "type": "integer"
        },
        {
         "name": "8x18",
         "rawType": "int64",
         "type": "integer"
        },
        {
         "name": "8x19",
         "rawType": "int64",
         "type": "integer"
        },
        {
         "name": "8x20",
         "rawType": "int64",
         "type": "integer"
        },
        {
         "name": "8x21",
         "rawType": "int64",
         "type": "integer"
        },
        {
         "name": "8x22",
         "rawType": "int64",
         "type": "integer"
        },
        {
         "name": "8x23",
         "rawType": "int64",
         "type": "integer"
        },
        {
         "name": "8x24",
         "rawType": "int64",
         "type": "integer"
        },
        {
         "name": "8x25",
         "rawType": "int64",
         "type": "integer"
        },
        {
         "name": "8x26",
         "rawType": "int64",
         "type": "integer"
        },
        {
         "name": "8x27",
         "rawType": "int64",
         "type": "integer"
        },
        {
         "name": "8x28",
         "rawType": "int64",
         "type": "integer"
        },
        {
         "name": "9x1",
         "rawType": "int64",
         "type": "integer"
        },
        {
         "name": "9x2",
         "rawType": "int64",
         "type": "integer"
        },
        {
         "name": "9x3",
         "rawType": "int64",
         "type": "integer"
        },
        {
         "name": "9x4",
         "rawType": "int64",
         "type": "integer"
        },
        {
         "name": "9x5",
         "rawType": "int64",
         "type": "integer"
        },
        {
         "name": "9x6",
         "rawType": "int64",
         "type": "integer"
        },
        {
         "name": "9x7",
         "rawType": "int64",
         "type": "integer"
        },
        {
         "name": "9x8",
         "rawType": "int64",
         "type": "integer"
        },
        {
         "name": "9x9",
         "rawType": "int64",
         "type": "integer"
        },
        {
         "name": "9x10",
         "rawType": "int64",
         "type": "integer"
        },
        {
         "name": "9x11",
         "rawType": "int64",
         "type": "integer"
        },
        {
         "name": "9x12",
         "rawType": "int64",
         "type": "integer"
        },
        {
         "name": "9x13",
         "rawType": "int64",
         "type": "integer"
        },
        {
         "name": "9x14",
         "rawType": "int64",
         "type": "integer"
        },
        {
         "name": "9x15",
         "rawType": "int64",
         "type": "integer"
        },
        {
         "name": "9x16",
         "rawType": "int64",
         "type": "integer"
        },
        {
         "name": "9x17",
         "rawType": "int64",
         "type": "integer"
        },
        {
         "name": "9x18",
         "rawType": "int64",
         "type": "integer"
        },
        {
         "name": "9x19",
         "rawType": "int64",
         "type": "integer"
        },
        {
         "name": "9x20",
         "rawType": "int64",
         "type": "integer"
        },
        {
         "name": "9x21",
         "rawType": "int64",
         "type": "integer"
        },
        {
         "name": "9x22",
         "rawType": "int64",
         "type": "integer"
        },
        {
         "name": "9x23",
         "rawType": "int64",
         "type": "integer"
        },
        {
         "name": "9x24",
         "rawType": "int64",
         "type": "integer"
        },
        {
         "name": "9x25",
         "rawType": "int64",
         "type": "integer"
        },
        {
         "name": "9x26",
         "rawType": "int64",
         "type": "integer"
        },
        {
         "name": "9x27",
         "rawType": "int64",
         "type": "integer"
        },
        {
         "name": "9x28",
         "rawType": "int64",
         "type": "integer"
        },
        {
         "name": "10x1",
         "rawType": "int64",
         "type": "integer"
        },
        {
         "name": "10x2",
         "rawType": "int64",
         "type": "integer"
        },
        {
         "name": "10x3",
         "rawType": "int64",
         "type": "integer"
        },
        {
         "name": "10x4",
         "rawType": "int64",
         "type": "integer"
        },
        {
         "name": "10x5",
         "rawType": "int64",
         "type": "integer"
        },
        {
         "name": "10x6",
         "rawType": "int64",
         "type": "integer"
        },
        {
         "name": "10x7",
         "rawType": "int64",
         "type": "integer"
        },
        {
         "name": "10x8",
         "rawType": "int64",
         "type": "integer"
        },
        {
         "name": "10x9",
         "rawType": "int64",
         "type": "integer"
        },
        {
         "name": "10x10",
         "rawType": "int64",
         "type": "integer"
        },
        {
         "name": "10x11",
         "rawType": "int64",
         "type": "integer"
        },
        {
         "name": "10x12",
         "rawType": "int64",
         "type": "integer"
        },
        {
         "name": "10x13",
         "rawType": "int64",
         "type": "integer"
        },
        {
         "name": "10x14",
         "rawType": "int64",
         "type": "integer"
        },
        {
         "name": "10x15",
         "rawType": "int64",
         "type": "integer"
        },
        {
         "name": "10x16",
         "rawType": "int64",
         "type": "integer"
        },
        {
         "name": "10x17",
         "rawType": "int64",
         "type": "integer"
        },
        {
         "name": "10x18",
         "rawType": "int64",
         "type": "integer"
        },
        {
         "name": "10x19",
         "rawType": "int64",
         "type": "integer"
        },
        {
         "name": "10x20",
         "rawType": "int64",
         "type": "integer"
        },
        {
         "name": "10x21",
         "rawType": "int64",
         "type": "integer"
        },
        {
         "name": "10x22",
         "rawType": "int64",
         "type": "integer"
        },
        {
         "name": "10x23",
         "rawType": "int64",
         "type": "integer"
        },
        {
         "name": "10x24",
         "rawType": "int64",
         "type": "integer"
        },
        {
         "name": "10x25",
         "rawType": "int64",
         "type": "integer"
        },
        {
         "name": "10x26",
         "rawType": "int64",
         "type": "integer"
        },
        {
         "name": "10x27",
         "rawType": "int64",
         "type": "integer"
        },
        {
         "name": "10x28",
         "rawType": "int64",
         "type": "integer"
        },
        {
         "name": "11x1",
         "rawType": "int64",
         "type": "integer"
        },
        {
         "name": "11x2",
         "rawType": "int64",
         "type": "integer"
        },
        {
         "name": "11x3",
         "rawType": "int64",
         "type": "integer"
        },
        {
         "name": "11x4",
         "rawType": "int64",
         "type": "integer"
        },
        {
         "name": "11x5",
         "rawType": "int64",
         "type": "integer"
        },
        {
         "name": "11x6",
         "rawType": "int64",
         "type": "integer"
        },
        {
         "name": "11x7",
         "rawType": "int64",
         "type": "integer"
        },
        {
         "name": "11x8",
         "rawType": "int64",
         "type": "integer"
        },
        {
         "name": "11x9",
         "rawType": "int64",
         "type": "integer"
        },
        {
         "name": "11x10",
         "rawType": "int64",
         "type": "integer"
        },
        {
         "name": "11x11",
         "rawType": "int64",
         "type": "integer"
        },
        {
         "name": "11x12",
         "rawType": "int64",
         "type": "integer"
        },
        {
         "name": "11x13",
         "rawType": "int64",
         "type": "integer"
        },
        {
         "name": "11x14",
         "rawType": "int64",
         "type": "integer"
        },
        {
         "name": "11x15",
         "rawType": "int64",
         "type": "integer"
        },
        {
         "name": "11x16",
         "rawType": "int64",
         "type": "integer"
        },
        {
         "name": "11x17",
         "rawType": "int64",
         "type": "integer"
        },
        {
         "name": "11x18",
         "rawType": "int64",
         "type": "integer"
        },
        {
         "name": "11x19",
         "rawType": "int64",
         "type": "integer"
        },
        {
         "name": "11x20",
         "rawType": "int64",
         "type": "integer"
        },
        {
         "name": "11x21",
         "rawType": "int64",
         "type": "integer"
        },
        {
         "name": "11x22",
         "rawType": "int64",
         "type": "integer"
        },
        {
         "name": "11x23",
         "rawType": "int64",
         "type": "integer"
        },
        {
         "name": "11x24",
         "rawType": "int64",
         "type": "integer"
        },
        {
         "name": "11x25",
         "rawType": "int64",
         "type": "integer"
        },
        {
         "name": "11x26",
         "rawType": "int64",
         "type": "integer"
        },
        {
         "name": "11x27",
         "rawType": "int64",
         "type": "integer"
        },
        {
         "name": "11x28",
         "rawType": "int64",
         "type": "integer"
        },
        {
         "name": "12x1",
         "rawType": "int64",
         "type": "integer"
        },
        {
         "name": "12x2",
         "rawType": "int64",
         "type": "integer"
        },
        {
         "name": "12x3",
         "rawType": "int64",
         "type": "integer"
        },
        {
         "name": "12x4",
         "rawType": "int64",
         "type": "integer"
        },
        {
         "name": "12x5",
         "rawType": "int64",
         "type": "integer"
        },
        {
         "name": "12x6",
         "rawType": "int64",
         "type": "integer"
        },
        {
         "name": "12x7",
         "rawType": "int64",
         "type": "integer"
        },
        {
         "name": "12x8",
         "rawType": "int64",
         "type": "integer"
        },
        {
         "name": "12x9",
         "rawType": "int64",
         "type": "integer"
        },
        {
         "name": "12x10",
         "rawType": "int64",
         "type": "integer"
        },
        {
         "name": "12x11",
         "rawType": "int64",
         "type": "integer"
        },
        {
         "name": "12x12",
         "rawType": "int64",
         "type": "integer"
        },
        {
         "name": "12x13",
         "rawType": "int64",
         "type": "integer"
        },
        {
         "name": "12x14",
         "rawType": "int64",
         "type": "integer"
        },
        {
         "name": "12x15",
         "rawType": "int64",
         "type": "integer"
        },
        {
         "name": "12x16",
         "rawType": "int64",
         "type": "integer"
        },
        {
         "name": "12x17",
         "rawType": "int64",
         "type": "integer"
        },
        {
         "name": "12x18",
         "rawType": "int64",
         "type": "integer"
        },
        {
         "name": "12x19",
         "rawType": "int64",
         "type": "integer"
        },
        {
         "name": "12x20",
         "rawType": "int64",
         "type": "integer"
        },
        {
         "name": "12x21",
         "rawType": "int64",
         "type": "integer"
        },
        {
         "name": "12x22",
         "rawType": "int64",
         "type": "integer"
        },
        {
         "name": "12x23",
         "rawType": "int64",
         "type": "integer"
        },
        {
         "name": "12x24",
         "rawType": "int64",
         "type": "integer"
        },
        {
         "name": "12x25",
         "rawType": "int64",
         "type": "integer"
        },
        {
         "name": "12x26",
         "rawType": "int64",
         "type": "integer"
        },
        {
         "name": "12x27",
         "rawType": "int64",
         "type": "integer"
        },
        {
         "name": "12x28",
         "rawType": "int64",
         "type": "integer"
        },
        {
         "name": "13x1",
         "rawType": "int64",
         "type": "integer"
        },
        {
         "name": "13x2",
         "rawType": "int64",
         "type": "integer"
        },
        {
         "name": "13x3",
         "rawType": "int64",
         "type": "integer"
        },
        {
         "name": "13x4",
         "rawType": "int64",
         "type": "integer"
        },
        {
         "name": "13x5",
         "rawType": "int64",
         "type": "integer"
        },
        {
         "name": "13x6",
         "rawType": "int64",
         "type": "integer"
        },
        {
         "name": "13x7",
         "rawType": "int64",
         "type": "integer"
        },
        {
         "name": "13x8",
         "rawType": "int64",
         "type": "integer"
        },
        {
         "name": "13x9",
         "rawType": "int64",
         "type": "integer"
        },
        {
         "name": "13x10",
         "rawType": "int64",
         "type": "integer"
        },
        {
         "name": "13x11",
         "rawType": "int64",
         "type": "integer"
        },
        {
         "name": "13x12",
         "rawType": "int64",
         "type": "integer"
        },
        {
         "name": "13x13",
         "rawType": "int64",
         "type": "integer"
        },
        {
         "name": "13x14",
         "rawType": "int64",
         "type": "integer"
        },
        {
         "name": "13x15",
         "rawType": "int64",
         "type": "integer"
        },
        {
         "name": "13x16",
         "rawType": "int64",
         "type": "integer"
        },
        {
         "name": "13x17",
         "rawType": "int64",
         "type": "integer"
        },
        {
         "name": "13x18",
         "rawType": "int64",
         "type": "integer"
        },
        {
         "name": "13x19",
         "rawType": "int64",
         "type": "integer"
        },
        {
         "name": "13x20",
         "rawType": "int64",
         "type": "integer"
        },
        {
         "name": "13x21",
         "rawType": "int64",
         "type": "integer"
        },
        {
         "name": "13x22",
         "rawType": "int64",
         "type": "integer"
        },
        {
         "name": "13x23",
         "rawType": "int64",
         "type": "integer"
        },
        {
         "name": "13x24",
         "rawType": "int64",
         "type": "integer"
        },
        {
         "name": "13x25",
         "rawType": "int64",
         "type": "integer"
        },
        {
         "name": "13x26",
         "rawType": "int64",
         "type": "integer"
        },
        {
         "name": "13x27",
         "rawType": "int64",
         "type": "integer"
        },
        {
         "name": "13x28",
         "rawType": "int64",
         "type": "integer"
        },
        {
         "name": "14x1",
         "rawType": "int64",
         "type": "integer"
        },
        {
         "name": "14x2",
         "rawType": "int64",
         "type": "integer"
        },
        {
         "name": "14x3",
         "rawType": "int64",
         "type": "integer"
        },
        {
         "name": "14x4",
         "rawType": "int64",
         "type": "integer"
        },
        {
         "name": "14x5",
         "rawType": "int64",
         "type": "integer"
        },
        {
         "name": "14x6",
         "rawType": "int64",
         "type": "integer"
        },
        {
         "name": "14x7",
         "rawType": "int64",
         "type": "integer"
        },
        {
         "name": "14x8",
         "rawType": "int64",
         "type": "integer"
        },
        {
         "name": "14x9",
         "rawType": "int64",
         "type": "integer"
        },
        {
         "name": "14x10",
         "rawType": "int64",
         "type": "integer"
        },
        {
         "name": "14x11",
         "rawType": "int64",
         "type": "integer"
        },
        {
         "name": "14x12",
         "rawType": "int64",
         "type": "integer"
        },
        {
         "name": "14x13",
         "rawType": "int64",
         "type": "integer"
        },
        {
         "name": "14x14",
         "rawType": "int64",
         "type": "integer"
        },
        {
         "name": "14x15",
         "rawType": "int64",
         "type": "integer"
        },
        {
         "name": "14x16",
         "rawType": "int64",
         "type": "integer"
        },
        {
         "name": "14x17",
         "rawType": "int64",
         "type": "integer"
        },
        {
         "name": "14x18",
         "rawType": "int64",
         "type": "integer"
        },
        {
         "name": "14x19",
         "rawType": "int64",
         "type": "integer"
        },
        {
         "name": "14x20",
         "rawType": "int64",
         "type": "integer"
        },
        {
         "name": "14x21",
         "rawType": "int64",
         "type": "integer"
        },
        {
         "name": "14x22",
         "rawType": "int64",
         "type": "integer"
        },
        {
         "name": "14x23",
         "rawType": "int64",
         "type": "integer"
        },
        {
         "name": "14x24",
         "rawType": "int64",
         "type": "integer"
        },
        {
         "name": "14x25",
         "rawType": "int64",
         "type": "integer"
        },
        {
         "name": "14x26",
         "rawType": "int64",
         "type": "integer"
        },
        {
         "name": "14x27",
         "rawType": "int64",
         "type": "integer"
        },
        {
         "name": "14x28",
         "rawType": "int64",
         "type": "integer"
        },
        {
         "name": "15x1",
         "rawType": "int64",
         "type": "integer"
        },
        {
         "name": "15x2",
         "rawType": "int64",
         "type": "integer"
        },
        {
         "name": "15x3",
         "rawType": "int64",
         "type": "integer"
        },
        {
         "name": "15x4",
         "rawType": "int64",
         "type": "integer"
        },
        {
         "name": "15x5",
         "rawType": "int64",
         "type": "integer"
        },
        {
         "name": "15x6",
         "rawType": "int64",
         "type": "integer"
        },
        {
         "name": "15x7",
         "rawType": "int64",
         "type": "integer"
        },
        {
         "name": "15x8",
         "rawType": "int64",
         "type": "integer"
        },
        {
         "name": "15x9",
         "rawType": "int64",
         "type": "integer"
        },
        {
         "name": "15x10",
         "rawType": "int64",
         "type": "integer"
        },
        {
         "name": "15x11",
         "rawType": "int64",
         "type": "integer"
        },
        {
         "name": "15x12",
         "rawType": "int64",
         "type": "integer"
        },
        {
         "name": "15x13",
         "rawType": "int64",
         "type": "integer"
        },
        {
         "name": "15x14",
         "rawType": "int64",
         "type": "integer"
        },
        {
         "name": "15x15",
         "rawType": "int64",
         "type": "integer"
        },
        {
         "name": "15x16",
         "rawType": "int64",
         "type": "integer"
        },
        {
         "name": "15x17",
         "rawType": "int64",
         "type": "integer"
        },
        {
         "name": "15x18",
         "rawType": "int64",
         "type": "integer"
        },
        {
         "name": "15x19",
         "rawType": "int64",
         "type": "integer"
        },
        {
         "name": "15x20",
         "rawType": "int64",
         "type": "integer"
        },
        {
         "name": "15x21",
         "rawType": "int64",
         "type": "integer"
        },
        {
         "name": "15x22",
         "rawType": "int64",
         "type": "integer"
        },
        {
         "name": "15x23",
         "rawType": "int64",
         "type": "integer"
        },
        {
         "name": "15x24",
         "rawType": "int64",
         "type": "integer"
        },
        {
         "name": "15x25",
         "rawType": "int64",
         "type": "integer"
        },
        {
         "name": "15x26",
         "rawType": "int64",
         "type": "integer"
        },
        {
         "name": "15x27",
         "rawType": "int64",
         "type": "integer"
        },
        {
         "name": "15x28",
         "rawType": "int64",
         "type": "integer"
        },
        {
         "name": "16x1",
         "rawType": "int64",
         "type": "integer"
        },
        {
         "name": "16x2",
         "rawType": "int64",
         "type": "integer"
        },
        {
         "name": "16x3",
         "rawType": "int64",
         "type": "integer"
        },
        {
         "name": "16x4",
         "rawType": "int64",
         "type": "integer"
        },
        {
         "name": "16x5",
         "rawType": "int64",
         "type": "integer"
        },
        {
         "name": "16x6",
         "rawType": "int64",
         "type": "integer"
        },
        {
         "name": "16x7",
         "rawType": "int64",
         "type": "integer"
        },
        {
         "name": "16x8",
         "rawType": "int64",
         "type": "integer"
        },
        {
         "name": "16x9",
         "rawType": "int64",
         "type": "integer"
        },
        {
         "name": "16x10",
         "rawType": "int64",
         "type": "integer"
        },
        {
         "name": "16x11",
         "rawType": "int64",
         "type": "integer"
        },
        {
         "name": "16x12",
         "rawType": "int64",
         "type": "integer"
        },
        {
         "name": "16x13",
         "rawType": "int64",
         "type": "integer"
        },
        {
         "name": "16x14",
         "rawType": "int64",
         "type": "integer"
        },
        {
         "name": "16x15",
         "rawType": "int64",
         "type": "integer"
        },
        {
         "name": "16x16",
         "rawType": "int64",
         "type": "integer"
        },
        {
         "name": "16x17",
         "rawType": "int64",
         "type": "integer"
        },
        {
         "name": "16x18",
         "rawType": "int64",
         "type": "integer"
        },
        {
         "name": "16x19",
         "rawType": "int64",
         "type": "integer"
        },
        {
         "name": "16x20",
         "rawType": "int64",
         "type": "integer"
        },
        {
         "name": "16x21",
         "rawType": "int64",
         "type": "integer"
        },
        {
         "name": "16x22",
         "rawType": "int64",
         "type": "integer"
        },
        {
         "name": "16x23",
         "rawType": "int64",
         "type": "integer"
        },
        {
         "name": "16x24",
         "rawType": "int64",
         "type": "integer"
        },
        {
         "name": "16x25",
         "rawType": "int64",
         "type": "integer"
        },
        {
         "name": "16x26",
         "rawType": "int64",
         "type": "integer"
        },
        {
         "name": "16x27",
         "rawType": "int64",
         "type": "integer"
        },
        {
         "name": "16x28",
         "rawType": "int64",
         "type": "integer"
        },
        {
         "name": "17x1",
         "rawType": "int64",
         "type": "integer"
        },
        {
         "name": "17x2",
         "rawType": "int64",
         "type": "integer"
        },
        {
         "name": "17x3",
         "rawType": "int64",
         "type": "integer"
        },
        {
         "name": "17x4",
         "rawType": "int64",
         "type": "integer"
        },
        {
         "name": "17x5",
         "rawType": "int64",
         "type": "integer"
        },
        {
         "name": "17x6",
         "rawType": "int64",
         "type": "integer"
        },
        {
         "name": "17x7",
         "rawType": "int64",
         "type": "integer"
        },
        {
         "name": "17x8",
         "rawType": "int64",
         "type": "integer"
        },
        {
         "name": "17x9",
         "rawType": "int64",
         "type": "integer"
        },
        {
         "name": "17x10",
         "rawType": "int64",
         "type": "integer"
        },
        {
         "name": "17x11",
         "rawType": "int64",
         "type": "integer"
        },
        {
         "name": "17x12",
         "rawType": "int64",
         "type": "integer"
        },
        {
         "name": "17x13",
         "rawType": "int64",
         "type": "integer"
        },
        {
         "name": "17x14",
         "rawType": "int64",
         "type": "integer"
        },
        {
         "name": "17x15",
         "rawType": "int64",
         "type": "integer"
        },
        {
         "name": "17x16",
         "rawType": "int64",
         "type": "integer"
        },
        {
         "name": "17x17",
         "rawType": "int64",
         "type": "integer"
        },
        {
         "name": "17x18",
         "rawType": "int64",
         "type": "integer"
        },
        {
         "name": "17x19",
         "rawType": "int64",
         "type": "integer"
        },
        {
         "name": "17x20",
         "rawType": "int64",
         "type": "integer"
        },
        {
         "name": "17x21",
         "rawType": "int64",
         "type": "integer"
        },
        {
         "name": "17x22",
         "rawType": "int64",
         "type": "integer"
        },
        {
         "name": "17x23",
         "rawType": "int64",
         "type": "integer"
        },
        {
         "name": "17x24",
         "rawType": "int64",
         "type": "integer"
        },
        {
         "name": "17x25",
         "rawType": "int64",
         "type": "integer"
        },
        {
         "name": "17x26",
         "rawType": "int64",
         "type": "integer"
        },
        {
         "name": "17x27",
         "rawType": "int64",
         "type": "integer"
        },
        {
         "name": "17x28",
         "rawType": "int64",
         "type": "integer"
        },
        {
         "name": "18x1",
         "rawType": "int64",
         "type": "integer"
        },
        {
         "name": "18x2",
         "rawType": "int64",
         "type": "integer"
        },
        {
         "name": "18x3",
         "rawType": "int64",
         "type": "integer"
        },
        {
         "name": "18x4",
         "rawType": "int64",
         "type": "integer"
        },
        {
         "name": "18x5",
         "rawType": "int64",
         "type": "integer"
        },
        {
         "name": "18x6",
         "rawType": "int64",
         "type": "integer"
        },
        {
         "name": "18x7",
         "rawType": "int64",
         "type": "integer"
        },
        {
         "name": "18x8",
         "rawType": "int64",
         "type": "integer"
        },
        {
         "name": "18x9",
         "rawType": "int64",
         "type": "integer"
        },
        {
         "name": "18x10",
         "rawType": "int64",
         "type": "integer"
        },
        {
         "name": "18x11",
         "rawType": "int64",
         "type": "integer"
        },
        {
         "name": "18x12",
         "rawType": "int64",
         "type": "integer"
        },
        {
         "name": "18x13",
         "rawType": "int64",
         "type": "integer"
        },
        {
         "name": "18x14",
         "rawType": "int64",
         "type": "integer"
        },
        {
         "name": "18x15",
         "rawType": "int64",
         "type": "integer"
        },
        {
         "name": "18x16",
         "rawType": "int64",
         "type": "integer"
        },
        {
         "name": "18x17",
         "rawType": "int64",
         "type": "integer"
        },
        {
         "name": "18x18",
         "rawType": "int64",
         "type": "integer"
        },
        {
         "name": "18x19",
         "rawType": "int64",
         "type": "integer"
        },
        {
         "name": "18x20",
         "rawType": "int64",
         "type": "integer"
        },
        {
         "name": "18x21",
         "rawType": "int64",
         "type": "integer"
        },
        {
         "name": "18x22",
         "rawType": "int64",
         "type": "integer"
        },
        {
         "name": "18x23",
         "rawType": "int64",
         "type": "integer"
        },
        {
         "name": "18x24",
         "rawType": "int64",
         "type": "integer"
        },
        {
         "name": "18x25",
         "rawType": "int64",
         "type": "integer"
        },
        {
         "name": "18x26",
         "rawType": "int64",
         "type": "integer"
        },
        {
         "name": "18x27",
         "rawType": "int64",
         "type": "integer"
        },
        {
         "name": "18x28",
         "rawType": "int64",
         "type": "integer"
        },
        {
         "name": "19x1",
         "rawType": "int64",
         "type": "integer"
        },
        {
         "name": "19x2",
         "rawType": "int64",
         "type": "integer"
        },
        {
         "name": "19x3",
         "rawType": "int64",
         "type": "integer"
        },
        {
         "name": "19x4",
         "rawType": "int64",
         "type": "integer"
        },
        {
         "name": "19x5",
         "rawType": "int64",
         "type": "integer"
        },
        {
         "name": "19x6",
         "rawType": "int64",
         "type": "integer"
        },
        {
         "name": "19x7",
         "rawType": "int64",
         "type": "integer"
        },
        {
         "name": "19x8",
         "rawType": "int64",
         "type": "integer"
        },
        {
         "name": "19x9",
         "rawType": "int64",
         "type": "integer"
        },
        {
         "name": "19x10",
         "rawType": "int64",
         "type": "integer"
        },
        {
         "name": "19x11",
         "rawType": "int64",
         "type": "integer"
        },
        {
         "name": "19x12",
         "rawType": "int64",
         "type": "integer"
        },
        {
         "name": "19x13",
         "rawType": "int64",
         "type": "integer"
        },
        {
         "name": "19x14",
         "rawType": "int64",
         "type": "integer"
        },
        {
         "name": "19x15",
         "rawType": "int64",
         "type": "integer"
        },
        {
         "name": "19x16",
         "rawType": "int64",
         "type": "integer"
        },
        {
         "name": "19x17",
         "rawType": "int64",
         "type": "integer"
        },
        {
         "name": "19x18",
         "rawType": "int64",
         "type": "integer"
        },
        {
         "name": "19x19",
         "rawType": "int64",
         "type": "integer"
        },
        {
         "name": "19x20",
         "rawType": "int64",
         "type": "integer"
        },
        {
         "name": "19x21",
         "rawType": "int64",
         "type": "integer"
        },
        {
         "name": "19x22",
         "rawType": "int64",
         "type": "integer"
        },
        {
         "name": "19x23",
         "rawType": "int64",
         "type": "integer"
        },
        {
         "name": "19x24",
         "rawType": "int64",
         "type": "integer"
        },
        {
         "name": "19x25",
         "rawType": "int64",
         "type": "integer"
        },
        {
         "name": "19x26",
         "rawType": "int64",
         "type": "integer"
        },
        {
         "name": "19x27",
         "rawType": "int64",
         "type": "integer"
        },
        {
         "name": "19x28",
         "rawType": "int64",
         "type": "integer"
        },
        {
         "name": "20x1",
         "rawType": "int64",
         "type": "integer"
        },
        {
         "name": "20x2",
         "rawType": "int64",
         "type": "integer"
        },
        {
         "name": "20x3",
         "rawType": "int64",
         "type": "integer"
        },
        {
         "name": "20x4",
         "rawType": "int64",
         "type": "integer"
        },
        {
         "name": "20x5",
         "rawType": "int64",
         "type": "integer"
        },
        {
         "name": "20x6",
         "rawType": "int64",
         "type": "integer"
        },
        {
         "name": "20x7",
         "rawType": "int64",
         "type": "integer"
        },
        {
         "name": "20x8",
         "rawType": "int64",
         "type": "integer"
        },
        {
         "name": "20x9",
         "rawType": "int64",
         "type": "integer"
        },
        {
         "name": "20x10",
         "rawType": "int64",
         "type": "integer"
        },
        {
         "name": "20x11",
         "rawType": "int64",
         "type": "integer"
        },
        {
         "name": "20x12",
         "rawType": "int64",
         "type": "integer"
        },
        {
         "name": "20x13",
         "rawType": "int64",
         "type": "integer"
        },
        {
         "name": "20x14",
         "rawType": "int64",
         "type": "integer"
        },
        {
         "name": "20x15",
         "rawType": "int64",
         "type": "integer"
        },
        {
         "name": "20x16",
         "rawType": "int64",
         "type": "integer"
        },
        {
         "name": "20x17",
         "rawType": "int64",
         "type": "integer"
        },
        {
         "name": "20x18",
         "rawType": "int64",
         "type": "integer"
        },
        {
         "name": "20x19",
         "rawType": "int64",
         "type": "integer"
        },
        {
         "name": "20x20",
         "rawType": "int64",
         "type": "integer"
        },
        {
         "name": "20x21",
         "rawType": "int64",
         "type": "integer"
        },
        {
         "name": "20x22",
         "rawType": "int64",
         "type": "integer"
        },
        {
         "name": "20x23",
         "rawType": "int64",
         "type": "integer"
        },
        {
         "name": "20x24",
         "rawType": "int64",
         "type": "integer"
        },
        {
         "name": "20x25",
         "rawType": "int64",
         "type": "integer"
        },
        {
         "name": "20x26",
         "rawType": "int64",
         "type": "integer"
        },
        {
         "name": "20x27",
         "rawType": "int64",
         "type": "integer"
        },
        {
         "name": "20x28",
         "rawType": "int64",
         "type": "integer"
        },
        {
         "name": "21x1",
         "rawType": "int64",
         "type": "integer"
        },
        {
         "name": "21x2",
         "rawType": "int64",
         "type": "integer"
        },
        {
         "name": "21x3",
         "rawType": "int64",
         "type": "integer"
        },
        {
         "name": "21x4",
         "rawType": "int64",
         "type": "integer"
        },
        {
         "name": "21x5",
         "rawType": "int64",
         "type": "integer"
        },
        {
         "name": "21x6",
         "rawType": "int64",
         "type": "integer"
        },
        {
         "name": "21x7",
         "rawType": "int64",
         "type": "integer"
        },
        {
         "name": "21x8",
         "rawType": "int64",
         "type": "integer"
        },
        {
         "name": "21x9",
         "rawType": "int64",
         "type": "integer"
        },
        {
         "name": "21x10",
         "rawType": "int64",
         "type": "integer"
        },
        {
         "name": "21x11",
         "rawType": "int64",
         "type": "integer"
        },
        {
         "name": "21x12",
         "rawType": "int64",
         "type": "integer"
        },
        {
         "name": "21x13",
         "rawType": "int64",
         "type": "integer"
        },
        {
         "name": "21x14",
         "rawType": "int64",
         "type": "integer"
        },
        {
         "name": "21x15",
         "rawType": "int64",
         "type": "integer"
        },
        {
         "name": "21x16",
         "rawType": "int64",
         "type": "integer"
        },
        {
         "name": "21x17",
         "rawType": "int64",
         "type": "integer"
        },
        {
         "name": "21x18",
         "rawType": "int64",
         "type": "integer"
        },
        {
         "name": "21x19",
         "rawType": "int64",
         "type": "integer"
        },
        {
         "name": "21x20",
         "rawType": "int64",
         "type": "integer"
        },
        {
         "name": "21x21",
         "rawType": "int64",
         "type": "integer"
        },
        {
         "name": "21x22",
         "rawType": "int64",
         "type": "integer"
        },
        {
         "name": "21x23",
         "rawType": "int64",
         "type": "integer"
        },
        {
         "name": "21x24",
         "rawType": "int64",
         "type": "integer"
        },
        {
         "name": "21x25",
         "rawType": "int64",
         "type": "integer"
        },
        {
         "name": "21x26",
         "rawType": "int64",
         "type": "integer"
        },
        {
         "name": "21x27",
         "rawType": "int64",
         "type": "integer"
        },
        {
         "name": "21x28",
         "rawType": "int64",
         "type": "integer"
        },
        {
         "name": "22x1",
         "rawType": "int64",
         "type": "integer"
        },
        {
         "name": "22x2",
         "rawType": "int64",
         "type": "integer"
        },
        {
         "name": "22x3",
         "rawType": "int64",
         "type": "integer"
        },
        {
         "name": "22x4",
         "rawType": "int64",
         "type": "integer"
        },
        {
         "name": "22x5",
         "rawType": "int64",
         "type": "integer"
        },
        {
         "name": "22x6",
         "rawType": "int64",
         "type": "integer"
        },
        {
         "name": "22x7",
         "rawType": "int64",
         "type": "integer"
        },
        {
         "name": "22x8",
         "rawType": "int64",
         "type": "integer"
        },
        {
         "name": "22x9",
         "rawType": "int64",
         "type": "integer"
        },
        {
         "name": "22x10",
         "rawType": "int64",
         "type": "integer"
        },
        {
         "name": "22x11",
         "rawType": "int64",
         "type": "integer"
        },
        {
         "name": "22x12",
         "rawType": "int64",
         "type": "integer"
        },
        {
         "name": "22x13",
         "rawType": "int64",
         "type": "integer"
        },
        {
         "name": "22x14",
         "rawType": "int64",
         "type": "integer"
        },
        {
         "name": "22x15",
         "rawType": "int64",
         "type": "integer"
        },
        {
         "name": "22x16",
         "rawType": "int64",
         "type": "integer"
        },
        {
         "name": "22x17",
         "rawType": "int64",
         "type": "integer"
        },
        {
         "name": "22x18",
         "rawType": "int64",
         "type": "integer"
        },
        {
         "name": "22x19",
         "rawType": "int64",
         "type": "integer"
        },
        {
         "name": "22x20",
         "rawType": "int64",
         "type": "integer"
        },
        {
         "name": "22x21",
         "rawType": "int64",
         "type": "integer"
        },
        {
         "name": "22x22",
         "rawType": "int64",
         "type": "integer"
        },
        {
         "name": "22x23",
         "rawType": "int64",
         "type": "integer"
        },
        {
         "name": "22x24",
         "rawType": "int64",
         "type": "integer"
        },
        {
         "name": "22x25",
         "rawType": "int64",
         "type": "integer"
        },
        {
         "name": "22x26",
         "rawType": "int64",
         "type": "integer"
        },
        {
         "name": "22x27",
         "rawType": "int64",
         "type": "integer"
        },
        {
         "name": "22x28",
         "rawType": "int64",
         "type": "integer"
        },
        {
         "name": "23x1",
         "rawType": "int64",
         "type": "integer"
        },
        {
         "name": "23x2",
         "rawType": "int64",
         "type": "integer"
        },
        {
         "name": "23x3",
         "rawType": "int64",
         "type": "integer"
        },
        {
         "name": "23x4",
         "rawType": "int64",
         "type": "integer"
        },
        {
         "name": "23x5",
         "rawType": "int64",
         "type": "integer"
        },
        {
         "name": "23x6",
         "rawType": "int64",
         "type": "integer"
        },
        {
         "name": "23x7",
         "rawType": "int64",
         "type": "integer"
        },
        {
         "name": "23x8",
         "rawType": "int64",
         "type": "integer"
        },
        {
         "name": "23x9",
         "rawType": "int64",
         "type": "integer"
        },
        {
         "name": "23x10",
         "rawType": "int64",
         "type": "integer"
        },
        {
         "name": "23x11",
         "rawType": "int64",
         "type": "integer"
        },
        {
         "name": "23x12",
         "rawType": "int64",
         "type": "integer"
        },
        {
         "name": "23x13",
         "rawType": "int64",
         "type": "integer"
        },
        {
         "name": "23x14",
         "rawType": "int64",
         "type": "integer"
        },
        {
         "name": "23x15",
         "rawType": "int64",
         "type": "integer"
        },
        {
         "name": "23x16",
         "rawType": "int64",
         "type": "integer"
        },
        {
         "name": "23x17",
         "rawType": "int64",
         "type": "integer"
        },
        {
         "name": "23x18",
         "rawType": "int64",
         "type": "integer"
        },
        {
         "name": "23x19",
         "rawType": "int64",
         "type": "integer"
        },
        {
         "name": "23x20",
         "rawType": "int64",
         "type": "integer"
        },
        {
         "name": "23x21",
         "rawType": "int64",
         "type": "integer"
        },
        {
         "name": "23x22",
         "rawType": "int64",
         "type": "integer"
        },
        {
         "name": "23x23",
         "rawType": "int64",
         "type": "integer"
        },
        {
         "name": "23x24",
         "rawType": "int64",
         "type": "integer"
        },
        {
         "name": "23x25",
         "rawType": "int64",
         "type": "integer"
        },
        {
         "name": "23x26",
         "rawType": "int64",
         "type": "integer"
        },
        {
         "name": "23x27",
         "rawType": "int64",
         "type": "integer"
        },
        {
         "name": "23x28",
         "rawType": "int64",
         "type": "integer"
        },
        {
         "name": "24x1",
         "rawType": "int64",
         "type": "integer"
        },
        {
         "name": "24x2",
         "rawType": "int64",
         "type": "integer"
        },
        {
         "name": "24x3",
         "rawType": "int64",
         "type": "integer"
        },
        {
         "name": "24x4",
         "rawType": "int64",
         "type": "integer"
        },
        {
         "name": "24x5",
         "rawType": "int64",
         "type": "integer"
        },
        {
         "name": "24x6",
         "rawType": "int64",
         "type": "integer"
        },
        {
         "name": "24x7",
         "rawType": "int64",
         "type": "integer"
        },
        {
         "name": "24x8",
         "rawType": "int64",
         "type": "integer"
        },
        {
         "name": "24x9",
         "rawType": "int64",
         "type": "integer"
        },
        {
         "name": "24x10",
         "rawType": "int64",
         "type": "integer"
        },
        {
         "name": "24x11",
         "rawType": "int64",
         "type": "integer"
        },
        {
         "name": "24x12",
         "rawType": "int64",
         "type": "integer"
        },
        {
         "name": "24x13",
         "rawType": "int64",
         "type": "integer"
        },
        {
         "name": "24x14",
         "rawType": "int64",
         "type": "integer"
        },
        {
         "name": "24x15",
         "rawType": "int64",
         "type": "integer"
        },
        {
         "name": "24x16",
         "rawType": "int64",
         "type": "integer"
        },
        {
         "name": "24x17",
         "rawType": "int64",
         "type": "integer"
        },
        {
         "name": "24x18",
         "rawType": "int64",
         "type": "integer"
        },
        {
         "name": "24x19",
         "rawType": "int64",
         "type": "integer"
        },
        {
         "name": "24x20",
         "rawType": "int64",
         "type": "integer"
        },
        {
         "name": "24x21",
         "rawType": "int64",
         "type": "integer"
        },
        {
         "name": "24x22",
         "rawType": "int64",
         "type": "integer"
        },
        {
         "name": "24x23",
         "rawType": "int64",
         "type": "integer"
        },
        {
         "name": "24x24",
         "rawType": "int64",
         "type": "integer"
        },
        {
         "name": "24x25",
         "rawType": "int64",
         "type": "integer"
        },
        {
         "name": "24x26",
         "rawType": "int64",
         "type": "integer"
        },
        {
         "name": "24x27",
         "rawType": "int64",
         "type": "integer"
        },
        {
         "name": "24x28",
         "rawType": "int64",
         "type": "integer"
        },
        {
         "name": "25x1",
         "rawType": "int64",
         "type": "integer"
        },
        {
         "name": "25x2",
         "rawType": "int64",
         "type": "integer"
        },
        {
         "name": "25x3",
         "rawType": "int64",
         "type": "integer"
        },
        {
         "name": "25x4",
         "rawType": "int64",
         "type": "integer"
        },
        {
         "name": "25x5",
         "rawType": "int64",
         "type": "integer"
        },
        {
         "name": "25x6",
         "rawType": "int64",
         "type": "integer"
        },
        {
         "name": "25x7",
         "rawType": "int64",
         "type": "integer"
        },
        {
         "name": "25x8",
         "rawType": "int64",
         "type": "integer"
        },
        {
         "name": "25x9",
         "rawType": "int64",
         "type": "integer"
        },
        {
         "name": "25x10",
         "rawType": "int64",
         "type": "integer"
        },
        {
         "name": "25x11",
         "rawType": "int64",
         "type": "integer"
        },
        {
         "name": "25x12",
         "rawType": "int64",
         "type": "integer"
        },
        {
         "name": "25x13",
         "rawType": "int64",
         "type": "integer"
        },
        {
         "name": "25x14",
         "rawType": "int64",
         "type": "integer"
        },
        {
         "name": "25x15",
         "rawType": "int64",
         "type": "integer"
        },
        {
         "name": "25x16",
         "rawType": "int64",
         "type": "integer"
        },
        {
         "name": "25x17",
         "rawType": "int64",
         "type": "integer"
        },
        {
         "name": "25x18",
         "rawType": "int64",
         "type": "integer"
        },
        {
         "name": "25x19",
         "rawType": "int64",
         "type": "integer"
        },
        {
         "name": "25x20",
         "rawType": "int64",
         "type": "integer"
        },
        {
         "name": "25x21",
         "rawType": "int64",
         "type": "integer"
        },
        {
         "name": "25x22",
         "rawType": "int64",
         "type": "integer"
        },
        {
         "name": "25x23",
         "rawType": "int64",
         "type": "integer"
        },
        {
         "name": "25x24",
         "rawType": "int64",
         "type": "integer"
        },
        {
         "name": "25x25",
         "rawType": "int64",
         "type": "integer"
        },
        {
         "name": "25x26",
         "rawType": "int64",
         "type": "integer"
        },
        {
         "name": "25x27",
         "rawType": "int64",
         "type": "integer"
        },
        {
         "name": "25x28",
         "rawType": "int64",
         "type": "integer"
        },
        {
         "name": "26x1",
         "rawType": "int64",
         "type": "integer"
        },
        {
         "name": "26x2",
         "rawType": "int64",
         "type": "integer"
        },
        {
         "name": "26x3",
         "rawType": "int64",
         "type": "integer"
        },
        {
         "name": "26x4",
         "rawType": "int64",
         "type": "integer"
        },
        {
         "name": "26x5",
         "rawType": "int64",
         "type": "integer"
        },
        {
         "name": "26x6",
         "rawType": "int64",
         "type": "integer"
        },
        {
         "name": "26x7",
         "rawType": "int64",
         "type": "integer"
        },
        {
         "name": "26x8",
         "rawType": "int64",
         "type": "integer"
        },
        {
         "name": "26x9",
         "rawType": "int64",
         "type": "integer"
        },
        {
         "name": "26x10",
         "rawType": "int64",
         "type": "integer"
        },
        {
         "name": "26x11",
         "rawType": "int64",
         "type": "integer"
        },
        {
         "name": "26x12",
         "rawType": "int64",
         "type": "integer"
        },
        {
         "name": "26x13",
         "rawType": "int64",
         "type": "integer"
        },
        {
         "name": "26x14",
         "rawType": "int64",
         "type": "integer"
        },
        {
         "name": "26x15",
         "rawType": "int64",
         "type": "integer"
        },
        {
         "name": "26x16",
         "rawType": "int64",
         "type": "integer"
        },
        {
         "name": "26x17",
         "rawType": "int64",
         "type": "integer"
        },
        {
         "name": "26x18",
         "rawType": "int64",
         "type": "integer"
        },
        {
         "name": "26x19",
         "rawType": "int64",
         "type": "integer"
        },
        {
         "name": "26x20",
         "rawType": "int64",
         "type": "integer"
        },
        {
         "name": "26x21",
         "rawType": "int64",
         "type": "integer"
        },
        {
         "name": "26x22",
         "rawType": "int64",
         "type": "integer"
        },
        {
         "name": "26x23",
         "rawType": "int64",
         "type": "integer"
        },
        {
         "name": "26x24",
         "rawType": "int64",
         "type": "integer"
        },
        {
         "name": "26x25",
         "rawType": "int64",
         "type": "integer"
        },
        {
         "name": "26x26",
         "rawType": "int64",
         "type": "integer"
        },
        {
         "name": "26x27",
         "rawType": "int64",
         "type": "integer"
        },
        {
         "name": "26x28",
         "rawType": "int64",
         "type": "integer"
        },
        {
         "name": "27x1",
         "rawType": "int64",
         "type": "integer"
        },
        {
         "name": "27x2",
         "rawType": "int64",
         "type": "integer"
        },
        {
         "name": "27x3",
         "rawType": "int64",
         "type": "integer"
        },
        {
         "name": "27x4",
         "rawType": "int64",
         "type": "integer"
        },
        {
         "name": "27x5",
         "rawType": "int64",
         "type": "integer"
        },
        {
         "name": "27x6",
         "rawType": "int64",
         "type": "integer"
        },
        {
         "name": "27x7",
         "rawType": "int64",
         "type": "integer"
        },
        {
         "name": "27x8",
         "rawType": "int64",
         "type": "integer"
        },
        {
         "name": "27x9",
         "rawType": "int64",
         "type": "integer"
        },
        {
         "name": "27x10",
         "rawType": "int64",
         "type": "integer"
        },
        {
         "name": "27x11",
         "rawType": "int64",
         "type": "integer"
        },
        {
         "name": "27x12",
         "rawType": "int64",
         "type": "integer"
        },
        {
         "name": "27x13",
         "rawType": "int64",
         "type": "integer"
        },
        {
         "name": "27x14",
         "rawType": "int64",
         "type": "integer"
        },
        {
         "name": "27x15",
         "rawType": "int64",
         "type": "integer"
        },
        {
         "name": "27x16",
         "rawType": "int64",
         "type": "integer"
        },
        {
         "name": "27x17",
         "rawType": "int64",
         "type": "integer"
        },
        {
         "name": "27x18",
         "rawType": "int64",
         "type": "integer"
        },
        {
         "name": "27x19",
         "rawType": "int64",
         "type": "integer"
        },
        {
         "name": "27x20",
         "rawType": "int64",
         "type": "integer"
        },
        {
         "name": "27x21",
         "rawType": "int64",
         "type": "integer"
        },
        {
         "name": "27x22",
         "rawType": "int64",
         "type": "integer"
        },
        {
         "name": "27x23",
         "rawType": "int64",
         "type": "integer"
        },
        {
         "name": "27x24",
         "rawType": "int64",
         "type": "integer"
        },
        {
         "name": "27x25",
         "rawType": "int64",
         "type": "integer"
        },
        {
         "name": "27x26",
         "rawType": "int64",
         "type": "integer"
        },
        {
         "name": "27x27",
         "rawType": "int64",
         "type": "integer"
        },
        {
         "name": "27x28",
         "rawType": "int64",
         "type": "integer"
        },
        {
         "name": "28x1",
         "rawType": "int64",
         "type": "integer"
        },
        {
         "name": "28x2",
         "rawType": "int64",
         "type": "integer"
        },
        {
         "name": "28x3",
         "rawType": "int64",
         "type": "integer"
        },
        {
         "name": "28x4",
         "rawType": "int64",
         "type": "integer"
        },
        {
         "name": "28x5",
         "rawType": "int64",
         "type": "integer"
        },
        {
         "name": "28x6",
         "rawType": "int64",
         "type": "integer"
        },
        {
         "name": "28x7",
         "rawType": "int64",
         "type": "integer"
        },
        {
         "name": "28x8",
         "rawType": "int64",
         "type": "integer"
        },
        {
         "name": "28x9",
         "rawType": "int64",
         "type": "integer"
        },
        {
         "name": "28x10",
         "rawType": "int64",
         "type": "integer"
        },
        {
         "name": "28x11",
         "rawType": "int64",
         "type": "integer"
        },
        {
         "name": "28x12",
         "rawType": "int64",
         "type": "integer"
        },
        {
         "name": "28x13",
         "rawType": "int64",
         "type": "integer"
        },
        {
         "name": "28x14",
         "rawType": "int64",
         "type": "integer"
        },
        {
         "name": "28x15",
         "rawType": "int64",
         "type": "integer"
        },
        {
         "name": "28x16",
         "rawType": "int64",
         "type": "integer"
        },
        {
         "name": "28x17",
         "rawType": "int64",
         "type": "integer"
        },
        {
         "name": "28x18",
         "rawType": "int64",
         "type": "integer"
        },
        {
         "name": "28x19",
         "rawType": "int64",
         "type": "integer"
        },
        {
         "name": "28x20",
         "rawType": "int64",
         "type": "integer"
        },
        {
         "name": "28x21",
         "rawType": "int64",
         "type": "integer"
        },
        {
         "name": "28x22",
         "rawType": "int64",
         "type": "integer"
        },
        {
         "name": "28x23",
         "rawType": "int64",
         "type": "integer"
        },
        {
         "name": "28x24",
         "rawType": "int64",
         "type": "integer"
        },
        {
         "name": "28x25",
         "rawType": "int64",
         "type": "integer"
        },
        {
         "name": "28x26",
         "rawType": "int64",
         "type": "integer"
        },
        {
         "name": "28x27",
         "rawType": "int64",
         "type": "integer"
        },
        {
         "name": "28x28",
         "rawType": "int64",
         "type": "integer"
        }
       ],
       "ref": "4c290c9f-2e1e-4593-8a2b-051a9ec18148",
       "rows": [
        [
         "0",
         "7",
         "0",
         "0",
         "0",
         "0",
         "0",
         "0",
         "0",
         "0",
         "0",
         "0",
         "0",
         "0",
         "0",
         "0",
         "0",
         "0",
         "0",
         "0",
         "0",
         "0",
         "0",
         "0",
         "0",
         "0",
         "0",
         "0",
         "0",
         "0",
         "0",
         "0",
         "0",
         "0",
         "0",
         "0",
         "0",
         "0",
         "0",
         "0",
         "0",
         "0",
         "0",
         "0",
         "0",
         "0",
         "0",
         "0",
         "0",
         "0",
         "0",
         "0",
         "0",
         "0",
         "0",
         "0",
         "0",
         "0",
         "0",
         "0",
         "0",
         "0",
         "0",
         "0",
         "0",
         "0",
         "0",
         "0",
         "0",
         "0",
         "0",
         "0",
         "0",
         "0",
         "0",
         "0",
         "0",
         "0",
         "0",
         "0",
         "0",
         "0",
         "0",
         "0",
         "0",
         "0",
         "0",
         "0",
         "0",
         "0",
         "0",
         "0",
         "0",
         "0",
         "0",
         "0",
         "0",
         "0",
         "0",
         "0",
         "0",
         "0",
         "0",
         "0",
         "0",
         "0",
         "0",
         "0",
         "0",
         "0",
         "0",
         "0",
         "0",
         "0",
         "0",
         "0",
         "0",
         "0",
         "0",
         "0",
         "0",
         "0",
         "0",
         "0",
         "0",
         "0",
         "0",
         "0",
         "0",
         "0",
         "0",
         "0",
         "0",
         "0",
         "0",
         "0",
         "0",
         "0",
         "0",
         "0",
         "0",
         "0",
         "0",
         "0",
         "0",
         "0",
         "0",
         "0",
         "0",
         "0",
         "0",
         "0",
         "0",
         "0",
         "0",
         "0",
         "0",
         "0",
         "0",
         "0",
         "0",
         "0",
         "0",
         "0",
         "0",
         "0",
         "0",
         "0",
         "0",
         "0",
         "0",
         "0",
         "0",
         "0",
         "0",
         "0",
         "0",
         "0",
         "0",
         "0",
         "0",
         "0",
         "0",
         "0",
         "0",
         "0",
         "0",
         "0",
         "0",
         "0",
         "0",
         "0",
         "0",
         "0",
         "0",
         "0",
         "0",
         "0",
         "0",
         "0",
         "0",
         "0",
         "0",
         "0",
         "84",
         "185",
         "159",
         "151",
         "60",
         "36",
         "0",
         "0",
         "0",
         "0",
         "0",
         "0",
         "0",
         "0",
         "0",
         "0",
         "0",
         "0",
         "0",
         "0",
         "0",
         "0",
         "0",
         "0",
         "0",
         "0",
         "0",
         "0",
         "222",
         "254",
         "254",
         "254",
         "254",
         "241",
         "198",
         "198",
         "198",
         "198",
         "198",
         "198",
         "198",
         "198",
         "170",
         "52",
         "0",
         "0",
         "0",
         "0",
         "0",
         "0",
         "0",
         "0",
         "0",
         "0",
         "0",
         "0",
         "67",
         "114",
         "72",
         "114",
         "163",
         "227",
         "254",
         "225",
         "254",
         "254",
         "254",
         "250",
         "229",
         "254",
         "254",
         "140",
         "0",
         "0",
         "0",
         "0",
         "0",
         "0",
         "0",
         "0",
         "0",
         "0",
         "0",
         "0",
         "0",
         "0",
         "0",
         "0",
         "0",
         "17",
         "66",
         "14",
         "67",
         "67",
         "67",
         "59",
         "21",
         "236",
         "254",
         "106",
         "0",
         "0",
         "0",
         "0",
         "0",
         "0",
         "0",
         "0",
         "0",
         "0",
         "0",
         "0",
         "0",
         "0",
         "0",
         "0",
         "0",
         "0",
         "0",
         "0",
         "0",
         "0",
         "0",
         "0",
         "83",
         "253",
         "209",
         "18",
         "0",
         "0",
         "0",
         "0",
         "0",
         "0",
         "0",
         "0",
         "0",
         "0",
         "0",
         "0",
         "0",
         "0",
         "0",
         "0",
         "0",
         "0",
         "0",
         "0",
         "0",
         "0",
         "0",
         "22",
         "233",
         "255",
         "83",
         "0",
         "0",
         "0",
         "0",
         "0",
         "0",
         "0",
         "0",
         "0",
         "0",
         "0",
         "0",
         "0",
         "0",
         "0",
         "0",
         "0",
         "0",
         "0",
         "0",
         "0",
         "0",
         "0",
         "0",
         "129",
         "254",
         "238",
         "44",
         "0",
         "0",
         "0",
         "0",
         "0",
         "0",
         "0",
         "0",
         "0",
         "0",
         "0",
         "0",
         "0",
         "0",
         "0",
         "0",
         "0",
         "0",
         "0",
         "0",
         "0",
         "0",
         "0",
         "59",
         "249",
         "254",
         "62",
         "0",
         "0",
         "0",
         "0",
         "0",
         "0",
         "0",
         "0",
         "0",
         "0",
         "0",
         "0",
         "0",
         "0",
         "0",
         "0",
         "0",
         "0",
         "0",
         "0",
         "0",
         "0",
         "0",
         "0",
         "133",
         "254",
         "187",
         "5",
         "0",
         "0",
         "0",
         "0",
         "0",
         "0",
         "0",
         "0",
         "0",
         "0",
         "0",
         "0",
         "0",
         "0",
         "0",
         "0",
         "0",
         "0",
         "0",
         "0",
         "0",
         "0",
         "0",
         "9",
         "205",
         "248",
         "58",
         "0",
         "0",
         "0",
         "0",
         "0",
         "0",
         "0",
         "0",
         "0",
         "0",
         "0",
         "0",
         "0",
         "0",
         "0",
         "0",
         "0",
         "0",
         "0",
         "0",
         "0",
         "0",
         "0",
         "0",
         "126",
         "254",
         "182",
         "0",
         "0",
         "0",
         "0",
         "0",
         "0",
         "0",
         "0",
         "0",
         "0",
         "0",
         "0",
         "0",
         "0",
         "0",
         "0",
         "0",
         "0",
         "0",
         "0",
         "0",
         "0",
         "0",
         "0",
         "75",
         "251",
         "240",
         "57",
         "0",
         "0",
         "0",
         "0",
         "0",
         "0",
         "0",
         "0",
         "0",
         "0",
         "0",
         "0",
         "0",
         "0",
         "0",
         "0",
         "0",
         "0",
         "0",
         "0",
         "0",
         "0",
         "0",
         "19",
         "221",
         "254",
         "166",
         "0",
         "0",
         "0",
         "0",
         "0",
         "0",
         "0",
         "0",
         "0",
         "0",
         "0",
         "0",
         "0",
         "0",
         "0",
         "0",
         "0",
         "0",
         "0",
         "0",
         "0",
         "0",
         "0",
         "3",
         "203",
         "254",
         "219",
         "35",
         "0",
         "0",
         "0",
         "0",
         "0",
         "0",
         "0",
         "0",
         "0",
         "0",
         "0",
         "0",
         "0",
         "0",
         "0",
         "0",
         "0",
         "0",
         "0",
         "0",
         "0",
         "0",
         "0",
         "38",
         "254",
         "254",
         "77",
         "0",
         "0",
         "0",
         "0",
         "0",
         "0",
         "0",
         "0",
         "0",
         "0",
         "0",
         "0",
         "0",
         "0",
         "0",
         "0",
         "0",
         "0",
         "0",
         "0",
         "0",
         "0",
         "0",
         "31",
         "224",
         "254",
         "115",
         "1",
         "0",
         "0",
         "0",
         "0",
         "0",
         "0",
         "0",
         "0",
         "0",
         "0",
         "0",
         "0",
         "0",
         "0",
         "0",
         "0",
         "0",
         "0",
         "0",
         "0",
         "0",
         "0",
         "0",
         "133",
         "254",
         "254",
         "52",
         "0",
         "0",
         "0",
         "0",
         "0",
         "0",
         "0",
         "0",
         "0",
         "0",
         "0",
         "0",
         "0",
         "0",
         "0",
         "0",
         "0",
         "0",
         "0",
         "0",
         "0",
         "0",
         "0",
         "61",
         "242",
         "254",
         "254",
         "52",
         "0",
         "0",
         "0",
         "0",
         "0",
         "0",
         "0",
         "0",
         "0",
         "0",
         "0",
         "0",
         "0",
         "0",
         "0",
         "0",
         "0",
         "0",
         "0",
         "0",
         "0",
         "0",
         "0",
         "121",
         "254",
         "254",
         "219",
         "40",
         "0",
         "0",
         "0",
         "0",
         "0",
         "0",
         "0",
         "0",
         "0",
         "0",
         "0",
         "0",
         "0",
         "0",
         "0",
         "0",
         "0",
         "0",
         "0",
         "0",
         "0",
         "0",
         "0",
         "121",
         "254",
         "207",
         "18",
         "0",
         "0",
         "0",
         "0",
         "0",
         "0",
         "0",
         "0",
         "0",
         "0",
         "0",
         "0",
         "0",
         "0",
         "0",
         "0",
         "0",
         "0",
         "0",
         "0",
         "0",
         "0",
         "0",
         "0",
         "0",
         "0",
         "0",
         "0",
         "0",
         "0",
         "0",
         "0",
         "0",
         "0",
         "0",
         "0",
         "0",
         "0",
         "0",
         "0",
         "0",
         "0"
        ],
        [
         "1",
         "2",
         "0",
         "0",
         "0",
         "0",
         "0",
         "0",
         "0",
         "0",
         "0",
         "0",
         "0",
         "0",
         "0",
         "0",
         "0",
         "0",
         "0",
         "0",
         "0",
         "0",
         "0",
         "0",
         "0",
         "0",
         "0",
         "0",
         "0",
         "0",
         "0",
         "0",
         "0",
         "0",
         "0",
         "0",
         "0",
         "0",
         "0",
         "0",
         "0",
         "0",
         "0",
         "0",
         "0",
         "0",
         "0",
         "0",
         "0",
         "0",
         "0",
         "0",
         "0",
         "0",
         "0",
         "0",
         "0",
         "0",
         "0",
         "0",
         "0",
         "0",
         "0",
         "0",
         "0",
         "0",
         "0",
         "0",
         "0",
         "0",
         "0",
         "0",
         "0",
         "0",
         "0",
         "0",
         "0",
         "0",
         "0",
         "0",
         "0",
         "0",
         "0",
         "0",
         "0",
         "0",
         "0",
         "0",
         "0",
         "0",
         "0",
         "0",
         "0",
         "0",
         "0",
         "0",
         "116",
         "125",
         "171",
         "255",
         "255",
         "150",
         "93",
         "0",
         "0",
         "0",
         "0",
         "0",
         "0",
         "0",
         "0",
         "0",
         "0",
         "0",
         "0",
         "0",
         "0",
         "0",
         "0",
         "0",
         "0",
         "0",
         "0",
         "169",
         "253",
         "253",
         "253",
         "253",
         "253",
         "253",
         "218",
         "30",
         "0",
         "0",
         "0",
         "0",
         "0",
         "0",
         "0",
         "0",
         "0",
         "0",
         "0",
         "0",
         "0",
         "0",
         "0",
         "0",
         "0",
         "0",
         "169",
         "253",
         "253",
         "253",
         "213",
         "142",
         "176",
         "253",
         "253",
         "122",
         "0",
         "0",
         "0",
         "0",
         "0",
         "0",
         "0",
         "0",
         "0",
         "0",
         "0",
         "0",
         "0",
         "0",
         "0",
         "0",
         "0",
         "52",
         "250",
         "253",
         "210",
         "32",
         "12",
         "0",
         "6",
         "206",
         "253",
         "140",
         "0",
         "0",
         "0",
         "0",
         "0",
         "0",
         "0",
         "0",
         "0",
         "0",
         "0",
         "0",
         "0",
         "0",
         "0",
         "0",
         "0",
         "77",
         "251",
         "210",
         "25",
         "0",
         "0",
         "0",
         "122",
         "248",
         "253",
         "65",
         "0",
         "0",
         "0",
         "0",
         "0",
         "0",
         "0",
         "0",
         "0",
         "0",
         "0",
         "0",
         "0",
         "0",
         "0",
         "0",
         "0",
         "0",
         "31",
         "18",
         "0",
         "0",
         "0",
         "0",
         "209",
         "253",
         "253",
         "65",
         "0",
         "0",
         "0",
         "0",
         "0",
         "0",
         "0",
         "0",
         "0",
         "0",
         "0",
         "0",
         "0",
         "0",
         "0",
         "0",
         "0",
         "0",
         "0",
         "0",
         "0",
         "0",
         "0",
         "117",
         "247",
         "253",
         "198",
         "10",
         "0",
         "0",
         "0",
         "0",
         "0",
         "0",
         "0",
         "0",
         "0",
         "0",
         "0",
         "0",
         "0",
         "0",
         "0",
         "0",
         "0",
         "0",
         "0",
         "0",
         "0",
         "0",
         "76",
         "247",
         "253",
         "231",
         "63",
         "0",
         "0",
         "0",
         "0",
         "0",
         "0",
         "0",
         "0",
         "0",
         "0",
         "0",
         "0",
         "0",
         "0",
         "0",
         "0",
         "0",
         "0",
         "0",
         "0",
         "0",
         "0",
         "0",
         "128",
         "253",
         "253",
         "144",
         "0",
         "0",
         "0",
         "0",
         "0",
         "0",
         "0",
         "0",
         "0",
         "0",
         "0",
         "0",
         "0",
         "0",
         "0",
         "0",
         "0",
         "0",
         "0",
         "0",
         "0",
         "0",
         "0",
         "176",
         "246",
         "253",
         "159",
         "12",
         "0",
         "0",
         "0",
         "0",
         "0",
         "0",
         "0",
         "0",
         "0",
         "0",
         "0",
         "0",
         "0",
         "0",
         "0",
         "0",
         "0",
         "0",
         "0",
         "0",
         "0",
         "0",
         "25",
         "234",
         "253",
         "233",
         "35",
         "0",
         "0",
         "0",
         "0",
         "0",
         "0",
         "0",
         "0",
         "0",
         "0",
         "0",
         "0",
         "0",
         "0",
         "0",
         "0",
         "0",
         "0",
         "0",
         "0",
         "0",
         "0",
         "0",
         "198",
         "253",
         "253",
         "141",
         "0",
         "0",
         "0",
         "0",
         "0",
         "0",
         "0",
         "0",
         "0",
         "0",
         "0",
         "0",
         "0",
         "0",
         "0",
         "0",
         "0",
         "0",
         "0",
         "0",
         "0",
         "0",
         "0",
         "78",
         "248",
         "253",
         "189",
         "12",
         "0",
         "0",
         "0",
         "0",
         "0",
         "0",
         "0",
         "0",
         "0",
         "0",
         "0",
         "0",
         "0",
         "0",
         "0",
         "0",
         "0",
         "0",
         "0",
         "0",
         "0",
         "0",
         "19",
         "200",
         "253",
         "253",
         "141",
         "0",
         "0",
         "0",
         "0",
         "0",
         "0",
         "0",
         "0",
         "0",
         "0",
         "0",
         "0",
         "0",
         "0",
         "0",
         "0",
         "0",
         "0",
         "0",
         "0",
         "0",
         "0",
         "0",
         "134",
         "253",
         "253",
         "173",
         "12",
         "0",
         "0",
         "0",
         "0",
         "0",
         "0",
         "0",
         "0",
         "0",
         "0",
         "0",
         "0",
         "0",
         "0",
         "0",
         "0",
         "0",
         "0",
         "0",
         "0",
         "0",
         "0",
         "0",
         "248",
         "253",
         "253",
         "25",
         "0",
         "0",
         "0",
         "0",
         "0",
         "0",
         "0",
         "0",
         "0",
         "0",
         "0",
         "0",
         "0",
         "0",
         "0",
         "0",
         "0",
         "0",
         "0",
         "0",
         "0",
         "0",
         "0",
         "0",
         "248",
         "253",
         "253",
         "43",
         "20",
         "20",
         "20",
         "20",
         "5",
         "0",
         "5",
         "20",
         "20",
         "37",
         "150",
         "150",
         "150",
         "147",
         "10",
         "0",
         "0",
         "0",
         "0",
         "0",
         "0",
         "0",
         "0",
         "0",
         "248",
         "253",
         "253",
         "253",
         "253",
         "253",
         "253",
         "253",
         "168",
         "143",
         "166",
         "253",
         "253",
         "253",
         "253",
         "253",
         "253",
         "253",
         "123",
         "0",
         "0",
         "0",
         "0",
         "0",
         "0",
         "0",
         "0",
         "0",
         "174",
         "253",
         "253",
         "253",
         "253",
         "253",
         "253",
         "253",
         "253",
         "253",
         "253",
         "253",
         "249",
         "247",
         "247",
         "169",
         "117",
         "117",
         "57",
         "0",
         "0",
         "0",
         "0",
         "0",
         "0",
         "0",
         "0",
         "0",
         "0",
         "118",
         "123",
         "123",
         "123",
         "166",
         "253",
         "253",
         "253",
         "155",
         "123",
         "123",
         "41",
         "0",
         "0",
         "0",
         "0",
         "0",
         "0",
         "0",
         "0",
         "0",
         "0",
         "0",
         "0",
         "0",
         "0",
         "0",
         "0",
         "0",
         "0",
         "0",
         "0",
         "0",
         "0",
         "0",
         "0",
         "0",
         "0",
         "0",
         "0",
         "0",
         "0",
         "0",
         "0",
         "0",
         "0",
         "0",
         "0",
         "0",
         "0",
         "0",
         "0",
         "0",
         "0",
         "0",
         "0",
         "0",
         "0",
         "0",
         "0",
         "0",
         "0",
         "0",
         "0",
         "0",
         "0",
         "0",
         "0",
         "0",
         "0",
         "0",
         "0",
         "0",
         "0",
         "0",
         "0",
         "0",
         "0",
         "0",
         "0",
         "0",
         "0",
         "0",
         "0",
         "0",
         "0",
         "0",
         "0",
         "0",
         "0",
         "0",
         "0",
         "0",
         "0",
         "0",
         "0",
         "0",
         "0",
         "0",
         "0",
         "0",
         "0",
         "0",
         "0",
         "0",
         "0",
         "0",
         "0",
         "0",
         "0",
         "0",
         "0",
         "0",
         "0",
         "0",
         "0",
         "0",
         "0",
         "0",
         "0",
         "0",
         "0",
         "0",
         "0",
         "0",
         "0",
         "0",
         "0",
         "0",
         "0",
         "0",
         "0",
         "0",
         "0",
         "0",
         "0",
         "0",
         "0",
         "0",
         "0",
         "0",
         "0",
         "0",
         "0",
         "0",
         "0",
         "0",
         "0",
         "0",
         "0",
         "0",
         "0",
         "0",
         "0",
         "0",
         "0",
         "0",
         "0",
         "0"
        ],
        [
         "2",
         "1",
         "0",
         "0",
         "0",
         "0",
         "0",
         "0",
         "0",
         "0",
         "0",
         "0",
         "0",
         "0",
         "0",
         "0",
         "0",
         "0",
         "0",
         "0",
         "0",
         "0",
         "0",
         "0",
         "0",
         "0",
         "0",
         "0",
         "0",
         "0",
         "0",
         "0",
         "0",
         "0",
         "0",
         "0",
         "0",
         "0",
         "0",
         "0",
         "0",
         "0",
         "0",
         "0",
         "0",
         "0",
         "0",
         "0",
         "0",
         "0",
         "0",
         "0",
         "0",
         "0",
         "0",
         "0",
         "0",
         "0",
         "0",
         "0",
         "0",
         "0",
         "0",
         "0",
         "0",
         "0",
         "0",
         "0",
         "0",
         "0",
         "0",
         "0",
         "0",
         "0",
         "0",
         "0",
         "0",
         "0",
         "0",
         "0",
         "0",
         "0",
         "0",
         "0",
         "0",
         "0",
         "0",
         "0",
         "0",
         "0",
         "0",
         "0",
         "0",
         "0",
         "0",
         "0",
         "0",
         "0",
         "0",
         "0",
         "0",
         "0",
         "0",
         "0",
         "0",
         "0",
         "0",
         "0",
         "0",
         "0",
         "0",
         "0",
         "0",
         "0",
         "0",
         "0",
         "0",
         "0",
         "0",
         "0",
         "0",
         "0",
         "0",
         "0",
         "0",
         "0",
         "0",
         "0",
         "0",
         "0",
         "38",
         "254",
         "109",
         "0",
         "0",
         "0",
         "0",
         "0",
         "0",
         "0",
         "0",
         "0",
         "0",
         "0",
         "0",
         "0",
         "0",
         "0",
         "0",
         "0",
         "0",
         "0",
         "0",
         "0",
         "0",
         "0",
         "0",
         "0",
         "87",
         "252",
         "82",
         "0",
         "0",
         "0",
         "0",
         "0",
         "0",
         "0",
         "0",
         "0",
         "0",
         "0",
         "0",
         "0",
         "0",
         "0",
         "0",
         "0",
         "0",
         "0",
         "0",
         "0",
         "0",
         "0",
         "0",
         "0",
         "135",
         "241",
         "0",
         "0",
         "0",
         "0",
         "0",
         "0",
         "0",
         "0",
         "0",
         "0",
         "0",
         "0",
         "0",
         "0",
         "0",
         "0",
         "0",
         "0",
         "0",
         "0",
         "0",
         "0",
         "0",
         "0",
         "0",
         "45",
         "244",
         "150",
         "0",
         "0",
         "0",
         "0",
         "0",
         "0",
         "0",
         "0",
         "0",
         "0",
         "0",
         "0",
         "0",
         "0",
         "0",
         "0",
         "0",
         "0",
         "0",
         "0",
         "0",
         "0",
         "0",
         "0",
         "0",
         "84",
         "254",
         "63",
         "0",
         "0",
         "0",
         "0",
         "0",
         "0",
         "0",
         "0",
         "0",
         "0",
         "0",
         "0",
         "0",
         "0",
         "0",
         "0",
         "0",
         "0",
         "0",
         "0",
         "0",
         "0",
         "0",
         "0",
         "0",
         "202",
         "223",
         "11",
         "0",
         "0",
         "0",
         "0",
         "0",
         "0",
         "0",
         "0",
         "0",
         "0",
         "0",
         "0",
         "0",
         "0",
         "0",
         "0",
         "0",
         "0",
         "0",
         "0",
         "0",
         "0",
         "0",
         "0",
         "32",
         "254",
         "216",
         "0",
         "0",
         "0",
         "0",
         "0",
         "0",
         "0",
         "0",
         "0",
         "0",
         "0",
         "0",
         "0",
         "0",
         "0",
         "0",
         "0",
         "0",
         "0",
         "0",
         "0",
         "0",
         "0",
         "0",
         "0",
         "95",
         "254",
         "195",
         "0",
         "0",
         "0",
         "0",
         "0",
         "0",
         "0",
         "0",
         "0",
         "0",
         "0",
         "0",
         "0",
         "0",
         "0",
         "0",
         "0",
         "0",
         "0",
         "0",
         "0",
         "0",
         "0",
         "0",
         "0",
         "140",
         "254",
         "77",
         "0",
         "0",
         "0",
         "0",
         "0",
         "0",
         "0",
         "0",
         "0",
         "0",
         "0",
         "0",
         "0",
         "0",
         "0",
         "0",
         "0",
         "0",
         "0",
         "0",
         "0",
         "0",
         "0",
         "0",
         "57",
         "237",
         "205",
         "8",
         "0",
         "0",
         "0",
         "0",
         "0",
         "0",
         "0",
         "0",
         "0",
         "0",
         "0",
         "0",
         "0",
         "0",
         "0",
         "0",
         "0",
         "0",
         "0",
         "0",
         "0",
         "0",
         "0",
         "0",
         "124",
         "255",
         "165",
         "0",
         "0",
         "0",
         "0",
         "0",
         "0",
         "0",
         "0",
         "0",
         "0",
         "0",
         "0",
         "0",
         "0",
         "0",
         "0",
         "0",
         "0",
         "0",
         "0",
         "0",
         "0",
         "0",
         "0",
         "0",
         "171",
         "254",
         "81",
         "0",
         "0",
         "0",
         "0",
         "0",
         "0",
         "0",
         "0",
         "0",
         "0",
         "0",
         "0",
         "0",
         "0",
         "0",
         "0",
         "0",
         "0",
         "0",
         "0",
         "0",
         "0",
         "0",
         "0",
         "24",
         "232",
         "215",
         "0",
         "0",
         "0",
         "0",
         "0",
         "0",
         "0",
         "0",
         "0",
         "0",
         "0",
         "0",
         "0",
         "0",
         "0",
         "0",
         "0",
         "0",
         "0",
         "0",
         "0",
         "0",
         "0",
         "0",
         "0",
         "120",
         "254",
         "159",
         "0",
         "0",
         "0",
         "0",
         "0",
         "0",
         "0",
         "0",
         "0",
         "0",
         "0",
         "0",
         "0",
         "0",
         "0",
         "0",
         "0",
         "0",
         "0",
         "0",
         "0",
         "0",
         "0",
         "0",
         "0",
         "151",
         "254",
         "142",
         "0",
         "0",
         "0",
         "0",
         "0",
         "0",
         "0",
         "0",
         "0",
         "0",
         "0",
         "0",
         "0",
         "0",
         "0",
         "0",
         "0",
         "0",
         "0",
         "0",
         "0",
         "0",
         "0",
         "0",
         "0",
         "228",
         "254",
         "66",
         "0",
         "0",
         "0",
         "0",
         "0",
         "0",
         "0",
         "0",
         "0",
         "0",
         "0",
         "0",
         "0",
         "0",
         "0",
         "0",
         "0",
         "0",
         "0",
         "0",
         "0",
         "0",
         "0",
         "0",
         "61",
         "251",
         "254",
         "66",
         "0",
         "0",
         "0",
         "0",
         "0",
         "0",
         "0",
         "0",
         "0",
         "0",
         "0",
         "0",
         "0",
         "0",
         "0",
         "0",
         "0",
         "0",
         "0",
         "0",
         "0",
         "0",
         "0",
         "0",
         "141",
         "254",
         "205",
         "3",
         "0",
         "0",
         "0",
         "0",
         "0",
         "0",
         "0",
         "0",
         "0",
         "0",
         "0",
         "0",
         "0",
         "0",
         "0",
         "0",
         "0",
         "0",
         "0",
         "0",
         "0",
         "0",
         "0",
         "10",
         "215",
         "254",
         "121",
         "0",
         "0",
         "0",
         "0",
         "0",
         "0",
         "0",
         "0",
         "0",
         "0",
         "0",
         "0",
         "0",
         "0",
         "0",
         "0",
         "0",
         "0",
         "0",
         "0",
         "0",
         "0",
         "0",
         "0",
         "5",
         "198",
         "176",
         "10",
         "0",
         "0",
         "0",
         "0",
         "0",
         "0",
         "0",
         "0",
         "0",
         "0",
         "0",
         "0",
         "0",
         "0",
         "0",
         "0",
         "0",
         "0",
         "0",
         "0",
         "0",
         "0",
         "0",
         "0",
         "0",
         "0",
         "0",
         "0",
         "0",
         "0",
         "0",
         "0",
         "0",
         "0",
         "0",
         "0",
         "0",
         "0",
         "0",
         "0",
         "0",
         "0",
         "0",
         "0",
         "0",
         "0",
         "0",
         "0",
         "0",
         "0",
         "0",
         "0",
         "0",
         "0",
         "0",
         "0",
         "0",
         "0",
         "0",
         "0",
         "0",
         "0",
         "0",
         "0",
         "0",
         "0",
         "0",
         "0",
         "0",
         "0",
         "0",
         "0",
         "0",
         "0",
         "0",
         "0",
         "0",
         "0",
         "0",
         "0",
         "0",
         "0",
         "0",
         "0",
         "0",
         "0",
         "0",
         "0",
         "0",
         "0",
         "0",
         "0",
         "0",
         "0",
         "0",
         "0",
         "0",
         "0",
         "0",
         "0",
         "0",
         "0",
         "0",
         "0",
         "0",
         "0",
         "0",
         "0",
         "0",
         "0",
         "0",
         "0",
         "0",
         "0",
         "0",
         "0",
         "0",
         "0",
         "0",
         "0",
         "0",
         "0",
         "0",
         "0",
         "0",
         "0"
        ],
        [
         "3",
         "0",
         "0",
         "0",
         "0",
         "0",
         "0",
         "0",
         "0",
         "0",
         "0",
         "0",
         "0",
         "0",
         "0",
         "0",
         "0",
         "0",
         "0",
         "0",
         "0",
         "0",
         "0",
         "0",
         "0",
         "0",
         "0",
         "0",
         "0",
         "0",
         "0",
         "0",
         "0",
         "0",
         "0",
         "0",
         "0",
         "0",
         "0",
         "0",
         "0",
         "0",
         "0",
         "0",
         "0",
         "0",
         "0",
         "0",
         "0",
         "0",
         "0",
         "0",
         "0",
         "0",
         "0",
         "0",
         "0",
         "0",
         "0",
         "0",
         "0",
         "0",
         "0",
         "0",
         "0",
         "0",
         "0",
         "0",
         "0",
         "0",
         "0",
         "0",
         "0",
         "0",
         "0",
         "0",
         "0",
         "0",
         "0",
         "0",
         "0",
         "0",
         "0",
         "0",
         "0",
         "0",
         "0",
         "0",
         "0",
         "0",
         "0",
         "0",
         "0",
         "0",
         "0",
         "0",
         "0",
         "0",
         "0",
         "0",
         "0",
         "0",
         "0",
         "0",
         "0",
         "0",
         "0",
         "0",
         "0",
         "0",
         "0",
         "0",
         "0",
         "0",
         "0",
         "0",
         "0",
         "0",
         "0",
         "0",
         "0",
         "0",
         "0",
         "0",
         "0",
         "0",
         "11",
         "150",
         "253",
         "202",
         "31",
         "0",
         "0",
         "0",
         "0",
         "0",
         "0",
         "0",
         "0",
         "0",
         "0",
         "0",
         "0",
         "0",
         "0",
         "0",
         "0",
         "0",
         "0",
         "0",
         "0",
         "0",
         "0",
         "0",
         "37",
         "251",
         "251",
         "253",
         "107",
         "0",
         "0",
         "0",
         "0",
         "0",
         "0",
         "0",
         "0",
         "0",
         "0",
         "0",
         "0",
         "0",
         "0",
         "0",
         "0",
         "0",
         "0",
         "0",
         "0",
         "0",
         "0",
         "21",
         "197",
         "251",
         "251",
         "253",
         "107",
         "0",
         "0",
         "0",
         "0",
         "0",
         "0",
         "0",
         "0",
         "0",
         "0",
         "0",
         "0",
         "0",
         "0",
         "0",
         "0",
         "0",
         "0",
         "0",
         "0",
         "0",
         "110",
         "190",
         "251",
         "251",
         "251",
         "253",
         "169",
         "109",
         "62",
         "0",
         "0",
         "0",
         "0",
         "0",
         "0",
         "0",
         "0",
         "0",
         "0",
         "0",
         "0",
         "0",
         "0",
         "0",
         "0",
         "0",
         "0",
         "0",
         "253",
         "251",
         "251",
         "251",
         "251",
         "253",
         "251",
         "251",
         "220",
         "51",
         "0",
         "0",
         "0",
         "0",
         "0",
         "0",
         "0",
         "0",
         "0",
         "0",
         "0",
         "0",
         "0",
         "0",
         "0",
         "0",
         "0",
         "182",
         "255",
         "253",
         "253",
         "253",
         "253",
         "234",
         "222",
         "253",
         "253",
         "253",
         "0",
         "0",
         "0",
         "0",
         "0",
         "0",
         "0",
         "0",
         "0",
         "0",
         "0",
         "0",
         "0",
         "0",
         "0",
         "0",
         "63",
         "221",
         "253",
         "251",
         "251",
         "251",
         "147",
         "77",
         "62",
         "128",
         "251",
         "251",
         "105",
         "0",
         "0",
         "0",
         "0",
         "0",
         "0",
         "0",
         "0",
         "0",
         "0",
         "0",
         "0",
         "0",
         "0",
         "32",
         "231",
         "251",
         "253",
         "251",
         "220",
         "137",
         "10",
         "0",
         "0",
         "31",
         "230",
         "251",
         "243",
         "113",
         "5",
         "0",
         "0",
         "0",
         "0",
         "0",
         "0",
         "0",
         "0",
         "0",
         "0",
         "0",
         "0",
         "37",
         "251",
         "251",
         "253",
         "188",
         "20",
         "0",
         "0",
         "0",
         "0",
         "0",
         "109",
         "251",
         "253",
         "251",
         "35",
         "0",
         "0",
         "0",
         "0",
         "0",
         "0",
         "0",
         "0",
         "0",
         "0",
         "0",
         "0",
         "37",
         "251",
         "251",
         "201",
         "30",
         "0",
         "0",
         "0",
         "0",
         "0",
         "0",
         "31",
         "200",
         "253",
         "251",
         "35",
         "0",
         "0",
         "0",
         "0",
         "0",
         "0",
         "0",
         "0",
         "0",
         "0",
         "0",
         "0",
         "37",
         "253",
         "253",
         "0",
         "0",
         "0",
         "0",
         "0",
         "0",
         "0",
         "0",
         "32",
         "202",
         "255",
         "253",
         "164",
         "0",
         "0",
         "0",
         "0",
         "0",
         "0",
         "0",
         "0",
         "0",
         "0",
         "0",
         "0",
         "140",
         "251",
         "251",
         "0",
         "0",
         "0",
         "0",
         "0",
         "0",
         "0",
         "0",
         "109",
         "251",
         "253",
         "251",
         "35",
         "0",
         "0",
         "0",
         "0",
         "0",
         "0",
         "0",
         "0",
         "0",
         "0",
         "0",
         "0",
         "217",
         "251",
         "251",
         "0",
         "0",
         "0",
         "0",
         "0",
         "0",
         "21",
         "63",
         "231",
         "251",
         "253",
         "230",
         "30",
         "0",
         "0",
         "0",
         "0",
         "0",
         "0",
         "0",
         "0",
         "0",
         "0",
         "0",
         "0",
         "217",
         "251",
         "251",
         "0",
         "0",
         "0",
         "0",
         "0",
         "0",
         "144",
         "251",
         "251",
         "251",
         "221",
         "61",
         "0",
         "0",
         "0",
         "0",
         "0",
         "0",
         "0",
         "0",
         "0",
         "0",
         "0",
         "0",
         "0",
         "217",
         "251",
         "251",
         "0",
         "0",
         "0",
         "0",
         "0",
         "182",
         "221",
         "251",
         "251",
         "251",
         "180",
         "0",
         "0",
         "0",
         "0",
         "0",
         "0",
         "0",
         "0",
         "0",
         "0",
         "0",
         "0",
         "0",
         "0",
         "218",
         "253",
         "253",
         "73",
         "73",
         "228",
         "253",
         "253",
         "255",
         "253",
         "253",
         "253",
         "253",
         "0",
         "0",
         "0",
         "0",
         "0",
         "0",
         "0",
         "0",
         "0",
         "0",
         "0",
         "0",
         "0",
         "0",
         "0",
         "113",
         "251",
         "251",
         "253",
         "251",
         "251",
         "251",
         "251",
         "253",
         "251",
         "251",
         "251",
         "147",
         "0",
         "0",
         "0",
         "0",
         "0",
         "0",
         "0",
         "0",
         "0",
         "0",
         "0",
         "0",
         "0",
         "0",
         "0",
         "31",
         "230",
         "251",
         "253",
         "251",
         "251",
         "251",
         "251",
         "253",
         "230",
         "189",
         "35",
         "10",
         "0",
         "0",
         "0",
         "0",
         "0",
         "0",
         "0",
         "0",
         "0",
         "0",
         "0",
         "0",
         "0",
         "0",
         "0",
         "0",
         "62",
         "142",
         "253",
         "251",
         "251",
         "251",
         "251",
         "253",
         "107",
         "0",
         "0",
         "0",
         "0",
         "0",
         "0",
         "0",
         "0",
         "0",
         "0",
         "0",
         "0",
         "0",
         "0",
         "0",
         "0",
         "0",
         "0",
         "0",
         "0",
         "0",
         "72",
         "174",
         "251",
         "173",
         "71",
         "72",
         "30",
         "0",
         "0",
         "0",
         "0",
         "0",
         "0",
         "0",
         "0",
         "0",
         "0",
         "0",
         "0",
         "0",
         "0",
         "0",
         "0",
         "0",
         "0",
         "0",
         "0",
         "0",
         "0",
         "0",
         "0",
         "0",
         "0",
         "0",
         "0",
         "0",
         "0",
         "0",
         "0",
         "0",
         "0",
         "0",
         "0",
         "0",
         "0",
         "0",
         "0",
         "0",
         "0",
         "0",
         "0",
         "0",
         "0",
         "0",
         "0",
         "0",
         "0",
         "0",
         "0",
         "0",
         "0",
         "0",
         "0",
         "0",
         "0",
         "0",
         "0",
         "0",
         "0",
         "0",
         "0",
         "0",
         "0",
         "0",
         "0",
         "0",
         "0",
         "0",
         "0",
         "0",
         "0",
         "0",
         "0",
         "0",
         "0",
         "0",
         "0",
         "0",
         "0",
         "0",
         "0",
         "0",
         "0",
         "0",
         "0",
         "0",
         "0",
         "0",
         "0",
         "0",
         "0",
         "0",
         "0",
         "0",
         "0",
         "0",
         "0",
         "0",
         "0",
         "0",
         "0",
         "0",
         "0",
         "0",
         "0",
         "0",
         "0",
         "0",
         "0",
         "0",
         "0",
         "0",
         "0",
         "0",
         "0",
         "0",
         "0",
         "0",
         "0",
         "0"
        ],
        [
         "4",
         "4",
         "0",
         "0",
         "0",
         "0",
         "0",
         "0",
         "0",
         "0",
         "0",
         "0",
         "0",
         "0",
         "0",
         "0",
         "0",
         "0",
         "0",
         "0",
         "0",
         "0",
         "0",
         "0",
         "0",
         "0",
         "0",
         "0",
         "0",
         "0",
         "0",
         "0",
         "0",
         "0",
         "0",
         "0",
         "0",
         "0",
         "0",
         "0",
         "0",
         "0",
         "0",
         "0",
         "0",
         "0",
         "0",
         "0",
         "0",
         "0",
         "0",
         "0",
         "0",
         "0",
         "0",
         "0",
         "0",
         "0",
         "0",
         "0",
         "0",
         "0",
         "0",
         "0",
         "0",
         "0",
         "0",
         "0",
         "0",
         "0",
         "0",
         "0",
         "0",
         "0",
         "0",
         "0",
         "0",
         "0",
         "0",
         "0",
         "0",
         "0",
         "0",
         "0",
         "0",
         "0",
         "0",
         "0",
         "0",
         "0",
         "0",
         "0",
         "0",
         "0",
         "0",
         "0",
         "0",
         "0",
         "0",
         "0",
         "0",
         "0",
         "0",
         "0",
         "0",
         "0",
         "0",
         "0",
         "0",
         "0",
         "0",
         "0",
         "0",
         "0",
         "0",
         "0",
         "0",
         "0",
         "0",
         "0",
         "0",
         "0",
         "0",
         "0",
         "0",
         "0",
         "0",
         "0",
         "0",
         "0",
         "0",
         "0",
         "0",
         "0",
         "0",
         "0",
         "0",
         "0",
         "0",
         "0",
         "0",
         "0",
         "0",
         "0",
         "0",
         "0",
         "0",
         "0",
         "0",
         "0",
         "0",
         "0",
         "50",
         "224",
         "0",
         "0",
         "0",
         "0",
         "0",
         "0",
         "0",
         "70",
         "29",
         "0",
         "0",
         "0",
         "0",
         "0",
         "0",
         "0",
         "0",
         "0",
         "0",
         "0",
         "0",
         "0",
         "0",
         "0",
         "0",
         "0",
         "121",
         "231",
         "0",
         "0",
         "0",
         "0",
         "0",
         "0",
         "0",
         "148",
         "168",
         "0",
         "0",
         "0",
         "0",
         "0",
         "0",
         "0",
         "0",
         "0",
         "0",
         "0",
         "0",
         "0",
         "0",
         "0",
         "0",
         "4",
         "195",
         "231",
         "0",
         "0",
         "0",
         "0",
         "0",
         "0",
         "0",
         "96",
         "210",
         "11",
         "0",
         "0",
         "0",
         "0",
         "0",
         "0",
         "0",
         "0",
         "0",
         "0",
         "0",
         "0",
         "0",
         "0",
         "0",
         "69",
         "252",
         "134",
         "0",
         "0",
         "0",
         "0",
         "0",
         "0",
         "0",
         "114",
         "252",
         "21",
         "0",
         "0",
         "0",
         "0",
         "0",
         "0",
         "0",
         "0",
         "0",
         "0",
         "0",
         "0",
         "0",
         "0",
         "45",
         "236",
         "217",
         "12",
         "0",
         "0",
         "0",
         "0",
         "0",
         "0",
         "0",
         "192",
         "252",
         "21",
         "0",
         "0",
         "0",
         "0",
         "0",
         "0",
         "0",
         "0",
         "0",
         "0",
         "0",
         "0",
         "0",
         "0",
         "168",
         "247",
         "53",
         "0",
         "0",
         "0",
         "0",
         "0",
         "0",
         "0",
         "18",
         "255",
         "253",
         "21",
         "0",
         "0",
         "0",
         "0",
         "0",
         "0",
         "0",
         "0",
         "0",
         "0",
         "0",
         "0",
         "0",
         "84",
         "242",
         "211",
         "0",
         "0",
         "0",
         "0",
         "0",
         "0",
         "0",
         "0",
         "141",
         "253",
         "189",
         "5",
         "0",
         "0",
         "0",
         "0",
         "0",
         "0",
         "0",
         "0",
         "0",
         "0",
         "0",
         "0",
         "0",
         "169",
         "252",
         "106",
         "0",
         "0",
         "0",
         "0",
         "0",
         "0",
         "0",
         "32",
         "232",
         "250",
         "66",
         "0",
         "0",
         "0",
         "0",
         "0",
         "0",
         "0",
         "0",
         "0",
         "0",
         "0",
         "0",
         "0",
         "15",
         "225",
         "252",
         "0",
         "0",
         "0",
         "0",
         "0",
         "0",
         "0",
         "0",
         "134",
         "252",
         "211",
         "0",
         "0",
         "0",
         "0",
         "0",
         "0",
         "0",
         "0",
         "0",
         "0",
         "0",
         "0",
         "0",
         "0",
         "22",
         "252",
         "164",
         "0",
         "0",
         "0",
         "0",
         "0",
         "0",
         "0",
         "0",
         "169",
         "252",
         "167",
         "0",
         "0",
         "0",
         "0",
         "0",
         "0",
         "0",
         "0",
         "0",
         "0",
         "0",
         "0",
         "0",
         "0",
         "9",
         "204",
         "209",
         "18",
         "0",
         "0",
         "0",
         "0",
         "0",
         "0",
         "22",
         "253",
         "253",
         "107",
         "0",
         "0",
         "0",
         "0",
         "0",
         "0",
         "0",
         "0",
         "0",
         "0",
         "0",
         "0",
         "0",
         "0",
         "0",
         "169",
         "252",
         "199",
         "85",
         "85",
         "85",
         "85",
         "129",
         "164",
         "195",
         "252",
         "252",
         "106",
         "0",
         "0",
         "0",
         "0",
         "0",
         "0",
         "0",
         "0",
         "0",
         "0",
         "0",
         "0",
         "0",
         "0",
         "0",
         "41",
         "170",
         "245",
         "252",
         "252",
         "252",
         "252",
         "232",
         "231",
         "251",
         "252",
         "252",
         "9",
         "0",
         "0",
         "0",
         "0",
         "0",
         "0",
         "0",
         "0",
         "0",
         "0",
         "0",
         "0",
         "0",
         "0",
         "0",
         "0",
         "0",
         "49",
         "84",
         "84",
         "84",
         "84",
         "0",
         "0",
         "161",
         "252",
         "252",
         "0",
         "0",
         "0",
         "0",
         "0",
         "0",
         "0",
         "0",
         "0",
         "0",
         "0",
         "0",
         "0",
         "0",
         "0",
         "0",
         "0",
         "0",
         "0",
         "0",
         "0",
         "0",
         "0",
         "0",
         "0",
         "127",
         "252",
         "252",
         "45",
         "0",
         "0",
         "0",
         "0",
         "0",
         "0",
         "0",
         "0",
         "0",
         "0",
         "0",
         "0",
         "0",
         "0",
         "0",
         "0",
         "0",
         "0",
         "0",
         "0",
         "0",
         "0",
         "0",
         "0",
         "128",
         "253",
         "253",
         "0",
         "0",
         "0",
         "0",
         "0",
         "0",
         "0",
         "0",
         "0",
         "0",
         "0",
         "0",
         "0",
         "0",
         "0",
         "0",
         "0",
         "0",
         "0",
         "0",
         "0",
         "0",
         "0",
         "0",
         "0",
         "127",
         "252",
         "252",
         "0",
         "0",
         "0",
         "0",
         "0",
         "0",
         "0",
         "0",
         "0",
         "0",
         "0",
         "0",
         "0",
         "0",
         "0",
         "0",
         "0",
         "0",
         "0",
         "0",
         "0",
         "0",
         "0",
         "0",
         "0",
         "135",
         "252",
         "244",
         "0",
         "0",
         "0",
         "0",
         "0",
         "0",
         "0",
         "0",
         "0",
         "0",
         "0",
         "0",
         "0",
         "0",
         "0",
         "0",
         "0",
         "0",
         "0",
         "0",
         "0",
         "0",
         "0",
         "0",
         "0",
         "232",
         "236",
         "111",
         "0",
         "0",
         "0",
         "0",
         "0",
         "0",
         "0",
         "0",
         "0",
         "0",
         "0",
         "0",
         "0",
         "0",
         "0",
         "0",
         "0",
         "0",
         "0",
         "0",
         "0",
         "0",
         "0",
         "0",
         "0",
         "179",
         "66",
         "0",
         "0",
         "0",
         "0",
         "0",
         "0",
         "0",
         "0",
         "0",
         "0",
         "0",
         "0",
         "0",
         "0",
         "0",
         "0",
         "0",
         "0",
         "0",
         "0",
         "0",
         "0",
         "0",
         "0",
         "0",
         "0",
         "0",
         "0",
         "0",
         "0",
         "0",
         "0",
         "0",
         "0",
         "0",
         "0",
         "0",
         "0",
         "0",
         "0",
         "0",
         "0",
         "0",
         "0",
         "0",
         "0",
         "0",
         "0",
         "0",
         "0",
         "0",
         "0",
         "0",
         "0",
         "0",
         "0",
         "0",
         "0",
         "0",
         "0",
         "0",
         "0",
         "0",
         "0",
         "0",
         "0",
         "0",
         "0",
         "0",
         "0",
         "0",
         "0",
         "0",
         "0",
         "0",
         "0",
         "0",
         "0",
         "0",
         "0",
         "0",
         "0",
         "0",
         "0",
         "0",
         "0",
         "0",
         "0",
         "0",
         "0",
         "0",
         "0",
         "0",
         "0"
        ]
       ],
       "shape": {
        "columns": 785,
        "rows": 5
       }
      },
      "text/html": [
       "<div>\n",
       "<style scoped>\n",
       "    .dataframe tbody tr th:only-of-type {\n",
       "        vertical-align: middle;\n",
       "    }\n",
       "\n",
       "    .dataframe tbody tr th {\n",
       "        vertical-align: top;\n",
       "    }\n",
       "\n",
       "    .dataframe thead th {\n",
       "        text-align: right;\n",
       "    }\n",
       "</style>\n",
       "<table border=\"1\" class=\"dataframe\">\n",
       "  <thead>\n",
       "    <tr style=\"text-align: right;\">\n",
       "      <th></th>\n",
       "      <th>label</th>\n",
       "      <th>1x1</th>\n",
       "      <th>1x2</th>\n",
       "      <th>1x3</th>\n",
       "      <th>1x4</th>\n",
       "      <th>1x5</th>\n",
       "      <th>1x6</th>\n",
       "      <th>1x7</th>\n",
       "      <th>1x8</th>\n",
       "      <th>1x9</th>\n",
       "      <th>...</th>\n",
       "      <th>28x19</th>\n",
       "      <th>28x20</th>\n",
       "      <th>28x21</th>\n",
       "      <th>28x22</th>\n",
       "      <th>28x23</th>\n",
       "      <th>28x24</th>\n",
       "      <th>28x25</th>\n",
       "      <th>28x26</th>\n",
       "      <th>28x27</th>\n",
       "      <th>28x28</th>\n",
       "    </tr>\n",
       "  </thead>\n",
       "  <tbody>\n",
       "    <tr>\n",
       "      <th>0</th>\n",
       "      <td>7</td>\n",
       "      <td>0</td>\n",
       "      <td>0</td>\n",
       "      <td>0</td>\n",
       "      <td>0</td>\n",
       "      <td>0</td>\n",
       "      <td>0</td>\n",
       "      <td>0</td>\n",
       "      <td>0</td>\n",
       "      <td>0</td>\n",
       "      <td>...</td>\n",
       "      <td>0</td>\n",
       "      <td>0</td>\n",
       "      <td>0</td>\n",
       "      <td>0</td>\n",
       "      <td>0</td>\n",
       "      <td>0</td>\n",
       "      <td>0</td>\n",
       "      <td>0</td>\n",
       "      <td>0</td>\n",
       "      <td>0</td>\n",
       "    </tr>\n",
       "    <tr>\n",
       "      <th>1</th>\n",
       "      <td>2</td>\n",
       "      <td>0</td>\n",
       "      <td>0</td>\n",
       "      <td>0</td>\n",
       "      <td>0</td>\n",
       "      <td>0</td>\n",
       "      <td>0</td>\n",
       "      <td>0</td>\n",
       "      <td>0</td>\n",
       "      <td>0</td>\n",
       "      <td>...</td>\n",
       "      <td>0</td>\n",
       "      <td>0</td>\n",
       "      <td>0</td>\n",
       "      <td>0</td>\n",
       "      <td>0</td>\n",
       "      <td>0</td>\n",
       "      <td>0</td>\n",
       "      <td>0</td>\n",
       "      <td>0</td>\n",
       "      <td>0</td>\n",
       "    </tr>\n",
       "    <tr>\n",
       "      <th>2</th>\n",
       "      <td>1</td>\n",
       "      <td>0</td>\n",
       "      <td>0</td>\n",
       "      <td>0</td>\n",
       "      <td>0</td>\n",
       "      <td>0</td>\n",
       "      <td>0</td>\n",
       "      <td>0</td>\n",
       "      <td>0</td>\n",
       "      <td>0</td>\n",
       "      <td>...</td>\n",
       "      <td>0</td>\n",
       "      <td>0</td>\n",
       "      <td>0</td>\n",
       "      <td>0</td>\n",
       "      <td>0</td>\n",
       "      <td>0</td>\n",
       "      <td>0</td>\n",
       "      <td>0</td>\n",
       "      <td>0</td>\n",
       "      <td>0</td>\n",
       "    </tr>\n",
       "    <tr>\n",
       "      <th>3</th>\n",
       "      <td>0</td>\n",
       "      <td>0</td>\n",
       "      <td>0</td>\n",
       "      <td>0</td>\n",
       "      <td>0</td>\n",
       "      <td>0</td>\n",
       "      <td>0</td>\n",
       "      <td>0</td>\n",
       "      <td>0</td>\n",
       "      <td>0</td>\n",
       "      <td>...</td>\n",
       "      <td>0</td>\n",
       "      <td>0</td>\n",
       "      <td>0</td>\n",
       "      <td>0</td>\n",
       "      <td>0</td>\n",
       "      <td>0</td>\n",
       "      <td>0</td>\n",
       "      <td>0</td>\n",
       "      <td>0</td>\n",
       "      <td>0</td>\n",
       "    </tr>\n",
       "    <tr>\n",
       "      <th>4</th>\n",
       "      <td>4</td>\n",
       "      <td>0</td>\n",
       "      <td>0</td>\n",
       "      <td>0</td>\n",
       "      <td>0</td>\n",
       "      <td>0</td>\n",
       "      <td>0</td>\n",
       "      <td>0</td>\n",
       "      <td>0</td>\n",
       "      <td>0</td>\n",
       "      <td>...</td>\n",
       "      <td>0</td>\n",
       "      <td>0</td>\n",
       "      <td>0</td>\n",
       "      <td>0</td>\n",
       "      <td>0</td>\n",
       "      <td>0</td>\n",
       "      <td>0</td>\n",
       "      <td>0</td>\n",
       "      <td>0</td>\n",
       "      <td>0</td>\n",
       "    </tr>\n",
       "  </tbody>\n",
       "</table>\n",
       "<p>5 rows × 785 columns</p>\n",
       "</div>"
      ],
      "text/plain": [
       "   label  1x1  1x2  1x3  1x4  1x5  1x6  1x7  1x8  1x9  ...  28x19  28x20  \\\n",
       "0      7    0    0    0    0    0    0    0    0    0  ...      0      0   \n",
       "1      2    0    0    0    0    0    0    0    0    0  ...      0      0   \n",
       "2      1    0    0    0    0    0    0    0    0    0  ...      0      0   \n",
       "3      0    0    0    0    0    0    0    0    0    0  ...      0      0   \n",
       "4      4    0    0    0    0    0    0    0    0    0  ...      0      0   \n",
       "\n",
       "   28x21  28x22  28x23  28x24  28x25  28x26  28x27  28x28  \n",
       "0      0      0      0      0      0      0      0      0  \n",
       "1      0      0      0      0      0      0      0      0  \n",
       "2      0      0      0      0      0      0      0      0  \n",
       "3      0      0      0      0      0      0      0      0  \n",
       "4      0      0      0      0      0      0      0      0  \n",
       "\n",
       "[5 rows x 785 columns]"
      ]
     },
     "execution_count": 3,
     "metadata": {},
     "output_type": "execute_result"
    }
   ],
   "source": [
    "test_data = pd.read_csv(Path(\"data\") / \"mnist\" / \"mnist_test.csv\")\n",
    "test_data.head()"
   ]
  },
  {
   "cell_type": "code",
   "execution_count": 4,
   "id": "38a0fc39",
   "metadata": {},
   "outputs": [
    {
     "name": "stdout",
     "output_type": "stream",
     "text": [
      "Labels shape: (60000,)\n",
      "x_train shape: (60000, 784)\n"
     ]
    }
   ],
   "source": [
    "# Separate the labels\n",
    "labels = np.array(data.iloc[:, 0])\n",
    "print(f\"Labels shape: {labels.shape}\")\n",
    "\n",
    "# Remaining data (image values) and normalized\n",
    "x_train = np.array(data.iloc[:, 1:]) / 255\n",
    "print(f\"x_train shape: {x_train.shape}\")"
   ]
  },
  {
   "cell_type": "code",
   "execution_count": 5,
   "id": "64975fe2",
   "metadata": {},
   "outputs": [
    {
     "name": "stdout",
     "output_type": "stream",
     "text": [
      "Test labels shape: (10000,)\n",
      "Test labels shape: (10000, 784)\n"
     ]
    }
   ],
   "source": [
    "test_labels = np.array(test_data.iloc[:, 0])\n",
    "print(f\"Test labels shape: {test_labels.shape}\")\n",
    "\n",
    "x_test = np.array(test_data.iloc[:, 1:]) / 255\n",
    "print(f\"Test labels shape: {x_test.shape}\")"
   ]
  },
  {
   "cell_type": "code",
   "execution_count": 6,
   "id": "354cf275",
   "metadata": {},
   "outputs": [
    {
     "name": "stdout",
     "output_type": "stream",
     "text": [
      "Encoded labels shape: (60000, 10)\n"
     ]
    }
   ],
   "source": [
    "# One-hot encoding\n",
    "encoded_labels = []\n",
    "\n",
    "for i in range(len(labels)):\n",
    "    naked = [0, 0, 0, 0, 0, 0, 0, 0, 0, 0]\n",
    "    naked[labels[i]] = 1\n",
    "    encoded_labels.append(naked)\n",
    "\n",
    "print(f\"Encoded labels shape: {np.array(encoded_labels).shape}\")"
   ]
  },
  {
   "cell_type": "code",
   "execution_count": 7,
   "id": "c00328c3",
   "metadata": {},
   "outputs": [
    {
     "data": {
      "text/plain": [
       "<matplotlib.image.AxesImage at 0x12a8492e0>"
      ]
     },
     "execution_count": 7,
     "metadata": {},
     "output_type": "execute_result"
    },
    {
     "data": {
      "image/png": "[encoded data removed]",
      "text/plain": [
       "<Figure size 640x480 with 1 Axes>"
      ]
     },
     "metadata": {},
     "output_type": "display_data"
    }
   ],
   "source": [
    "# Take a look at what the images look like\n",
    "random_index = np.random.randint(0, 40_000)  # pick randomly\n",
    "img = x_train[random_index].reshape(28, 28)\n",
    "plt.imshow(img, cmap=\"gray\")"
   ]
  },
  {
   "cell_type": "markdown",
   "id": "1567c95b",
   "metadata": {},
   "source": [
    "## Original Neural Net Training\n"
   ]
  },
  {
   "cell_type": "code",
   "execution_count": 8,
   "id": "528245ac",
   "metadata": {},
   "outputs": [],
   "source": [
    "# DNN model with 3 layers: 784 input, 1250 hidden, 10 output\n",
    "model_1 = DNN([784, 1250, 10])"
   ]
  },
  {
   "cell_type": "code",
   "execution_count": 9,
   "id": "df195cc4",
   "metadata": {},
   "outputs": [],
   "source": [
    "# Double ended queue (doubly linked list; supports fast appends and pops from both ends of the collection)\n",
    "# A deque is just a list that stays at specified units long (last item gets deleted when a new item gets added when at max length)\n",
    "error = deque(maxlen=30000)"
   ]
  },
  {
   "cell_type": "code",
   "execution_count": 10,
   "id": "46acf433",
   "metadata": {},
   "outputs": [
    {
     "name": "stdout",
     "output_type": "stream",
     "text": [
      "-------------\n",
      "nStep: 0\n",
      "Average Error: 0.009\n",
      "True Label: 5\n",
      "Prediction: 2\n",
      "-------------\n",
      "nStep: 10,000\n",
      "Average Error: 8.946\n",
      "True Label: 2\n",
      "Prediction: 6\n",
      "-------------\n",
      "nStep: 20,000\n",
      "Average Error: 13.812\n",
      "True Label: 4\n",
      "Prediction: 4\n"
     ]
    }
   ],
   "source": [
    "for n in range(30_000):\n",
    "    index = np.random.randint(0, 59998)\n",
    "    error.append(model_1.train(x_train[index], encoded_labels[index]))\n",
    "\n",
    "    if n % 10_000 == 0:  # Print every few steps\n",
    "        print(\"-\" * 13)\n",
    "        print(f\"nStep: {n:,}\")\n",
    "        print(f\"Average Error: {sum(error) / 1000:.3f}\")\n",
    "\n",
    "        print(f\"True Label: {np.argmax(encoded_labels[index])}\")\n",
    "        print(f\"Prediction: {np.argmax(model_1.predict(x_train[index]))}\")\n",
    "\n",
    "        # plt.imshow(x_train[index].reshape(28, 28), cmap=\"gray\")\n",
    "        # plt.show()"
   ]
  },
  {
   "cell_type": "code",
   "execution_count": 11,
   "id": "9bdb8076",
   "metadata": {},
   "outputs": [
    {
     "data": {
      "text/plain": [
       "[<matplotlib.lines.Line2D at 0x12f3908f0>]"
      ]
     },
     "execution_count": 11,
     "metadata": {},
     "output_type": "execute_result"
    },
    {
     "data": {
      "image/png": "[encoded data removed]",
      "text/plain": [
       "<Figure size 640x480 with 1 Axes>"
      ]
     },
     "metadata": {},
     "output_type": "display_data"
    }
   ],
   "source": [
    "# Plot error for training\n",
    "plt.plot(error)"
   ]
  },
  {
   "cell_type": "markdown",
   "id": "fe4d33ea",
   "metadata": {},
   "source": [
    "## Original Neural Net Test\n"
   ]
  },
  {
   "cell_type": "code",
   "execution_count": 12,
   "id": "2e69de45",
   "metadata": {},
   "outputs": [
    {
     "name": "stdout",
     "output_type": "stream",
     "text": [
      "Percent correct: 87.60%\n"
     ]
    }
   ],
   "source": [
    "correct = 0\n",
    "\n",
    "for i in range(len(test_data)):\n",
    "    prediction = np.argmax(model_1.predict(x_test[i]))\n",
    "    if prediction == test_labels[i]:\n",
    "        correct += 1\n",
    "\n",
    "percent_correct = correct / len(test_data) * 100\n",
    "print(f\"Percent correct: {percent_correct:.2f}%\")"
   ]
  },
  {
   "cell_type": "code",
   "execution_count": 13,
   "id": "fb42e5be",
   "metadata": {},
   "outputs": [
    {
     "data": {
      "image/png": "[encoded data removed]",
      "text/plain": [
       "<Figure size 640x480 with 1 Axes>"
      ]
     },
     "metadata": {},
     "output_type": "display_data"
    }
   ],
   "source": [
    "# Random sample image, with title and captions\n",
    "index = np.random.randint(0, len(test_data))\n",
    "img = x_test[index].reshape(28, 28)\n",
    "plt.imshow(img, cmap=\"gray\")\n",
    "\n",
    "plt.title(f\"Random Test Image (Index {index:,})\")\n",
    "caption_text = f\"True Label: {test_labels[index]}; Prediction: {np.argmax(model_1.predict(x_test[index]))}\"\n",
    "plt.figtext(\n",
    "    0.5, 0.01, caption_text, wrap=True, horizontalalignment=\"center\", fontsize=10\n",
    ")\n",
    "\n",
    "plt.savefig(Path(\"outputs\") / \"random_test_image.png\", dpi=300)\n",
    "plt.show()"
   ]
  },
  {
   "cell_type": "markdown",
   "id": "ebf7b1aa",
   "metadata": {},
   "source": [
    "## Enhanced Neural Net\n",
    "\n",
    "_With the same neural network architecture with the same number of hidden layers, if you increase the number of neurons in the hidden layers, does the network performance improve, stay the same, or degrade?_\n"
   ]
  },
  {
   "cell_type": "code",
   "execution_count": null,
   "id": "0a26dee3",
   "metadata": {},
   "outputs": [],
   "source": [
    "# Experiment: Varying Hidden Layer Neurons\n",
    "\n",
    "# 1. Define a list of hidden layer neuron counts to test\n",
    "# Including the original 1250 for comparison\n",
    "hidden_neuron_counts = [\n",
    "    100,\n",
    "    250,\n",
    "    500,\n",
    "    750,\n",
    "    1000,\n",
    "    1250,\n",
    "    1500,\n",
    "    2000,\n",
    "    5000,\n",
    "    7500,\n",
    "    10_000,\n",
    "    12_500,\n",
    "]"
   ]
  },
  {
   "cell_type": "code",
   "execution_count": 19,
   "id": "63fc6e9b",
   "metadata": {},
   "outputs": [],
   "source": [
    "# 2. Store results\n",
    "results = {\"hidden_neurons\": [], \"final_avg_train_error\": [], \"test_accuracy\": []}"
   ]
  },
  {
   "cell_type": "code",
   "execution_count": 20,
   "id": "5139b8ce",
   "metadata": {},
   "outputs": [
    {
     "name": "stdout",
     "output_type": "stream",
     "text": [
      "\n",
      "Starting Experiment: Varying Hidden Layer Neurons\n",
      "\n",
      "Training model with 100 hidden neurons\n",
      "  Step: 0, Current Average Training Error: 3.173\n",
      "  Step: 10,000, Current Average Training Error: 0.924\n",
      "  Step: 20,000, Current Average Training Error: 0.898\n",
      "  Final Average Training Error: 0.845\n",
      "  Test Accuracy: 46.53%\n",
      "\n",
      "Training model with 250 hidden neurons\n",
      "  Step: 0, Current Average Training Error: 4.231\n",
      "  Step: 10,000, Current Average Training Error: 0.913\n",
      "  Step: 20,000, Current Average Training Error: 0.731\n",
      "  Final Average Training Error: 0.472\n",
      "  Test Accuracy: 81.02%\n",
      "\n",
      "Training model with 500 hidden neurons\n",
      "  Step: 0, Current Average Training Error: 6.202\n",
      "  Step: 10,000, Current Average Training Error: 0.900\n",
      "  Step: 20,000, Current Average Training Error: 0.615\n",
      "  Final Average Training Error: 0.374\n",
      "  Test Accuracy: 86.87%\n",
      "\n",
      "Training model with 750 hidden neurons\n",
      "  Step: 0, Current Average Training Error: 7.477\n",
      "  Step: 10,000, Current Average Training Error: 0.883\n",
      "  Step: 20,000, Current Average Training Error: 0.557\n",
      "  Final Average Training Error: 0.337\n",
      "  Test Accuracy: 87.09%\n",
      "\n",
      "Training model with 1000 hidden neurons\n",
      "  Step: 0, Current Average Training Error: 8.100\n",
      "  Step: 10,000, Current Average Training Error: 0.877\n",
      "  Step: 20,000, Current Average Training Error: 0.516\n",
      "  Final Average Training Error: 0.327\n",
      "  Test Accuracy: 87.08%\n",
      "\n",
      "Training model with 1250 hidden neurons\n",
      "  Step: 0, Current Average Training Error: 8.693\n",
      "  Step: 10,000, Current Average Training Error: 0.892\n",
      "  Step: 20,000, Current Average Training Error: 0.495\n",
      "  Final Average Training Error: 0.313\n",
      "  Test Accuracy: 87.99%\n",
      "\n",
      "Training model with 1500 hidden neurons\n",
      "  Step: 0, Current Average Training Error: 8.855\n",
      "  Step: 10,000, Current Average Training Error: 0.921\n",
      "  Step: 20,000, Current Average Training Error: 0.477\n",
      "  Final Average Training Error: 0.306\n",
      "  Test Accuracy: 87.41%\n",
      "\n",
      "Training model with 2000 hidden neurons\n",
      "  Step: 0, Current Average Training Error: 8.957\n",
      "  Step: 10,000, Current Average Training Error: 1.101\n",
      "  Step: 20,000, Current Average Training Error: 0.453\n",
      "  Final Average Training Error: 0.301\n",
      "  Test Accuracy: 87.88%\n",
      "\n",
      "Training model with 5000 hidden neurons\n",
      "  Step: 0, Current Average Training Error: 9.000\n",
      "  Step: 10,000, Current Average Training Error: 9.000\n",
      "  Step: 20,000, Current Average Training Error: 9.000\n",
      "  Final Average Training Error: 9.000\n",
      "  Test Accuracy: 9.80%\n",
      "\n",
      "Training model with 7500 hidden neurons\n",
      "  Step: 0, Current Average Training Error: 9.000\n",
      "  Step: 10,000, Current Average Training Error: 9.000\n",
      "  Step: 20,000, Current Average Training Error: 9.000\n",
      "  Final Average Training Error: 9.000\n",
      "  Test Accuracy: 10.09%\n",
      "\n",
      "Training model with 10000 hidden neurons\n",
      "  Step: 0, Current Average Training Error: 9.000\n",
      "  Step: 10,000, Current Average Training Error: 9.000\n",
      "  Step: 20,000, Current Average Training Error: 9.000\n",
      "  Final Average Training Error: 9.000\n",
      "  Test Accuracy: 10.36%\n",
      "\n",
      "Training model with 12500 hidden neurons\n",
      "  Step: 0, Current Average Training Error: 9.000\n",
      "  Step: 10,000, Current Average Training Error: 9.000\n",
      "  Step: 20,000, Current Average Training Error: 9.000\n",
      "  Final Average Training Error: 9.000\n",
      "  Test Accuracy: 10.03%\n",
      "\n",
      "Experiment Finished\n"
     ]
    }
   ],
   "source": [
    "# 3. Loop through each neuron count\n",
    "print(\"\\nStarting Experiment: Varying Hidden Layer Neurons\")\n",
    "for num_neurons in hidden_neuron_counts:\n",
    "    print(f\"\\nTraining model with {num_neurons} hidden neurons\")\n",
    "\n",
    "    # a. Initialize model\n",
    "    # Input layer: 784 (28*28 pixels)\n",
    "    # Hidden layer: num_neurons\n",
    "    # Output layer: 10 (digits 0-9)\n",
    "    model = DNN([784, num_neurons, 10])\n",
    "\n",
    "    # b. Train model for the smaller number of steps as the original example, for faster training\n",
    "    error_deque = deque(maxlen=10_000)  # Reset deque for each model\n",
    "    num_training_steps = 30_000\n",
    "\n",
    "    for n in range(num_training_steps):\n",
    "        index = np.random.randint(0, 59998)  # Randomly pick a training example\n",
    "        error_deque.append(model.train(x_train[index], encoded_labels[index]))\n",
    "\n",
    "        if n % 10_000 == 0:\n",
    "            # Calculate true average error for reporting\n",
    "            current_avg_error = sum(error_deque) / len(error_deque)\n",
    "            print(\n",
    "                f\"  Step: {n:,}, Current Average Training Error: {current_avg_error:.3f}\"\n",
    "            )\n",
    "\n",
    "    final_avg_train_error = sum(error_deque) / len(error_deque)\n",
    "    print(f\"  Final Average Training Error: {final_avg_train_error:.3f}\")\n",
    "\n",
    "    # c. Evaluate on test set\n",
    "    correct = 0\n",
    "    for i in range(len(test_data)):\n",
    "        prediction = np.argmax(model.predict(x_test[i]))\n",
    "        if prediction == test_labels[i]:\n",
    "            correct += 1\n",
    "    percent_correct = correct / len(test_data) * 100\n",
    "    print(f\"  Test Accuracy: {percent_correct:.2f}%\")\n",
    "\n",
    "    # d. Store results\n",
    "    results[\"hidden_neurons\"].append(num_neurons)\n",
    "    results[\"final_avg_train_error\"].append(final_avg_train_error)\n",
    "    results[\"test_accuracy\"].append(percent_correct)\n",
    "\n",
    "print(\"\\nExperiment Finished\")"
   ]
  },
  {
   "cell_type": "code",
   "execution_count": 23,
   "id": "335f8fd0",
   "metadata": {},
   "outputs": [
    {
     "data": {
      "image/png": "[encoded data removed]",
      "text/plain": [
       "<Figure size 1200x700 with 1 Axes>"
      ]
     },
     "metadata": {},
     "output_type": "display_data"
    },
    {
     "data": {
      "image/png": "[encoded data removed]",
      "text/plain": [
       "<Figure size 1200x700 with 1 Axes>"
      ]
     },
     "metadata": {},
     "output_type": "display_data"
    }
   ],
   "source": [
    "# 4. Generate figures\n",
    "# Convert results to a DataFrame for easier plotting\n",
    "results_df = pd.DataFrame(results)\n",
    "\n",
    "# Plot 1: Test Accuracy vs. Hidden Neurons\n",
    "plt.figure(figsize=(12, 7))\n",
    "plt.plot(\n",
    "    results_df[\"hidden_neurons\"],\n",
    "    results_df[\"test_accuracy\"],\n",
    "    marker=\"o\",\n",
    "    linestyle=\"-\",\n",
    "    color=\"skyblue\",\n",
    ")\n",
    "plt.title(\"Network Test Accuracy vs. Number of Hidden Neurons\", fontsize=16)\n",
    "plt.xlabel(\"Number of Neurons in Hidden Layer\", fontsize=14)\n",
    "plt.ylabel(\"Test Accuracy (%)\", fontsize=14)\n",
    "plt.grid(True, linestyle=\"--\", alpha=0.7)\n",
    "plt.xticks(results_df[\"hidden_neurons\"], rotation=45, ha=\"right\")\n",
    "\n",
    "# Get the current axes\n",
    "ax = plt.gca()\n",
    "\n",
    "# Use MaxNLocator to automatically determine a good number of ticks (e.g., max 10 ticks)\n",
    "ax.yaxis.set_major_locator(mticker.MaxNLocator(nbins=10))\n",
    "\n",
    "# Set y-axis limits with some padding to prevent data points from touching the edges\n",
    "min_acc = results_df[\"test_accuracy\"].min()\n",
    "max_acc = results_df[\"test_accuracy\"].max()\n",
    "# Calculate padding as 10% of the data range, or a default of 1.0 if range is zero\n",
    "padding = (max_acc - min_acc) * 0.1\n",
    "if padding == 0:\n",
    "    padding = 1.0  # Default padding if all accuracies are the same\n",
    "ax.set_ylim(min_acc - padding, max_acc + padding)\n",
    "\n",
    "# Ensure limits don't go below 0% or above 100% for accuracy\n",
    "if ax.get_ylim()[0] < 0:\n",
    "    ax.set_ylim(0, ax.get_ylim()[1])\n",
    "if ax.get_ylim()[1] > 100:\n",
    "    ax.set_ylim(ax.get_ylim()[0], 100)\n",
    "\n",
    "plt.tight_layout()\n",
    "plt.savefig(Path(\"outputs\") / \"accuracy_vs_hidden_neurons.png\", dpi=300)\n",
    "plt.show()\n",
    "\n",
    "# Plot 2: Training Error vs. Hidden Neurons\n",
    "plt.figure(figsize=(12, 7))\n",
    "plt.plot(\n",
    "    results_df[\"hidden_neurons\"],\n",
    "    results_df[\"final_avg_train_error\"],\n",
    "    marker=\"o\",\n",
    "    linestyle=\"-\",\n",
    "    color=\"salmon\",\n",
    ")\n",
    "plt.title(\"Network Training Error vs. Number of Hidden Neurons\", fontsize=16)\n",
    "plt.xlabel(\"Number of Neurons in Hidden Layer\", fontsize=14)\n",
    "plt.ylabel(\"Final Average Training MSE\", fontsize=14)\n",
    "plt.grid(True, linestyle=\"--\", alpha=0.7)\n",
    "plt.xticks(results_df[\"hidden_neurons\"], rotation=45, ha=\"right\")\n",
    "plt.tight_layout()\n",
    "plt.savefig(Path(\"outputs\") / \"training_error_vs_hidden_neurons.png\", dpi=300)\n",
    "plt.show()"
   ]
  }
 ],
 "metadata": {
  "kernelspec": {
   "display_name": "neural-network-applications",
   "language": "python",
   "name": "python3"
  },
  "language_info": {
   "codemirror_mode": {
    "name": "ipython",
    "version": 3
   },
   "file_extension": ".py",
   "mimetype": "text/x-python",
   "name": "python",
   "nbconvert_exporter": "python",
   "pygments_lexer": "ipython3",
   "version": "3.12.10"
  }
 },
 "nbformat": 4,
 "nbformat_minor": 5
}
